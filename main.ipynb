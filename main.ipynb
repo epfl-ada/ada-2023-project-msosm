{
 "cells": [
  {
   "cell_type": "code",
   "execution_count": 3,
   "id": "099519f7-c61d-4841-a572-0905886f600e",
   "metadata": {
    "tags": []
   },
   "outputs": [],
   "source": [
    "%load_ext autoreload\n",
    "%autoreload 2\n",
    "\n",
    "import pandas as pd\n",
    "import numpy as np\n",
    "import matplotlib.pyplot as plt\n",
    "import seaborn as sns\n",
    "from datetime import datetime\n",
    "from sklearn.linear_model import LinearRegression\n",
    "import xml.etree.ElementTree as ET\n",
    "import time\n",
    "import json\n",
    "import tarfile\n",
    "import gzip\n",
    "import os\n",
    "\n",
    "from data_preprocessing import * \n",
    "from imdb_ratings_scraper import *\n",
    "import load_functions as lf\n"
   ]
  },
  {
   "cell_type": "markdown",
   "id": "4adb64cc-5141-49eb-a2a0-de39c350cd0d",
   "metadata": {
    "tags": []
   },
   "source": [
    "# Load data"
   ]
  },
  {
   "cell_type": "markdown",
   "id": "d9dd6c5d-e851-4c43-873c-5411c679c181",
   "metadata": {
    "tags": []
   },
   "source": [
    "## Movie Summaries"
   ]
  },
  {
   "cell_type": "code",
   "execution_count": 5,
   "id": "f51c06c0-33c5-4c9a-88cb-79d563e6441f",
   "metadata": {
    "tags": []
   },
   "outputs": [],
   "source": [
    "data_folder = './data/MovieSummaries/'\n",
    "(movie_metadata, character_metadata, name_clusters, plot_summaries, test_data) = \\\n",
    "    lf.load_movie_summaries(data_folder)\n",
    "\n",
    "# add release year (float) to movie_metadata, extracting it from release_date\n",
    "movie_metadata['release_year'] = movie_metadata['release_date'].apply(lambda x: lf.extract_year(x))\n",
    "# add lowecase title to movie_metadata\n",
    "movie_metadata['lowercase_title'] = movie_metadata['movie_name'].str.lower()\n",
    "\n",
    "# add release year (float) to character_metadata, extracting it from release_date\n",
    "character_metadata['release_year'] = character_metadata['release_date'].apply(lambda x: lf.extract_year(x))\n",
    "# add actor birth year (float) to character_metadata, extracting it from actor_birth_date\n",
    "character_metadata['actor_birth_year'] = character_metadata['actor_birth_date'].apply(lambda x: lf.extract_year(x))"
   ]
  },
  {
   "cell_type": "markdown",
   "id": "b820ca42-0156-4a66-b89e-c50d28c9833b",
   "metadata": {},
   "source": [
    "Metadata for 81 741 movies, extracted from the Noverber 4, 2012 dump of Freebase:\n",
    "1. Wikipedia movie ID\n",
    "2. Freebase movie ID\n",
    "3. Movie name\n",
    "4. Movie release date\n",
    "5. Movie box office revenue\n",
    "6. Movie runtime\n",
    "7. Movie languages (Freebase ID:name tuples)\n",
    "8. Movie countries (Freebase ID:name tuples)\n",
    "9. Movie genres (Freebase ID:name tuples)\n",
    "10. Movie release year\n",
    "11. Lowercase title"
   ]
  },
  {
   "cell_type": "code",
   "execution_count": 6,
   "id": "d1fa2f68-80aa-40bb-b7b2-2b7fc40eb5b0",
   "metadata": {
    "tags": []
   },
   "outputs": [
    {
     "data": {
      "text/html": [
       "<div>\n",
       "<style scoped>\n",
       "    .dataframe tbody tr th:only-of-type {\n",
       "        vertical-align: middle;\n",
       "    }\n",
       "\n",
       "    .dataframe tbody tr th {\n",
       "        vertical-align: top;\n",
       "    }\n",
       "\n",
       "    .dataframe thead th {\n",
       "        text-align: right;\n",
       "    }\n",
       "</style>\n",
       "<table border=\"1\" class=\"dataframe\">\n",
       "  <thead>\n",
       "    <tr style=\"text-align: right;\">\n",
       "      <th></th>\n",
       "      <th>wiki_movie_id</th>\n",
       "      <th>free_movie_id</th>\n",
       "      <th>movie_name</th>\n",
       "      <th>release_date</th>\n",
       "      <th>box_office_revenue</th>\n",
       "      <th>runtime</th>\n",
       "      <th>languages</th>\n",
       "      <th>countries</th>\n",
       "      <th>genres</th>\n",
       "      <th>release_year</th>\n",
       "      <th>lowercase_title</th>\n",
       "    </tr>\n",
       "  </thead>\n",
       "  <tbody>\n",
       "    <tr>\n",
       "      <th>0</th>\n",
       "      <td>975900</td>\n",
       "      <td>/m/03vyhn</td>\n",
       "      <td>Ghosts of Mars</td>\n",
       "      <td>2001-08-24</td>\n",
       "      <td>14010832.0</td>\n",
       "      <td>98.0</td>\n",
       "      <td>{\"/m/02h40lc\": \"English Language\"}</td>\n",
       "      <td>{\"/m/09c7w0\": \"United States of America\"}</td>\n",
       "      <td>{\"/m/01jfsb\": \"Thriller\", \"/m/06n90\": \"Science...</td>\n",
       "      <td>2001.0</td>\n",
       "      <td>ghosts of mars</td>\n",
       "    </tr>\n",
       "    <tr>\n",
       "      <th>1</th>\n",
       "      <td>3196793</td>\n",
       "      <td>/m/08yl5d</td>\n",
       "      <td>Getting Away with Murder: The JonBenét Ramsey ...</td>\n",
       "      <td>2000-02-16</td>\n",
       "      <td>NaN</td>\n",
       "      <td>95.0</td>\n",
       "      <td>{\"/m/02h40lc\": \"English Language\"}</td>\n",
       "      <td>{\"/m/09c7w0\": \"United States of America\"}</td>\n",
       "      <td>{\"/m/02n4kr\": \"Mystery\", \"/m/03bxz7\": \"Biograp...</td>\n",
       "      <td>2000.0</td>\n",
       "      <td>getting away with murder: the jonbenét ramsey ...</td>\n",
       "    </tr>\n",
       "    <tr>\n",
       "      <th>2</th>\n",
       "      <td>28463795</td>\n",
       "      <td>/m/0crgdbh</td>\n",
       "      <td>Brun bitter</td>\n",
       "      <td>1988</td>\n",
       "      <td>NaN</td>\n",
       "      <td>83.0</td>\n",
       "      <td>{\"/m/05f_3\": \"Norwegian Language\"}</td>\n",
       "      <td>{\"/m/05b4w\": \"Norway\"}</td>\n",
       "      <td>{\"/m/0lsxr\": \"Crime Fiction\", \"/m/07s9rl0\": \"D...</td>\n",
       "      <td>1988.0</td>\n",
       "      <td>brun bitter</td>\n",
       "    </tr>\n",
       "    <tr>\n",
       "      <th>3</th>\n",
       "      <td>9363483</td>\n",
       "      <td>/m/0285_cd</td>\n",
       "      <td>White Of The Eye</td>\n",
       "      <td>1987</td>\n",
       "      <td>NaN</td>\n",
       "      <td>110.0</td>\n",
       "      <td>{\"/m/02h40lc\": \"English Language\"}</td>\n",
       "      <td>{\"/m/07ssc\": \"United Kingdom\"}</td>\n",
       "      <td>{\"/m/01jfsb\": \"Thriller\", \"/m/0glj9q\": \"Erotic...</td>\n",
       "      <td>1987.0</td>\n",
       "      <td>white of the eye</td>\n",
       "    </tr>\n",
       "    <tr>\n",
       "      <th>4</th>\n",
       "      <td>261236</td>\n",
       "      <td>/m/01mrr1</td>\n",
       "      <td>A Woman in Flames</td>\n",
       "      <td>1983</td>\n",
       "      <td>NaN</td>\n",
       "      <td>106.0</td>\n",
       "      <td>{\"/m/04306rv\": \"German Language\"}</td>\n",
       "      <td>{\"/m/0345h\": \"Germany\"}</td>\n",
       "      <td>{\"/m/07s9rl0\": \"Drama\"}</td>\n",
       "      <td>1983.0</td>\n",
       "      <td>a woman in flames</td>\n",
       "    </tr>\n",
       "  </tbody>\n",
       "</table>\n",
       "</div>"
      ],
      "text/plain": [
       "   wiki_movie_id free_movie_id  \\\n",
       "0         975900     /m/03vyhn   \n",
       "1        3196793     /m/08yl5d   \n",
       "2       28463795    /m/0crgdbh   \n",
       "3        9363483    /m/0285_cd   \n",
       "4         261236     /m/01mrr1   \n",
       "\n",
       "                                          movie_name release_date  \\\n",
       "0                                     Ghosts of Mars   2001-08-24   \n",
       "1  Getting Away with Murder: The JonBenét Ramsey ...   2000-02-16   \n",
       "2                                        Brun bitter         1988   \n",
       "3                                   White Of The Eye         1987   \n",
       "4                                  A Woman in Flames         1983   \n",
       "\n",
       "   box_office_revenue  runtime                           languages  \\\n",
       "0          14010832.0     98.0  {\"/m/02h40lc\": \"English Language\"}   \n",
       "1                 NaN     95.0  {\"/m/02h40lc\": \"English Language\"}   \n",
       "2                 NaN     83.0  {\"/m/05f_3\": \"Norwegian Language\"}   \n",
       "3                 NaN    110.0  {\"/m/02h40lc\": \"English Language\"}   \n",
       "4                 NaN    106.0   {\"/m/04306rv\": \"German Language\"}   \n",
       "\n",
       "                                   countries  \\\n",
       "0  {\"/m/09c7w0\": \"United States of America\"}   \n",
       "1  {\"/m/09c7w0\": \"United States of America\"}   \n",
       "2                     {\"/m/05b4w\": \"Norway\"}   \n",
       "3             {\"/m/07ssc\": \"United Kingdom\"}   \n",
       "4                    {\"/m/0345h\": \"Germany\"}   \n",
       "\n",
       "                                              genres  release_year  \\\n",
       "0  {\"/m/01jfsb\": \"Thriller\", \"/m/06n90\": \"Science...        2001.0   \n",
       "1  {\"/m/02n4kr\": \"Mystery\", \"/m/03bxz7\": \"Biograp...        2000.0   \n",
       "2  {\"/m/0lsxr\": \"Crime Fiction\", \"/m/07s9rl0\": \"D...        1988.0   \n",
       "3  {\"/m/01jfsb\": \"Thriller\", \"/m/0glj9q\": \"Erotic...        1987.0   \n",
       "4                            {\"/m/07s9rl0\": \"Drama\"}        1983.0   \n",
       "\n",
       "                                     lowercase_title  \n",
       "0                                     ghosts of mars  \n",
       "1  getting away with murder: the jonbenét ramsey ...  \n",
       "2                                        brun bitter  \n",
       "3                                   white of the eye  \n",
       "4                                  a woman in flames  "
      ]
     },
     "execution_count": 6,
     "metadata": {},
     "output_type": "execute_result"
    }
   ],
   "source": [
    "movie_metadata.head()"
   ]
  },
  {
   "cell_type": "markdown",
   "id": "ad5663f9-ba49-4919-af18-02ae4b32d9e3",
   "metadata": {},
   "source": [
    "Metadata for 450 669 characters aligned to the movies above, extracted from the Noverber 4, 2012 dump of Freebase:\n",
    "1. Wikipedia movie ID\n",
    "2. Freebase movie ID\n",
    "3. Movie release date\n",
    "4. Character name\n",
    "5. Actor date of birth\n",
    "6. Actor gender\n",
    "7. Actor height (in meters)\n",
    "8. Actor ethnicity (Freebase ID)\n",
    "9. Actor name\n",
    "10. Actor age at movie release\n",
    "11. Freebase character/actor map ID\n",
    "12. Freebase character ID\n",
    "13. Freebase actor ID\n",
    "14. Release year\n",
    "15. Actor birth year"
   ]
  },
  {
   "cell_type": "code",
   "execution_count": 7,
   "id": "d9dd5d96-152a-498f-9f49-41df42843707",
   "metadata": {
    "tags": []
   },
   "outputs": [
    {
     "data": {
      "text/html": [
       "<div>\n",
       "<style scoped>\n",
       "    .dataframe tbody tr th:only-of-type {\n",
       "        vertical-align: middle;\n",
       "    }\n",
       "\n",
       "    .dataframe tbody tr th {\n",
       "        vertical-align: top;\n",
       "    }\n",
       "\n",
       "    .dataframe thead th {\n",
       "        text-align: right;\n",
       "    }\n",
       "</style>\n",
       "<table border=\"1\" class=\"dataframe\">\n",
       "  <thead>\n",
       "    <tr style=\"text-align: right;\">\n",
       "      <th></th>\n",
       "      <th>wiki_movie_id</th>\n",
       "      <th>free_movie_id</th>\n",
       "      <th>release_date</th>\n",
       "      <th>character_name</th>\n",
       "      <th>actor_birth_date</th>\n",
       "      <th>actor_gender</th>\n",
       "      <th>actor_height</th>\n",
       "      <th>actor_ethnicity</th>\n",
       "      <th>actor_name</th>\n",
       "      <th>actor_age</th>\n",
       "      <th>free_character_actor_map_id</th>\n",
       "      <th>free_character_id</th>\n",
       "      <th>free_actor_id</th>\n",
       "      <th>release_year</th>\n",
       "      <th>actor_birth_year</th>\n",
       "    </tr>\n",
       "  </thead>\n",
       "  <tbody>\n",
       "    <tr>\n",
       "      <th>0</th>\n",
       "      <td>975900</td>\n",
       "      <td>/m/03vyhn</td>\n",
       "      <td>2001-08-24</td>\n",
       "      <td>Akooshay</td>\n",
       "      <td>1958-08-26</td>\n",
       "      <td>F</td>\n",
       "      <td>1.620</td>\n",
       "      <td>NaN</td>\n",
       "      <td>Wanda De Jesus</td>\n",
       "      <td>42.0</td>\n",
       "      <td>/m/0bgchxw</td>\n",
       "      <td>/m/0bgcj3x</td>\n",
       "      <td>/m/03wcfv7</td>\n",
       "      <td>2001.0</td>\n",
       "      <td>1958.0</td>\n",
       "    </tr>\n",
       "    <tr>\n",
       "      <th>1</th>\n",
       "      <td>975900</td>\n",
       "      <td>/m/03vyhn</td>\n",
       "      <td>2001-08-24</td>\n",
       "      <td>Lieutenant Melanie Ballard</td>\n",
       "      <td>1974-08-15</td>\n",
       "      <td>F</td>\n",
       "      <td>1.780</td>\n",
       "      <td>/m/044038p</td>\n",
       "      <td>Natasha Henstridge</td>\n",
       "      <td>27.0</td>\n",
       "      <td>/m/0jys3m</td>\n",
       "      <td>/m/0bgchn4</td>\n",
       "      <td>/m/0346l4</td>\n",
       "      <td>2001.0</td>\n",
       "      <td>1974.0</td>\n",
       "    </tr>\n",
       "    <tr>\n",
       "      <th>2</th>\n",
       "      <td>975900</td>\n",
       "      <td>/m/03vyhn</td>\n",
       "      <td>2001-08-24</td>\n",
       "      <td>Desolation Williams</td>\n",
       "      <td>1969-06-15</td>\n",
       "      <td>M</td>\n",
       "      <td>1.727</td>\n",
       "      <td>/m/0x67</td>\n",
       "      <td>Ice Cube</td>\n",
       "      <td>32.0</td>\n",
       "      <td>/m/0jys3g</td>\n",
       "      <td>/m/0bgchn_</td>\n",
       "      <td>/m/01vw26l</td>\n",
       "      <td>2001.0</td>\n",
       "      <td>1969.0</td>\n",
       "    </tr>\n",
       "    <tr>\n",
       "      <th>3</th>\n",
       "      <td>975900</td>\n",
       "      <td>/m/03vyhn</td>\n",
       "      <td>2001-08-24</td>\n",
       "      <td>Sgt Jericho Butler</td>\n",
       "      <td>1967-09-12</td>\n",
       "      <td>M</td>\n",
       "      <td>1.750</td>\n",
       "      <td>NaN</td>\n",
       "      <td>Jason Statham</td>\n",
       "      <td>33.0</td>\n",
       "      <td>/m/02vchl6</td>\n",
       "      <td>/m/0bgchnq</td>\n",
       "      <td>/m/034hyc</td>\n",
       "      <td>2001.0</td>\n",
       "      <td>1967.0</td>\n",
       "    </tr>\n",
       "    <tr>\n",
       "      <th>4</th>\n",
       "      <td>975900</td>\n",
       "      <td>/m/03vyhn</td>\n",
       "      <td>2001-08-24</td>\n",
       "      <td>Bashira Kincaid</td>\n",
       "      <td>1977-09-25</td>\n",
       "      <td>F</td>\n",
       "      <td>1.650</td>\n",
       "      <td>NaN</td>\n",
       "      <td>Clea DuVall</td>\n",
       "      <td>23.0</td>\n",
       "      <td>/m/02vbb3r</td>\n",
       "      <td>/m/0bgchp9</td>\n",
       "      <td>/m/01y9xg</td>\n",
       "      <td>2001.0</td>\n",
       "      <td>1977.0</td>\n",
       "    </tr>\n",
       "  </tbody>\n",
       "</table>\n",
       "</div>"
      ],
      "text/plain": [
       "   wiki_movie_id free_movie_id release_date              character_name  \\\n",
       "0         975900     /m/03vyhn   2001-08-24                    Akooshay   \n",
       "1         975900     /m/03vyhn   2001-08-24  Lieutenant Melanie Ballard   \n",
       "2         975900     /m/03vyhn   2001-08-24         Desolation Williams   \n",
       "3         975900     /m/03vyhn   2001-08-24          Sgt Jericho Butler   \n",
       "4         975900     /m/03vyhn   2001-08-24             Bashira Kincaid   \n",
       "\n",
       "  actor_birth_date actor_gender  actor_height actor_ethnicity  \\\n",
       "0       1958-08-26            F         1.620             NaN   \n",
       "1       1974-08-15            F         1.780      /m/044038p   \n",
       "2       1969-06-15            M         1.727         /m/0x67   \n",
       "3       1967-09-12            M         1.750             NaN   \n",
       "4       1977-09-25            F         1.650             NaN   \n",
       "\n",
       "           actor_name  actor_age free_character_actor_map_id  \\\n",
       "0      Wanda De Jesus       42.0                  /m/0bgchxw   \n",
       "1  Natasha Henstridge       27.0                   /m/0jys3m   \n",
       "2            Ice Cube       32.0                   /m/0jys3g   \n",
       "3       Jason Statham       33.0                  /m/02vchl6   \n",
       "4         Clea DuVall       23.0                  /m/02vbb3r   \n",
       "\n",
       "  free_character_id free_actor_id  release_year  actor_birth_year  \n",
       "0        /m/0bgcj3x    /m/03wcfv7        2001.0            1958.0  \n",
       "1        /m/0bgchn4     /m/0346l4        2001.0            1974.0  \n",
       "2        /m/0bgchn_    /m/01vw26l        2001.0            1969.0  \n",
       "3        /m/0bgchnq     /m/034hyc        2001.0            1967.0  \n",
       "4        /m/0bgchp9     /m/01y9xg        2001.0            1977.0  "
      ]
     },
     "execution_count": 7,
     "metadata": {},
     "output_type": "execute_result"
    }
   ],
   "source": [
    "character_metadata.head()"
   ]
  },
  {
   "cell_type": "markdown",
   "id": "7c7a691b-f615-440f-b2be-72fa6d89f76d",
   "metadata": {},
   "source": [
    "Plot summaries of 42 303 movies extracted from the November 2, 2012 dump of English-language Wikipedia.\n",
    "Each line contains the Wikipedia movie ID (which indexes into movie_metadata) followed by the summary."
   ]
  },
  {
   "cell_type": "code",
   "execution_count": 8,
   "id": "fcaae9b1-a413-4829-b19c-2209e969d87b",
   "metadata": {
    "tags": []
   },
   "outputs": [
    {
     "data": {
      "text/html": [
       "<div>\n",
       "<style scoped>\n",
       "    .dataframe tbody tr th:only-of-type {\n",
       "        vertical-align: middle;\n",
       "    }\n",
       "\n",
       "    .dataframe tbody tr th {\n",
       "        vertical-align: top;\n",
       "    }\n",
       "\n",
       "    .dataframe thead th {\n",
       "        text-align: right;\n",
       "    }\n",
       "</style>\n",
       "<table border=\"1\" class=\"dataframe\">\n",
       "  <thead>\n",
       "    <tr style=\"text-align: right;\">\n",
       "      <th></th>\n",
       "      <th>wiki_movie_id</th>\n",
       "      <th>plot</th>\n",
       "    </tr>\n",
       "  </thead>\n",
       "  <tbody>\n",
       "    <tr>\n",
       "      <th>0</th>\n",
       "      <td>23890098</td>\n",
       "      <td>Shlykov, a hard-working taxi driver and Lyosha...</td>\n",
       "    </tr>\n",
       "    <tr>\n",
       "      <th>1</th>\n",
       "      <td>31186339</td>\n",
       "      <td>The nation of Panem consists of a wealthy Capi...</td>\n",
       "    </tr>\n",
       "    <tr>\n",
       "      <th>2</th>\n",
       "      <td>20663735</td>\n",
       "      <td>Poovalli Induchoodan  is sentenced for six yea...</td>\n",
       "    </tr>\n",
       "    <tr>\n",
       "      <th>3</th>\n",
       "      <td>2231378</td>\n",
       "      <td>The Lemon Drop Kid , a New York City swindler,...</td>\n",
       "    </tr>\n",
       "    <tr>\n",
       "      <th>4</th>\n",
       "      <td>595909</td>\n",
       "      <td>Seventh-day Adventist Church pastor Michael Ch...</td>\n",
       "    </tr>\n",
       "  </tbody>\n",
       "</table>\n",
       "</div>"
      ],
      "text/plain": [
       "   wiki_movie_id                                               plot\n",
       "0       23890098  Shlykov, a hard-working taxi driver and Lyosha...\n",
       "1       31186339  The nation of Panem consists of a wealthy Capi...\n",
       "2       20663735  Poovalli Induchoodan  is sentenced for six yea...\n",
       "3        2231378  The Lemon Drop Kid , a New York City swindler,...\n",
       "4         595909  Seventh-day Adventist Church pastor Michael Ch..."
      ]
     },
     "execution_count": 8,
     "metadata": {},
     "output_type": "execute_result"
    }
   ],
   "source": [
    "plot_summaries.head()"
   ]
  },
  {
   "cell_type": "markdown",
   "id": "f07b0665-2b5a-4ef4-9b09-5588848d2212",
   "metadata": {
    "tags": []
   },
   "source": [
    "# Basic features analysis"
   ]
  },
  {
   "cell_type": "markdown",
   "id": "086106b4-bbeb-425b-82f4-971d1520f975",
   "metadata": {
    "tags": []
   },
   "source": [
    "## Undestanding the dataset"
   ]
  },
  {
   "cell_type": "code",
   "execution_count": 9,
   "id": "cfe9881c-2af0-4b3e-96e6-d13e6b8fed41",
   "metadata": {
    "tags": []
   },
   "outputs": [
    {
     "name": "stdout",
     "output_type": "stream",
     "text": [
      "number of nan values in movie_metadata:\n",
      "wiki_movie_id             0\n",
      "free_movie_id             0\n",
      "movie_name                0\n",
      "release_date           6902\n",
      "box_office_revenue    73340\n",
      "runtime               20450\n",
      "languages                 0\n",
      "countries                 0\n",
      "genres                    0\n",
      "release_year           6902\n",
      "lowercase_title           0\n",
      "dtype: int64\n",
      "\n",
      "number of rows in movie_metadata: 81741\n"
     ]
    }
   ],
   "source": [
    "print('number of nan values in movie_metadata:')\n",
    "print(movie_metadata.isna().sum())\n",
    "print('\\nnumber of rows in movie_metadata:',movie_metadata.shape[0])"
   ]
  },
  {
   "cell_type": "code",
   "execution_count": 10,
   "id": "4ccc71ba-3a01-43b7-a762-fcf329a73540",
   "metadata": {
    "tags": []
   },
   "outputs": [
    {
     "name": "stdout",
     "output_type": "stream",
     "text": [
      "number of nan values in character_metadata:\n",
      "wiki_movie_id                       0\n",
      "free_movie_id                       0\n",
      "release_date                     9995\n",
      "character_name                 257875\n",
      "actor_birth_date               106145\n",
      "actor_gender                    45609\n",
      "actor_height                   295845\n",
      "actor_ethnicity                344611\n",
      "actor_name                       1228\n",
      "actor_age                      158113\n",
      "free_character_actor_map_id         0\n",
      "free_character_id              257865\n",
      "free_actor_id                     815\n",
      "release_year                     9995\n",
      "actor_birth_year               106156\n",
      "dtype: int64\n",
      "\n",
      "number of character_metadata rows: 450669\n"
     ]
    }
   ],
   "source": [
    "print('number of nan values in character_metadata:')\n",
    "print(character_metadata.isna().sum())\n",
    "print('\\nnumber of character_metadata rows:', character_metadata.shape[0])"
   ]
  },
  {
   "cell_type": "code",
   "execution_count": 11,
   "id": "0c164a33-b73c-424a-ba2a-c1989ae2c0f6",
   "metadata": {
    "tags": []
   },
   "outputs": [
    {
     "name": "stdout",
     "output_type": "stream",
     "text": [
      "unique values of freebase movie ID in character_metadata: 64330\n",
      "freebase movie ID in character_metadata: 450669\n",
      "number of movie ID in character_metadata, which appear in movie_metadata: 64330\n"
     ]
    }
   ],
   "source": [
    "print('unique values of freebase movie ID in character_metadata:',\n",
    "      len(character_metadata['free_movie_id'].unique()))\n",
    "print('freebase movie ID in character_metadata:',\n",
    "      len(character_metadata['free_movie_id']))\n",
    "print('number of movie ID in character_metadata, which appear in movie_metadata:',\n",
    "      sum(movie_metadata['free_movie_id'].isin(character_metadata['free_movie_id'].unique())))"
   ]
  },
  {
   "cell_type": "markdown",
   "id": "f87f5c76-334a-4bb3-a4f8-a2930cc55927",
   "metadata": {},
   "source": [
    "Each movie in character_metadata appears in movie_metadata"
   ]
  },
  {
   "cell_type": "code",
   "execution_count": 12,
   "id": "c7dad014-fb28-4026-b445-aca886d8a1f9",
   "metadata": {
    "tags": []
   },
   "outputs": [
    {
     "name": "stdout",
     "output_type": "stream",
     "text": [
      "unique values of freebase character ID in character_metadata (number of characters): 183436\n",
      "unique values of freebase actor ID in character_metadata (number of actors): 135761\n",
      "unique values of actor ethnicity in character_metadata (number of ethnicities): 480\n"
     ]
    }
   ],
   "source": [
    "print('unique values of freebase character ID in character_metadata (number of characters):',\n",
    "      len(character_metadata['free_character_id'].unique()))\n",
    "print('unique values of freebase actor ID in character_metadata (number of actors):',\n",
    "      len(character_metadata['free_actor_id'].unique()))\n",
    "print('unique values of actor ethnicity in character_metadata (number of ethnicities):',\n",
    "      len(character_metadata['actor_ethnicity'].unique()))"
   ]
  },
  {
   "cell_type": "markdown",
   "id": "ee4c0079-a99b-4f70-94b4-b68fbbfe91ba",
   "metadata": {
    "tags": []
   },
   "source": [
    "## Plot data"
   ]
  },
  {
   "cell_type": "markdown",
   "id": "2c1e94dc-c68f-4bd7-a0cc-2de63c8a74da",
   "metadata": {},
   "source": [
    "### Movies metadata"
   ]
  },
  {
   "cell_type": "code",
   "execution_count": 13,
   "id": "7860d554-517d-474f-b41a-a619220b08fe",
   "metadata": {
    "tags": []
   },
   "outputs": [
    {
     "data": {
      "image/png": "[encoded data removed]",
      "text/plain": [
       "<Figure size 640x480 with 1 Axes>"
      ]
     },
     "metadata": {},
     "output_type": "display_data"
    }
   ],
   "source": [
    "# gross revenue histogram\n",
    "movie_metadata['box_office_revenue'].dropna().hist(bins = 100, log=True)\n",
    "plt.xlabel('Worldwide gross revenue')\n",
    "plt.ylabel('Number of movies')\n",
    "plt.title('Gross revenue, histogram');"
   ]
  },
  {
   "cell_type": "code",
   "execution_count": 14,
   "id": "bb7f3a2c-72d4-4846-9d70-89c45e5a6d02",
   "metadata": {
    "tags": []
   },
   "outputs": [
    {
     "data": {
      "image/png": "[encoded data removed]",
      "text/plain": [
       "<Figure size 640x480 with 1 Axes>"
      ]
     },
     "metadata": {},
     "output_type": "display_data"
    }
   ],
   "source": [
    "# length of movies histogram.\n",
    "# We dropped movies with a length >= 1079280, as we observed errors in the dataset\n",
    "movie_metadata[movie_metadata['runtime'] < 1079280].runtime.dropna().hist(bins = 100, log=True)\n",
    "plt.xlabel('Runtime')\n",
    "plt.ylabel('Number of movies')\n",
    "plt.title('Length of movies, histogram');"
   ]
  },
  {
   "cell_type": "code",
   "execution_count": 15,
   "id": "92116d33-b0fa-4544-a44e-1578b04e43da",
   "metadata": {
    "tags": []
   },
   "outputs": [
    {
     "data": {
      "image/png": "[encoded data removed]",
      "text/plain": [
       "<Figure size 640x480 with 1 Axes>"
      ]
     },
     "metadata": {},
     "output_type": "display_data"
    }
   ],
   "source": [
    "# release year histogram. We dropped movies with a release year <= 1011,\n",
    "# We dropped movies with a release year <= 1011, as we observed errors in the dataset\n",
    "movie_metadata[movie_metadata['release_year'] > 1011].release_year.dropna().hist(bins = 40, log=False)\n",
    "plt.xlabel('Release year')\n",
    "plt.ylabel('Number of movies')\n",
    "plt.title('Release year, histogram');"
   ]
  },
  {
   "cell_type": "markdown",
   "id": "dc2b10c1-2f71-4100-b104-efd42a642c30",
   "metadata": {},
   "source": [
    "### Characters metadata"
   ]
  },
  {
   "cell_type": "code",
   "execution_count": 16,
   "id": "f5dbba2d-a185-4ba6-a324-a077eca0c6d2",
   "metadata": {
    "tags": []
   },
   "outputs": [
    {
     "data": {
      "image/png": "[encoded data removed]",
      "text/plain": [
       "<Figure size 640x480 with 1 Axes>"
      ]
     },
     "metadata": {},
     "output_type": "display_data"
    }
   ],
   "source": [
    "# actor gender countplot\n",
    "sns.countplot(data=character_metadata, x=\"actor_gender\");\n",
    "plt.title('Actors gender, countplot')\n",
    "plt.xlabel('Gender')\n",
    "plt.ylabel('Number of actor-character-map recurrences');"
   ]
  },
  {
   "cell_type": "code",
   "execution_count": 17,
   "id": "2335c619-02b0-42d8-ad16-af7fba0e68c7",
   "metadata": {
    "tags": []
   },
   "outputs": [
    {
     "data": {
      "image/png": "[encoded data removed]",
      "text/plain": [
       "<Figure size 640x480 with 1 Axes>"
      ]
     },
     "metadata": {},
     "output_type": "display_data"
    }
   ],
   "source": [
    "# actor birth year, histogram\n",
    "# We dropped actors with a birth year <= 1828 or >= 2009, as we observed errors in the dataset\n",
    "character_metadata[(character_metadata['actor_birth_year'] > 1828) * (character_metadata['actor_birth_year'] < 2009)].actor_birth_year.dropna().hist(bins = 40, log=False)\n",
    "plt.xlabel('Release year')\n",
    "plt.ylabel('Number of actor-character recurrences')\n",
    "plt.title('Actors birth year, histogram');"
   ]
  },
  {
   "cell_type": "code",
   "execution_count": 18,
   "id": "c553718e-f2a5-4b79-a0b6-7b083c7c7626",
   "metadata": {
    "tags": []
   },
   "outputs": [
    {
     "data": {
      "image/png": "[encoded data removed]",
      "text/plain": [
       "<Figure size 640x480 with 1 Axes>"
      ]
     },
     "metadata": {},
     "output_type": "display_data"
    }
   ],
   "source": [
    "# actor age histogram\n",
    "# We dropped actors with an age < 0, as we observed errors in the dataset\n",
    "character_metadata[character_metadata['actor_age'] >= 0].actor_age.dropna().hist(bins = 40, log=False)\n",
    "plt.xlabel('Release year')\n",
    "plt.ylabel('Number of actor-character recurrences')\n",
    "plt.title('Actors age, histogram');"
   ]
  },
  {
   "cell_type": "code",
   "execution_count": 19,
   "id": "2b6e2ea5-3b9d-4d2a-9ce0-691231321408",
   "metadata": {
    "tags": []
   },
   "outputs": [
    {
     "data": {
      "image/png": "[encoded data removed]",
      "text/plain": [
       "<Figure size 640x480 with 1 Axes>"
      ]
     },
     "metadata": {},
     "output_type": "display_data"
    }
   ],
   "source": [
    "# actor height histogram\n",
    "# We dropped actors with a height >= 3, as we observed errors in the dataset\n",
    "character_metadata[character_metadata['actor_height'] < 3].actor_height.dropna().hist(bins = 40, log=False)\n",
    "plt.xlabel('Height (m)')\n",
    "plt.ylabel('Number of actor-character recurrences')\n",
    "plt.title('Actor height in meters, histogram');"
   ]
  },
  {
   "cell_type": "markdown",
   "id": "0e459000",
   "metadata": {
    "tags": []
   },
   "source": [
    "# Plot evolution and similarity\n"
   ]
  },
  {
   "cell_type": "code",
   "execution_count": 20,
   "id": "aa2122d3",
   "metadata": {
    "tags": []
   },
   "outputs": [],
   "source": [
    "from similarity_and_evolution import preprocess_text, cosine_similarity\n",
    "\n",
    "plot_similarity = plot_summaries\n",
    "plot_evolution = plot_summaries\n",
    "plot_similarity['count_words'] = plot_similarity.apply(lambda x: len(str(x['plot']).split()), axis=1)\n",
    "\n",
    "# Drop plots with less than 200 words\n",
    "plot_similarity.drop(plot_similarity[plot_similarity['count_words'] < 200].index, inplace= True)\n",
    "\n",
    "# Preprocess the synopses\n",
    "# The Hunger Games\n",
    "preprocessed_synopsis1 = preprocess_text(plot_similarity.query(\"wiki_movie_id == 31186339\").iloc[0]['plot'])\n",
    "\n",
    "# Fast and Furious: Tokyo Drift\n",
    "preprocessed_synopsis2 = preprocess_text(plot_similarity.query(\"wiki_movie_id == 2913859\").iloc[0]['plot'])\n",
    "\n",
    "# Harry Potter: Deathly Hallows Part I\n",
    "preprocessed_synopsis3 = preprocess_text(plot_similarity.query(\"wiki_movie_id == 9834441\").iloc[0]['plot'])\n",
    "\n",
    "# Mamma mia\n",
    "preprocessed_synopsis4 = preprocess_text(plot_similarity.query(\"wiki_movie_id == 8425661\").iloc[0]['plot'])"
   ]
  },
  {
   "cell_type": "markdown",
   "id": "6074601e",
   "metadata": {},
   "source": [
    "Compute cosine similarity between preprocessed plots"
   ]
  },
  {
   "cell_type": "code",
   "execution_count": 21,
   "id": "4b2f18a9",
   "metadata": {},
   "outputs": [],
   "source": [
    "similarity_1 = cosine_similarity(preprocessed_synopsis1, preprocessed_synopsis2)\n",
    "similarity_2 = cosine_similarity(preprocessed_synopsis1, preprocessed_synopsis3)\n",
    "similarity_3 = cosine_similarity(preprocessed_synopsis1, preprocessed_synopsis4)\n",
    "similarity_4 = cosine_similarity(preprocessed_synopsis3, preprocessed_synopsis4)"
   ]
  },
  {
   "cell_type": "markdown",
   "id": "1c06f892",
   "metadata": {},
   "source": [
    "### Cosine similarity interpretation and validation\n",
    "If cosine similarity is equal to 1 means both plots are identical. On the other side, if cosine similarity is equal to 0 means the plots have nothing in common.\n",
    "\n",
    "Overviewing the below similarities, it makes sense that \"The Hunger Games\" is more similar to a film such as \"Harry Potter: Deathly Hallows Part 1\" for more common actions such as \"kill\", \"reveal\" and \"take\" than to Fast&Furious and Mamma Mia. This actions may appear also in the latter movies but with less relevance.\n",
    "\n",
    "And unusual phenomena is observed when comparing Harry Potter to Mamma Mia. Using the user's experience, one can argue these films are not very much alike. Investigating the issue further, we discover that this high value on similarity is due to one of the main protagonist for both films are called Harry.\n",
    "\n",
    "Filtering people's name might be necessary to refine the algorithm."
   ]
  },
  {
   "cell_type": "code",
   "execution_count": 22,
   "id": "d83a8372",
   "metadata": {},
   "outputs": [
    {
     "name": "stdout",
     "output_type": "stream",
     "text": [
      "Cosine Similarity The Hunger Games - F&F:Tokyo Drift: 0.029112649379961022\n",
      "Cosine Similarity The Hunger Games - HP: Deathly Hallows P1: 0.0582765471839679\n",
      "Cosine Similarity The Hunger Games - Mamma mia: 0.029958426421823198\n",
      "Cosine Similarity HP: Death Hollows P1 - Mamma mia: 0.033301144786951474\n"
     ]
    }
   ],
   "source": [
    "print(f\"Cosine Similarity The Hunger Games - F&F:Tokyo Drift: {similarity_1}\")\n",
    "print(f\"Cosine Similarity The Hunger Games - HP: Deathly Hallows P1: {similarity_2}\")\n",
    "print(f\"Cosine Similarity The Hunger Games - Mamma mia: {similarity_3}\")\n",
    "print(f\"Cosine Similarity HP: Death Hollows P1 - Mamma mia: {similarity_4}\")"
   ]
  },
  {
   "cell_type": "markdown",
   "id": "30bf7704",
   "metadata": {},
   "source": [
    "### Similarity computation by year\n",
    "We are interested on how much similar are movies released on the same year are alike"
   ]
  },
  {
   "cell_type": "code",
   "execution_count": 23,
   "id": "96e363b8",
   "metadata": {},
   "outputs": [
    {
     "data": {
      "text/html": [
       "<div>\n",
       "<style scoped>\n",
       "    .dataframe tbody tr th:only-of-type {\n",
       "        vertical-align: middle;\n",
       "    }\n",
       "\n",
       "    .dataframe tbody tr th {\n",
       "        vertical-align: top;\n",
       "    }\n",
       "\n",
       "    .dataframe thead th {\n",
       "        text-align: right;\n",
       "    }\n",
       "</style>\n",
       "<table border=\"1\" class=\"dataframe\">\n",
       "  <thead>\n",
       "    <tr style=\"text-align: right;\">\n",
       "      <th></th>\n",
       "      <th>wiki_movie_id</th>\n",
       "      <th>plot</th>\n",
       "      <th>count_words</th>\n",
       "      <th>movie_name</th>\n",
       "      <th>release_year</th>\n",
       "    </tr>\n",
       "  </thead>\n",
       "  <tbody>\n",
       "    <tr>\n",
       "      <th>0</th>\n",
       "      <td>31186339</td>\n",
       "      <td>The nation of Panem consists of a wealthy Capi...</td>\n",
       "      <td>778</td>\n",
       "      <td>The Hunger Games</td>\n",
       "      <td>2012.0</td>\n",
       "    </tr>\n",
       "    <tr>\n",
       "      <th>1</th>\n",
       "      <td>20663735</td>\n",
       "      <td>Poovalli Induchoodan  is sentenced for six yea...</td>\n",
       "      <td>496</td>\n",
       "      <td>Narasimham</td>\n",
       "      <td>2000.0</td>\n",
       "    </tr>\n",
       "    <tr>\n",
       "      <th>2</th>\n",
       "      <td>2231378</td>\n",
       "      <td>The Lemon Drop Kid , a New York City swindler,...</td>\n",
       "      <td>849</td>\n",
       "      <td>The Lemon Drop Kid</td>\n",
       "      <td>1951.0</td>\n",
       "    </tr>\n",
       "    <tr>\n",
       "      <th>3</th>\n",
       "      <td>595909</td>\n",
       "      <td>Seventh-day Adventist Church pastor Michael Ch...</td>\n",
       "      <td>397</td>\n",
       "      <td>A Cry in the Dark</td>\n",
       "      <td>1988.0</td>\n",
       "    </tr>\n",
       "    <tr>\n",
       "      <th>4</th>\n",
       "      <td>5272176</td>\n",
       "      <td>The president is on his way to give a speech. ...</td>\n",
       "      <td>344</td>\n",
       "      <td>End Game</td>\n",
       "      <td>2006.0</td>\n",
       "    </tr>\n",
       "  </tbody>\n",
       "</table>\n",
       "</div>"
      ],
      "text/plain": [
       "   wiki_movie_id                                               plot  \\\n",
       "0       31186339  The nation of Panem consists of a wealthy Capi...   \n",
       "1       20663735  Poovalli Induchoodan  is sentenced for six yea...   \n",
       "2        2231378  The Lemon Drop Kid , a New York City swindler,...   \n",
       "3         595909  Seventh-day Adventist Church pastor Michael Ch...   \n",
       "4        5272176  The president is on his way to give a speech. ...   \n",
       "\n",
       "   count_words          movie_name  release_year  \n",
       "0          778    The Hunger Games        2012.0  \n",
       "1          496          Narasimham        2000.0  \n",
       "2          849  The Lemon Drop Kid        1951.0  \n",
       "3          397   A Cry in the Dark        1988.0  \n",
       "4          344            End Game        2006.0  "
      ]
     },
     "execution_count": 23,
     "metadata": {},
     "output_type": "execute_result"
    }
   ],
   "source": [
    "plot_similarity_enriched = pd.merge(plot_similarity, movie_metadata[['movie_name','release_year','wiki_movie_id']], on=\"wiki_movie_id\",how='left')\n",
    "plot_similarity_enriched.head()"
   ]
  },
  {
   "cell_type": "code",
   "execution_count": 24,
   "id": "f7c94062",
   "metadata": {},
   "outputs": [],
   "source": [
    "#similarity_by_year = plot_similarity_enriched.groupby('release_year')\n",
    "#for year, group in similarity_by_year:\n",
    "#    for idx, row in group.iterrows():\n",
    "#        preprocessed_text = preprocess_text(row['plot'])\n",
    "#        print(preprocessed_text)"
   ]
  },
  {
   "cell_type": "markdown",
   "id": "6133dfff-30fd-4313-b121-eef94518afa3",
   "metadata": {},
   "source": [
    "### Emotional arc"
   ]
  },
  {
   "cell_type": "markdown",
   "id": "c9698ae0-7079-4e7c-8f10-2d787ab6187b",
   "metadata": {},
   "source": [
    "An interesting aspect of a movie is its emotional arc. We give a sentiment value to each sentence in the plot summary and then interpret the sequence of sentiment values of the sentences as the movie's emotional arc."
   ]
  },
  {
   "cell_type": "code",
   "execution_count": 25,
   "id": "26eab290-c84e-4ef9-9443-090b4bbbff01",
   "metadata": {
    "tags": []
   },
   "outputs": [],
   "source": [
    "from similarity_and_evolution import tokenize_per_sentence\n",
    "from vaderSentiment.vaderSentiment import SentimentIntensityAnalyzer\n",
    "\n",
    "# The Hunger Games, tokenized per sentence\n",
    "plot_per_sentence1 = tokenize_per_sentence(plot_evolution.query(\"wiki_movie_id == 31186339\").iloc[0]['plot'])\n",
    "# Fast and Furious: Tokyo Drift, tokenized per sentence\n",
    "plot_per_sentence2 = tokenize_per_sentence(plot_evolution.query(\"wiki_movie_id == 2913859\").iloc[0]['plot'])"
   ]
  },
  {
   "cell_type": "code",
   "execution_count": 26,
   "id": "695aec37-4316-4072-bc4d-2fd3e007e758",
   "metadata": {
    "tags": []
   },
   "outputs": [],
   "source": [
    "analyzer = SentimentIntensityAnalyzer()\n",
    "\"\"\"\n",
    "    This function computes the sentiment value of each sentence in the plot, and returns all of them as a list.\n",
    "\"\"\"\n",
    "def compute_sentiment_sequence(plot_sentences):\n",
    "    sentiment_sequence = []\n",
    "    for sentence in plot_sentences:\n",
    "        sentiment_sequence.append(analyzer.polarity_scores(sentence)['compound'])\n",
    "    return sentiment_sequence"
   ]
  },
  {
   "cell_type": "code",
   "execution_count": 49,
   "id": "7d1349e9-9427-48dd-a261-25946937d017",
   "metadata": {
    "tags": []
   },
   "outputs": [
    {
     "data": {
      "text/plain": [
       "Text(0, 0.5, 'sentiment value')"
      ]
     },
     "execution_count": 49,
     "metadata": {},
     "output_type": "execute_result"
    },
    {
     "data": {
      "image/png": "[encoded data removed]",
      "text/plain": [
       "<Figure size 640x480 with 1 Axes>"
      ]
     },
     "metadata": {},
     "output_type": "display_data"
    }
   ],
   "source": [
    "# plot the sentiment value sequence, i.e emotional arc, of the Hunger Games\n",
    "emotional_arc1 = compute_sentiment_sequence(plot_per_sentence1)\n",
    "plt.plot(emotional_arc1)\n",
    "plt.title(\"Emotional arc of The Hunger Games\")\n",
    "plt.xlabel(\"sentence number\")\n",
    "plt.ylabel(\"sentiment value\")"
   ]
  },
  {
   "cell_type": "markdown",
   "id": "5510d09f-1f21-4ea4-a6ba-45b3fdef3434",
   "metadata": {},
   "source": [
    "To take the average over different emotional arcs of movies, there is one problem. They are of different length. We circumvent this problem by normalizing all emotional arcs to one length, namely the average length of all emotional arcs."
   ]
  },
  {
   "cell_type": "code",
   "execution_count": 50,
   "id": "7990612f-3709-4327-9596-9b53bc6e6c26",
   "metadata": {
    "tags": []
   },
   "outputs": [
    {
     "data": {
      "text/plain": [
       "Text(0, 0.5, 'sentiment value')"
      ]
     },
     "execution_count": 50,
     "metadata": {},
     "output_type": "execute_result"
    },
    {
     "data": {
      "image/png": "[encoded data removed]",
      "text/plain": [
       "<Figure size 640x480 with 1 Axes>"
      ]
     },
     "metadata": {},
     "output_type": "display_data"
    }
   ],
   "source": [
    "from scipy.interpolate import interp1d\n",
    "import statistics\n",
    "# compute emotional arc of Fast and Furious\n",
    "emotional_arc2 = compute_sentiment_sequence(plot_per_sentence2)\n",
    "\n",
    "# compute the length to which we normalize both sequences as the average of the two lengths\n",
    "normalized_length = round(sum([len(emotional_arc1), len(emotional_arc2)])/2)\n",
    "\n",
    "# normalize both sequences to this lenght using interpolation\n",
    "interpolate1 = interp1d(np.linspace(0, 1, len(emotional_arc1)), emotional_arc1)\n",
    "interpolate2 = interp1d(np.linspace(0, 1, len(emotional_arc2)), emotional_arc2)\n",
    "emotional_arc2_norm = interpolate2(np.linspace(0, 1, normalized_length))\n",
    "emotional_arc1_norm = interpolate1(np.linspace(0, 1, normalized_length))\n",
    "\n",
    "# compute average emotional arc over these two movies\n",
    "average_emotional_arc = np.mean([emotional_arc1_norm, emotional_arc2_norm], axis=0)\n",
    "plt.plot(average_emotional_arc)\n",
    "plt.title(\"Average emotional arc of The Hunger Games and Fast and Furious\")\n",
    "plt.xlabel(\"sentence number\")\n",
    "plt.ylabel(\"sentiment value\")"
   ]
  },
  {
   "cell_type": "markdown",
   "id": "cd237b6c-0a33-4dba-9771-0055658d6ead",
   "metadata": {},
   "source": [
    "As we can see that the emotional arcs is not smooth at all, we will still have to apply some smoothing to them to make them more interpretable."
   ]
  },
  {
   "cell_type": "markdown",
   "id": "eb6fc16a",
   "metadata": {
    "tags": []
   },
   "source": [
    "## Regression ratings change over the years"
   ]
  },
  {
   "cell_type": "code",
   "execution_count": 20,
   "id": "0f49d199",
   "metadata": {},
   "outputs": [],
   "source": [
    "# load merged dataset with imdb ids and movie metadata\n",
    "# loading merged in order to not have two huge dataset in memory\n",
    "res = pd.read_csv('data/movies_imdb_ids.csv')"
   ]
  },
  {
   "cell_type": "code",
   "execution_count": 21,
   "id": "4176aa2e",
   "metadata": {},
   "outputs": [
    {
     "data": {
      "text/html": [
       "<div>\n",
       "<style scoped>\n",
       "    .dataframe tbody tr th:only-of-type {\n",
       "        vertical-align: middle;\n",
       "    }\n",
       "\n",
       "    .dataframe tbody tr th {\n",
       "        vertical-align: top;\n",
       "    }\n",
       "\n",
       "    .dataframe thead th {\n",
       "        text-align: right;\n",
       "    }\n",
       "</style>\n",
       "<table border=\"1\" class=\"dataframe\">\n",
       "  <thead>\n",
       "    <tr style=\"text-align: right;\">\n",
       "      <th></th>\n",
       "      <th>Wikipedia movie ID</th>\n",
       "      <th>Freebase movie ID</th>\n",
       "      <th>name</th>\n",
       "      <th>release date</th>\n",
       "      <th>box office revenue</th>\n",
       "      <th>runtime</th>\n",
       "      <th>languages</th>\n",
       "      <th>countries</th>\n",
       "      <th>genres_x</th>\n",
       "      <th>tconst</th>\n",
       "      <th>titleType</th>\n",
       "      <th>primaryTitle</th>\n",
       "      <th>originalTitle</th>\n",
       "      <th>isAdult</th>\n",
       "      <th>startYear</th>\n",
       "      <th>endYear</th>\n",
       "      <th>runtimeMinutes</th>\n",
       "      <th>genres_y</th>\n",
       "    </tr>\n",
       "  </thead>\n",
       "  <tbody>\n",
       "    <tr>\n",
       "      <th>0</th>\n",
       "      <td>12621957</td>\n",
       "      <td>/m/05pdd86</td>\n",
       "      <td>the sorcerer's apprentice</td>\n",
       "      <td>2010-07-08</td>\n",
       "      <td>215283742.0</td>\n",
       "      <td>111.0</td>\n",
       "      <td>{\"/m/02h40lc\": \"English Language\"}</td>\n",
       "      <td>{\"/m/09c7w0\": \"United States of America\"}</td>\n",
       "      <td>{\"/m/06n90\": \"Science Fiction\", \"/m/03k9fj\": \"...</td>\n",
       "      <td>tt0048644</td>\n",
       "      <td>short</td>\n",
       "      <td>the sorcerer's apprentice</td>\n",
       "      <td>The Sorcerer's Apprentice</td>\n",
       "      <td>0</td>\n",
       "      <td>1955</td>\n",
       "      <td>\\N</td>\n",
       "      <td>13</td>\n",
       "      <td>Short</td>\n",
       "    </tr>\n",
       "  </tbody>\n",
       "</table>\n",
       "</div>"
      ],
      "text/plain": [
       "   Wikipedia movie ID Freebase movie ID                       name  \\\n",
       "0            12621957        /m/05pdd86  the sorcerer's apprentice   \n",
       "\n",
       "  release date  box office revenue  runtime  \\\n",
       "0   2010-07-08         215283742.0    111.0   \n",
       "\n",
       "                            languages  \\\n",
       "0  {\"/m/02h40lc\": \"English Language\"}   \n",
       "\n",
       "                                   countries  \\\n",
       "0  {\"/m/09c7w0\": \"United States of America\"}   \n",
       "\n",
       "                                            genres_x     tconst titleType  \\\n",
       "0  {\"/m/06n90\": \"Science Fiction\", \"/m/03k9fj\": \"...  tt0048644     short   \n",
       "\n",
       "                primaryTitle              originalTitle  isAdult startYear  \\\n",
       "0  the sorcerer's apprentice  The Sorcerer's Apprentice        0      1955   \n",
       "\n",
       "  endYear runtimeMinutes genres_y  \n",
       "0      \\N             13    Short  "
      ]
     },
     "execution_count": 21,
     "metadata": {},
     "output_type": "execute_result"
    }
   ],
   "source": [
    "res['release date'] = pd.to_datetime(res['release date'], format='%Y-%m-%d',  errors = 'coerce') # convert to datetime format\n",
    "res = res.loc[res['release date']  > datetime(2004, 1, 1)].copy()  # only consider dates after 2004 (before imdb didn't exist)\n",
    "res = res.loc[res['box office revenue'].notna()].copy() # remove ones without box office revenue\n",
    "res.reset_index(inplace=True, drop=True)\n",
    "res = res.loc[:, ~res.columns.str.contains('^Unnamed')]  # dropping unnamed columns\n",
    "res.head(1)"
   ]
  },
  {
   "cell_type": "markdown",
   "id": "7f36d52c",
   "metadata": {},
   "source": [
    "The following cell scrapes the reviews after one and five years for a certain movie. It utilized https://archive.org/web/ which periodically takes a snapshot of the whole internet and allows to see how a website changes in time. "
   ]
  },
  {
   "cell_type": "code",
   "execution_count": 17,
   "id": "6d284bed",
   "metadata": {},
   "outputs": [],
   "source": [
    "# only run if want to scrape new data \n",
    "number_elements_to_scrape = len(res)\n",
    "\n",
    "ratings_df = pd.DataFrame()\n",
    "\n",
    "for index, row in res.iloc[:number_elements_to_scrape].iterrows():\n",
    "\n",
    "    print(f\"{index}/{number_elements_to_scrape} scraped -- Now scraping {row['tconst']}\", end = '\\r')\n",
    "\n",
    "    try: \n",
    "        dates, ratings, num_voters = scraper_review_next_and_five_years(row['tconst'], row['release date'])\n",
    "        ratings.extend(num_voters)\n",
    "        df = pd.DataFrame([ratings], columns=['after_one_year_rating', 'after_five_year_rating', 'one_year_num_voters', 'five_year_num_voters',], index = [row['tconst']])\n",
    "        ratings_df = pd.concat([df, ratings_df],  sort=False)\n",
    "        # df = pd.DataFrame([num_voters], columns=['first_date', 'second_date'], index = [row['tconst'] ])\n",
    "        # num_voters_df = pd.concat([df, num_voters_df],  sort=False)\n",
    "    except Exception as e: \n",
    "        print(f\"Exception {e}\")  # handling all excpetion in order to not sto pscraping process\n",
    "\n",
    "# print(result_df.head())\n",
    "ratings_df.to_csv('data/imbd_ratings.csv') # save scraped for future use"
   ]
  },
  {
   "cell_type": "code",
   "execution_count": 22,
   "id": "6ae01296",
   "metadata": {
    "tags": []
   },
   "outputs": [
    {
     "data": {
      "text/html": [
       "<div>\n",
       "<style scoped>\n",
       "    .dataframe tbody tr th:only-of-type {\n",
       "        vertical-align: middle;\n",
       "    }\n",
       "\n",
       "    .dataframe tbody tr th {\n",
       "        vertical-align: top;\n",
       "    }\n",
       "\n",
       "    .dataframe thead th {\n",
       "        text-align: right;\n",
       "    }\n",
       "</style>\n",
       "<table border=\"1\" class=\"dataframe\">\n",
       "  <thead>\n",
       "    <tr style=\"text-align: right;\">\n",
       "      <th></th>\n",
       "      <th>Wikipedia movie ID</th>\n",
       "      <th>Freebase movie ID</th>\n",
       "      <th>name</th>\n",
       "      <th>release date</th>\n",
       "      <th>box office revenue</th>\n",
       "      <th>runtime</th>\n",
       "      <th>languages</th>\n",
       "      <th>countries</th>\n",
       "      <th>genres_x</th>\n",
       "      <th>tconst</th>\n",
       "      <th>titleType</th>\n",
       "      <th>primaryTitle</th>\n",
       "      <th>originalTitle</th>\n",
       "      <th>isAdult</th>\n",
       "      <th>startYear</th>\n",
       "      <th>endYear</th>\n",
       "      <th>runtimeMinutes</th>\n",
       "      <th>genres_y</th>\n",
       "      <th>first_date</th>\n",
       "      <th>second_date</th>\n",
       "    </tr>\n",
       "  </thead>\n",
       "  <tbody>\n",
       "    <tr>\n",
       "      <th>NaN</th>\n",
       "      <td>NaN</td>\n",
       "      <td>NaN</td>\n",
       "      <td>NaN</td>\n",
       "      <td>NaT</td>\n",
       "      <td>NaN</td>\n",
       "      <td>NaN</td>\n",
       "      <td>NaN</td>\n",
       "      <td>NaN</td>\n",
       "      <td>NaN</td>\n",
       "      <td>tt0383460_ratings</td>\n",
       "      <td>NaN</td>\n",
       "      <td>NaN</td>\n",
       "      <td>NaN</td>\n",
       "      <td>NaN</td>\n",
       "      <td>NaN</td>\n",
       "      <td>NaN</td>\n",
       "      <td>NaN</td>\n",
       "      <td>NaN</td>\n",
       "      <td>8.3</td>\n",
       "      <td>7.8</td>\n",
       "    </tr>\n",
       "  </tbody>\n",
       "</table>\n",
       "</div>"
      ],
      "text/plain": [
       "     Wikipedia movie ID Freebase movie ID name release date  \\\n",
       "NaN                 NaN               NaN  NaN          NaT   \n",
       "\n",
       "     box office revenue  runtime languages countries genres_x  \\\n",
       "NaN                 NaN      NaN       NaN       NaN      NaN   \n",
       "\n",
       "                tconst titleType primaryTitle originalTitle  isAdult  \\\n",
       "NaN  tt0383460_ratings       NaN          NaN           NaN      NaN   \n",
       "\n",
       "    startYear endYear runtimeMinutes genres_y  first_date  second_date  \n",
       "NaN       NaN     NaN            NaN      NaN         8.3          7.8  "
      ]
     },
     "execution_count": 22,
     "metadata": {},
     "output_type": "execute_result"
    }
   ],
   "source": [
    "ratings_df = pd.read_csv('data/imbd_ratings.csv') \n",
    "ratings_df = ratings_df.set_index(ratings_df.iloc[:, 0])\n",
    "ratings_df = ratings_df.loc[:, ~ratings_df.columns.str.contains('^Unnamed')] \n",
    "\n",
    "ratings_metadata = res.merge(ratings_df, how ='right', left_on='tconst', right_index=True)\n",
    "ratings_metadata.head(1)"
   ]
  },
  {
   "cell_type": "code",
   "execution_count": 19,
   "id": "2ee2ae1d",
   "metadata": {},
   "outputs": [
    {
     "data": {
      "text/plain": [
       "NaN    NaN\n",
       "NaN    NaN\n",
       "NaN    NaN\n",
       "NaN    NaN\n",
       "NaN    NaN\n",
       "      ... \n",
       "NaN    NaN\n",
       "NaN    NaN\n",
       "NaN    NaN\n",
       "NaN    NaN\n",
       "NaN    NaN\n",
       "Name: genres_x, Length: 114, dtype: object"
      ]
     },
     "execution_count": 19,
     "metadata": {},
     "output_type": "execute_result"
    }
   ],
   "source": [
    "ratings_metadata['genres_x']"
   ]
  },
  {
   "cell_type": "code",
   "execution_count": 88,
   "id": "b7ed9497",
   "metadata": {
    "tags": []
   },
   "outputs": [],
   "source": [
    "def get_first_value_from_dictionary(row, value):\n",
    "    l = list(json.loads(row[value]).values())\n",
    "    if len(l) > 0: \n",
    "        genres = l[0]\n",
    "    else: \n",
    "        genres = ''\n",
    "    return genres\n",
    "\n",
    "def count_dictionary(row, value): \n",
    "    return len(json.loads(row[value]).keys())\n",
    "\n",
    "# extracting values from dictionaries\n",
    "ratings_metadata[\"genre\"] = ratings_metadata.apply(lambda row: get_first_value_from_dictionary(row, 'genres_x'), axis=1)\n",
    "ratings_metadata[\"language\"] = ratings_metadata.apply(lambda row: get_first_value_from_dictionary(row, 'languages'), axis=1)\n",
    "ratings_metadata[\"country\"] = ratings_metadata.apply(lambda row: get_first_value_from_dictionary(row, 'countries'), axis=1)\n",
    "ratings_metadata['year'] = pd.DatetimeIndex(ratings_metadata['release date']).year  # extracting year\n",
    "\n",
    "ratings_metadata[\"n_genre\"] = ratings_metadata.apply(lambda row: count_dictionary(row, 'genres_x'), axis=1)\n",
    "ratings_metadata[\"n_language\"] = ratings_metadata.apply(lambda row: count_dictionary(row, 'languages'), axis=1)\n",
    "ratings_metadata[\"n_country\"] = ratings_metadata.apply(lambda row: count_dictionary(row, 'countries'), axis=1)"
   ]
  },
  {
   "cell_type": "code",
   "execution_count": 90,
   "id": "ac6c1a95",
   "metadata": {},
   "outputs": [
    {
     "data": {
      "text/plain": [
       "Index(['Wikipedia movie ID', 'Freebase movie ID', 'name', 'release date',\n",
       "       'box office revenue', 'runtime', 'languages', 'countries', 'genres_x',\n",
       "       'tconst', 'titleType', 'primaryTitle', 'originalTitle', 'isAdult',\n",
       "       'startYear', 'endYear', 'runtimeMinutes', 'genres_y',\n",
       "       'after_one_year_rating', 'after_five_year_rating',\n",
       "       'one_year_num_voters', 'five_year_num_voters', 'genre', 'language',\n",
       "       'country', 'year', 'n_genre', 'n_language', 'n_country'],\n",
       "      dtype='object')"
      ]
     },
     "execution_count": 90,
     "metadata": {},
     "output_type": "execute_result"
    }
   ],
   "source": [
    "ratings_metadata.columns"
   ]
  },
  {
   "cell_type": "code",
   "execution_count": 91,
   "id": "4b896f88-8a5f-4b76-9881-ac11a5ae7669",
   "metadata": {
    "tags": []
   },
   "outputs": [],
   "source": [
    "# variable we'll try to predict\n",
    "y = (ratings_metadata.after_five_year_rating - ratings_metadata.after_one_year_rating) * (ratings_metadata.five_year_num_voters - ratings_metadata.one_year_num_voters) # TODO: adjust by the number of voters\n",
    "df_clean = ratings_metadata.drop(['Wikipedia movie ID', 'Freebase movie ID',\n",
    "       'name', 'release date', 'languages', 'isAdult', \n",
    "       'countries', 'genres_x', 'tconst', 'titleType', 'primaryTitle',\n",
    "       'originalTitle', 'startYear', 'endYear', 'runtimeMinutes',\n",
    "       'genres_y', 'after_one_year_rating', 'after_five_year_rating',\n",
    "       'one_year_num_voters', 'five_year_num_voters'], axis = 1).copy(deep = True)"
   ]
  },
  {
   "cell_type": "code",
   "execution_count": 92,
   "id": "5aa22cbd",
   "metadata": {},
   "outputs": [
    {
     "data": {
      "image/png": "[encoded data removed]",
      "text/plain": [
       "<Figure size 640x480 with 1 Axes>"
      ]
     },
     "metadata": {},
     "output_type": "display_data"
    }
   ],
   "source": [
    "plt.hist(y, bins = 40)\n",
    "plt.show()"
   ]
  },
  {
   "cell_type": "code",
   "execution_count": 93,
   "id": "9771d084",
   "metadata": {},
   "outputs": [
    {
     "data": {
      "text/plain": [
       "([(1.6510037834911568e+16, 'genre_Superhero movie'),\n",
       "  (1.6510037834922528e+16, 'genre_Supernatural'),\n",
       "  (1.6510037834941582e+16, 'genre_Tragedy'),\n",
       "  (1.65100378349416e+16, 'genre_Adult'),\n",
       "  (1.6510037834943044e+16, 'genre_Comedy of Errors')],\n",
       " [(1.6510037834955798e+16, 'genre_Inspirational Drama'),\n",
       "  (1.6510037834956352e+16, 'genre_Musical comedy'),\n",
       "  (1.651003783495722e+16, 'genre_Remake'),\n",
       "  (1.6510037834959392e+16, 'genre_Swashbuckler films'),\n",
       "  (1.6510037834961564e+16, 'genre_Screwball comedy')])"
      ]
     },
     "execution_count": 93,
     "metadata": {},
     "output_type": "execute_result"
    }
   ],
   "source": [
    "X = pd.get_dummies(df_clean[['genre']])\n",
    "# Drop column B as it is now encoded\n",
    "X=(X-X.min())/(X.max() - X.min())\n",
    "X.fillna(0, inplace=True)\n",
    "\n",
    "reg = LinearRegression().fit(X, y)\n",
    "sorted(zip(reg.coef_,X.columns))[:5], sorted(zip(reg.coef_,X.columns))[-5:] # find which coefficient are more important\n"
   ]
  },
  {
   "cell_type": "code",
   "execution_count": 84,
   "id": "de0f353c",
   "metadata": {
    "tags": []
   },
   "outputs": [
    {
     "name": "stderr",
     "output_type": "stream",
     "text": [
      "/tmp/ipykernel_27235/3273029692.py:1: UserWarning: Pandas doesn't allow columns to be created via a new attribute name - see https://pandas.pydata.org/pandas-docs/stable/indexing.html#attribute-access\n",
      "  ratings_metadata.difference = y\n"
     ]
    }
   ],
   "source": [
    "ratings_metadata.difference = y"
   ]
  },
  {
   "cell_type": "code",
   "execution_count": 109,
   "id": "f6c037c1-a324-4b99-b547-c583d6a389e6",
   "metadata": {
    "tags": []
   },
   "outputs": [
    {
     "name": "stdout",
     "output_type": "stream",
     "text": [
      "Optimization terminated successfully.\n",
      "         Current function value: 0.626360\n",
      "         Iterations 7\n",
      "                           Logit Regression Results                           \n",
      "==============================================================================\n",
      "Dep. Variable:                      y   No. Observations:                 1844\n",
      "Model:                          Logit   Df Residuals:                     1837\n",
      "Method:                           MLE   Df Model:                            6\n",
      "Date:                Thu, 07 Dec 2023   Pseudo R-squ.:                 0.05262\n",
      "Time:                        17:35:22   Log-Likelihood:                -1155.0\n",
      "converged:                       True   LL-Null:                       -1219.2\n",
      "Covariance Type:            nonrobust   LLR p-value:                 2.941e-25\n",
      "=======================================================================================\n",
      "                          coef    std err          z      P>|z|      [0.025      0.975]\n",
      "---------------------------------------------------------------------------------------\n",
      "const                -147.0482     43.931     -3.347      0.001    -233.150     -60.946\n",
      "box office revenue   8.368e-10   4.26e-10      1.966      0.049    2.71e-12    1.67e-09\n",
      "year                    0.0733      0.022      3.352      0.001       0.030       0.116\n",
      "runtime                 0.0008      0.002      0.457      0.648      -0.003       0.004\n",
      "n_language             -0.1728      0.057     -3.032      0.002      -0.285      -0.061\n",
      "n_genre                -0.0484      0.023     -2.120      0.034      -0.093      -0.004\n",
      "one_year_num_voters -3.275e-05   4.61e-06     -7.102      0.000   -4.18e-05   -2.37e-05\n",
      "=======================================================================================\n"
     ]
    },
    {
     "name": "stderr",
     "output_type": "stream",
     "text": [
      "/home/stefano/anaconda3/lib/python3.9/site-packages/pandas/core/frame.py:5176: SettingWithCopyWarning: \n",
      "A value is trying to be set on a copy of a slice from a DataFrame\n",
      "\n",
      "See the caveats in the documentation: https://pandas.pydata.org/pandas-docs/stable/user_guide/indexing.html#returning-a-view-versus-a-copy\n",
      "  return super().fillna(\n"
     ]
    }
   ],
   "source": [
    "import statsmodels.api as sm\n",
    "\n",
    "y = (ratings_metadata.after_five_year_rating - ratings_metadata.after_one_year_rating) #* (ratings_metadata.five_year_num_voters - ratings_metadata.one_year_num_voters)\n",
    "y = (y > 0).astype(int)\n",
    "X = ratings_metadata[['box office revenue', 'year', 'runtime', 'n_language', 'n_genre', 'one_year_num_voters']]\n",
    "X.fillna(0, inplace=True)\n",
    "X = sm.add_constant(X)\n",
    "\n",
    "model = sm.Logit(y, X)\n",
    "results = model.fit()\n",
    "print(results.summary())\n"
   ]
  },
  {
   "cell_type": "markdown",
   "id": "5ad47a53",
   "metadata": {},
   "source": [
    "Logistic regression on having or not better reviews after five years. Features that have negative influence: number of languages, nuber of genre, and number of voters after one year. This sugests that the wider the audience, the more commercialized a certain movie is the worst it's reviews are gonna be in 5 years. <br>\n",
    "In recent years we're making movies that age better. <br>\n",
    "On average movies have a worst rating after five years. "
   ]
  },
  {
   "cell_type": "code",
   "execution_count": 110,
   "id": "2b6d90f6",
   "metadata": {},
   "outputs": [
    {
     "name": "stdout",
     "output_type": "stream",
     "text": [
      "                            OLS Regression Results                            \n",
      "==============================================================================\n",
      "Dep. Variable:                      y   R-squared:                       0.022\n",
      "Model:                            OLS   Adj. R-squared:                  0.020\n",
      "Method:                 Least Squares   F-statistic:                     8.364\n",
      "Date:                Thu, 07 Dec 2023   Prob (F-statistic):           7.84e-08\n",
      "Time:                        17:35:56   Log-Likelihood:                -1254.6\n",
      "No. Observations:                1844   AIC:                             2521.\n",
      "Df Residuals:                    1838   BIC:                             2554.\n",
      "Df Model:                           5                                         \n",
      "Covariance Type:            nonrobust                                         \n",
      "======================================================================================\n",
      "                         coef    std err          t      P>|t|      [0.025      0.975]\n",
      "--------------------------------------------------------------------------------------\n",
      "const                -18.3342      9.777     -1.875      0.061     -37.509       0.841\n",
      "box office revenue -9.409e-11   7.65e-11     -1.230      0.219   -2.44e-10     5.6e-11\n",
      "year                   0.0094      0.005      1.927      0.054      -0.000       0.019\n",
      "runtime                0.0001      0.000      0.324      0.746      -0.001       0.001\n",
      "n_language            -0.0420      0.011     -3.768      0.000      -0.064      -0.020\n",
      "n_genre               -0.0134      0.005     -2.685      0.007      -0.023      -0.004\n",
      "==============================================================================\n",
      "Omnibus:                     8991.602   Durbin-Watson:                   2.036\n",
      "Prob(Omnibus):                  0.000   Jarque-Bera (JB):              290.455\n",
      "Skew:                           0.509   Prob(JB):                     8.48e-64\n",
      "Kurtosis:                       1.343   Cond. No.                     1.49e+11\n",
      "==============================================================================\n",
      "\n",
      "Notes:\n",
      "[1] Standard Errors assume that the covariance matrix of the errors is correctly specified.\n",
      "[2] The condition number is large, 1.49e+11. This might indicate that there are\n",
      "strong multicollinearity or other numerical problems.\n"
     ]
    },
    {
     "name": "stderr",
     "output_type": "stream",
     "text": [
      "/home/stefano/anaconda3/lib/python3.9/site-packages/pandas/core/frame.py:5176: SettingWithCopyWarning: \n",
      "A value is trying to be set on a copy of a slice from a DataFrame\n",
      "\n",
      "See the caveats in the documentation: https://pandas.pydata.org/pandas-docs/stable/user_guide/indexing.html#returning-a-view-versus-a-copy\n",
      "  return super().fillna(\n"
     ]
    }
   ],
   "source": [
    "y = (ratings_metadata.after_five_year_rating - ratings_metadata.after_one_year_rating) * (ratings_metadata.five_year_num_voters - ratings_metadata.one_year_num_voters)\n",
    "y = (y > 0).astype(int)\n",
    "X = ratings_metadata[['box office revenue', 'year', 'runtime', 'n_language', 'n_genre']]\n",
    "X.fillna(0, inplace=True)\n",
    "X = sm.add_constant(X)\n",
    "\n",
    "model = sm.OLS(y, X)\n",
    "results = model.fit()\n",
    "print(results.summary())"
   ]
  },
  {
   "cell_type": "markdown",
   "metadata": {},
   "source": [
    "Here we regress on the difference in ratings weighted by the number of voters, the results are similar to before"
   ]
  },
  {
   "cell_type": "markdown",
   "metadata": {},
   "source": [
    "## Most important features over time"
   ]
  },
  {
   "cell_type": "code",
   "execution_count": 24,
   "metadata": {},
   "outputs": [],
   "source": [
    "res = pd.read_csv('data/movies_imdb_ids.csv')"
   ]
  },
  {
   "cell_type": "code",
   "execution_count": 25,
   "metadata": {},
   "outputs": [
    {
     "name": "stderr",
     "output_type": "stream",
     "text": [
      "/tmp/ipykernel_27235/1811638890.py:6: FutureWarning: DataFrame.mean and DataFrame.median with numeric_only=None will include datetime64 and datetime64tz columns in a future version.\n",
      "  res.fillna(res.mean(), inplace=True)\n",
      "/tmp/ipykernel_27235/1811638890.py:6: FutureWarning: Dropping of nuisance columns in DataFrame reductions (with 'numeric_only=None') is deprecated; in a future version this will raise TypeError.  Select only valid columns before calling the reduction.\n",
      "  res.fillna(res.mean(), inplace=True)\n"
     ]
    }
   ],
   "source": [
    "res['release date'] = pd.to_datetime(res['release date'], format='%Y-%m-%d') # convert to datetime format\n",
    "res = res.loc[res['release date']  > datetime(2004, 1, 1)].copy()  # only consider dates after 2004 (before imdb didn't exist)\n",
    "res = res.loc[res['box office revenue'].notna()].copy() # remove ones without box office revenue\n",
    "res.reset_index(inplace=True, drop=True)\n",
    "res = res.loc[:, ~res.columns.str.contains('^Unnamed')]  # dropping unnamed columns\n",
    "res.fillna(res.mean(), inplace=True)\n"
   ]
  },
  {
   "cell_type": "code",
   "execution_count": 28,
   "metadata": {},
   "outputs": [],
   "source": [
    "from datetime import * \n",
    "\n",
    "days_range = 700\n",
    "\n",
    "start_range = datetime(1920, 1, 1)\n",
    "end_range = datetime(1920, 1, 1) + timedelta(days_range)\n",
    "max_date = res['release date'].max()\n",
    "\n",
    "res = res.loc[res['release date'] >= start_range].copy(deep = True)\n",
    "\n",
    "while start_range < max_date: \n",
    "    res.loc[(res['release date'] >= start_range) & (res['release date'] < end_range), ('release date')]  = start_range\n",
    "    start_range = end_range\n",
    "    end_range = end_range + timedelta(days_range)"
   ]
  },
  {
   "cell_type": "code",
   "execution_count": 32,
   "metadata": {},
   "outputs": [
    {
     "data": {
      "text/plain": [
       "Index(['Wikipedia movie ID', 'Freebase movie ID', 'name', 'release date',\n",
       "       'box office revenue', 'runtime', 'languages', 'countries', 'genres_x',\n",
       "       'tconst', 'titleType', 'primaryTitle', 'originalTitle', 'isAdult',\n",
       "       'startYear', 'endYear', 'runtimeMinutes', 'genres_y',\n",
       "       'after_one_year_rating', 'after_five_year_rating',\n",
       "       'one_year_num_voters', 'five_year_num_voters'],\n",
       "      dtype='object')"
      ]
     },
     "execution_count": 32,
     "metadata": {},
     "output_type": "execute_result"
    }
   ],
   "source": [
    "ratings_df = pd.read_csv('data/imbd_ratings.csv') \n",
    "ratings_df = ratings_df.set_index(ratings_df.iloc[:, 0])\n",
    "ratings_df = ratings_df.loc[:, ~ratings_df.columns.str.contains('^Unnamed')] \n",
    "\n",
    "ratings_metadata = res.merge(ratings_df, how ='right', left_on='tconst', right_index=True)\n",
    "ratings_metadata.columns"
   ]
  },
  {
   "cell_type": "code",
   "execution_count": 114,
   "metadata": {},
   "outputs": [
    {
     "name": "stdout",
     "output_type": "stream",
     "text": [
      "                            OLS Regression Results                            \n",
      "==============================================================================\n",
      "Dep. Variable:     box office revenue   R-squared:                       0.227\n",
      "Model:                            OLS   Adj. R-squared:                  0.224\n",
      "Method:                 Least Squares   F-statistic:                     77.13\n",
      "Date:                Thu, 07 Dec 2023   Prob (F-statistic):           3.22e-98\n",
      "Time:                        17:50:39   Log-Likelihood:                -37135.\n",
      "No. Observations:                1844   AIC:                         7.429e+04\n",
      "Df Residuals:                    1836   BIC:                         7.433e+04\n",
      "Df Model:                           7                                         \n",
      "Covariance Type:            nonrobust                                         \n",
      "=========================================================================================\n",
      "                            coef    std err          t      P>|t|      [0.025      0.975]\n",
      "-----------------------------------------------------------------------------------------\n",
      "const                 -8.666e+09    2.8e+09     -3.092      0.002   -1.42e+10   -3.17e+09\n",
      "runtime                5.319e+05   1.17e+05      4.540      0.000    3.02e+05    7.62e+05\n",
      "isAdult               -5.708e+06   4.09e+07     -0.139      0.889    -8.6e+07    7.46e+07\n",
      "year                     4.3e+06   1.39e+06      3.083      0.002    1.56e+06    7.04e+06\n",
      "after_one_year_rating -6.675e+06   2.45e+06     -2.724      0.007   -1.15e+07   -1.87e+06\n",
      "n_language             7.772e+06   3.17e+06      2.452      0.014    1.56e+06     1.4e+07\n",
      "n_genre                1.115e+07   1.39e+06      8.001      0.000    8.42e+06    1.39e+07\n",
      "one_year_num_voters    2674.3182    152.704     17.513      0.000    2374.826    2973.810\n",
      "==============================================================================\n",
      "Omnibus:                     2399.715   Durbin-Watson:                   1.937\n",
      "Prob(Omnibus):                  0.000   Jarque-Bera (JB):           735342.860\n",
      "Skew:                           6.833   Prob(JB):                         0.00\n",
      "Kurtosis:                      99.870   Cond. No.                     2.15e+07\n",
      "==============================================================================\n",
      "\n",
      "Notes:\n",
      "[1] Standard Errors assume that the covariance matrix of the errors is correctly specified.\n",
      "[2] The condition number is large, 2.15e+07. This might indicate that there are\n",
      "strong multicollinearity or other numerical problems.\n"
     ]
    },
    {
     "name": "stderr",
     "output_type": "stream",
     "text": [
      "/home/stefano/anaconda3/lib/python3.9/site-packages/pandas/core/frame.py:5176: SettingWithCopyWarning: \n",
      "A value is trying to be set on a copy of a slice from a DataFrame\n",
      "\n",
      "See the caveats in the documentation: https://pandas.pydata.org/pandas-docs/stable/user_guide/indexing.html#returning-a-view-versus-a-copy\n",
      "  return super().fillna(\n"
     ]
    }
   ],
   "source": [
    "import statsmodels.api as sm\n",
    "\n",
    "\n",
    "y = ratings_metadata[['box office revenue']]\n",
    "X = ratings_metadata[['runtime', 'isAdult', 'year', 'after_one_year_rating', 'n_language', 'n_genre', 'one_year_num_voters', ]]\n",
    "X.fillna(0, inplace=True)\n",
    "X = sm.add_constant(X)\n",
    "\n",
    "model = sm.OLS(y, X.astype(float))\n",
    "results = model.fit()\n",
    "print(results.summary())"
   ]
  },
  {
   "cell_type": "code",
   "execution_count": 121,
   "metadata": {},
   "outputs": [
    {
     "name": "stdout",
     "output_type": "stream",
     "text": [
      "2002-05-30 00:00:00\n",
      "                            OLS Regression Results                            \n",
      "==============================================================================\n",
      "Dep. Variable:     box office revenue   R-squared:                       0.479\n",
      "Model:                            OLS   Adj. R-squared:                  0.436\n",
      "Method:                 Least Squares   F-statistic:                     11.05\n",
      "Date:                Thu, 07 Dec 2023   Prob (F-statistic):           1.43e-07\n",
      "Time:                        17:53:48   Log-Likelihood:                -1277.2\n",
      "No. Observations:                  66   AIC:                             2566.\n",
      "Df Residuals:                      60   BIC:                             2580.\n",
      "Df Model:                           5                                         \n",
      "Covariance Type:            nonrobust                                         \n",
      "=========================================================================================\n",
      "                            coef    std err          t      P>|t|      [0.025      0.975]\n",
      "-----------------------------------------------------------------------------------------\n",
      "runtime                  7.8e+05   4.24e+05      1.839      0.071   -6.83e+04    1.63e+06\n",
      "isAdult                5.552e-07   7.44e-07      0.747      0.458   -9.32e-07    2.04e-06\n",
      "year                  -2.548e+04   2.93e+04     -0.869      0.388   -8.42e+04    3.32e+04\n",
      "after_one_year_rating -7.418e+06   6.16e+06     -1.204      0.233   -1.97e+07    4.91e+06\n",
      "n_language             2.372e+07   7.35e+06      3.228      0.002    9.02e+06    3.84e+07\n",
      "n_genre                1.069e+06   3.62e+06      0.295      0.769   -6.17e+06    8.31e+06\n",
      "one_year_num_voters    5850.4810   1226.120      4.772      0.000    3397.875    8303.087\n",
      "==============================================================================\n",
      "Omnibus:                       34.284   Durbin-Watson:                   1.951\n",
      "Prob(Omnibus):                  0.000   Jarque-Bera (JB):              156.699\n",
      "Skew:                           1.303   Prob(JB):                     9.40e-35\n",
      "Kurtosis:                      10.085   Cond. No.                     8.49e+16\n",
      "==============================================================================\n",
      "\n",
      "Notes:\n",
      "[1] Standard Errors assume that the covariance matrix of the errors is correctly specified.\n",
      "[2] The smallest eigenvalue is 6.79e-25. This might indicate that there are\n",
      "strong multicollinearity problems or that the design matrix is singular.\n",
      "\n",
      "\n",
      "\n",
      "\n",
      "2004-04-29 00:00:00\n",
      "                            OLS Regression Results                            \n",
      "==============================================================================\n",
      "Dep. Variable:     box office revenue   R-squared:                       0.330\n",
      "Model:                            OLS   Adj. R-squared:                  0.319\n",
      "Method:                 Least Squares   F-statistic:                     30.25\n",
      "Date:                Thu, 07 Dec 2023   Prob (F-statistic):           1.76e-29\n",
      "Time:                        17:53:48   Log-Likelihood:                -7450.1\n",
      "No. Observations:                 375   AIC:                         1.491e+04\n",
      "Df Residuals:                     368   BIC:                         1.494e+04\n",
      "Df Model:                           6                                         \n",
      "Covariance Type:            nonrobust                                         \n",
      "=========================================================================================\n",
      "                            coef    std err          t      P>|t|      [0.025      0.975]\n",
      "-----------------------------------------------------------------------------------------\n",
      "runtime                5010.8801    1.1e+05      0.046      0.964   -2.11e+05    2.21e+05\n",
      "isAdult                2.849e+07    6.1e+07      0.467      0.641   -9.16e+07    1.49e+08\n",
      "year                   2004.3722   1.54e+04      0.130      0.896   -2.82e+04    3.23e+04\n",
      "after_one_year_rating  -5.15e+05   4.16e+06     -0.124      0.901   -8.69e+06    7.66e+06\n",
      "n_language              3.01e+06   4.88e+06      0.617      0.538   -6.58e+06    1.26e+07\n",
      "n_genre                4.803e+06   2.43e+06      1.977      0.049    2.59e+04    9.58e+06\n",
      "one_year_num_voters    6571.2277    599.881     10.954      0.000    5391.603    7750.852\n",
      "==============================================================================\n",
      "Omnibus:                      272.576   Durbin-Watson:                   2.046\n",
      "Prob(Omnibus):                  0.000   Jarque-Bera (JB):             3948.924\n",
      "Skew:                           2.940   Prob(JB):                         0.00\n",
      "Kurtosis:                      17.770   Cond. No.                     1.32e+05\n",
      "==============================================================================\n",
      "\n",
      "Notes:\n",
      "[1] Standard Errors assume that the covariance matrix of the errors is correctly specified.\n",
      "[2] The condition number is large, 1.32e+05. This might indicate that there are\n",
      "strong multicollinearity or other numerical problems.\n",
      "\n",
      "\n",
      "\n",
      "\n",
      "2006-03-30 00:00:00\n",
      "                            OLS Regression Results                            \n",
      "==============================================================================\n",
      "Dep. Variable:     box office revenue   R-squared:                       0.310\n",
      "Model:                            OLS   Adj. R-squared:                  0.302\n",
      "Method:                 Least Squares   F-statistic:                     36.32\n",
      "Date:                Thu, 07 Dec 2023   Prob (F-statistic):           2.47e-36\n",
      "Time:                        17:53:49   Log-Likelihood:                -9674.3\n",
      "No. Observations:                 491   AIC:                         1.936e+04\n",
      "Df Residuals:                     484   BIC:                         1.939e+04\n",
      "Df Model:                           6                                         \n",
      "Covariance Type:            nonrobust                                         \n",
      "=========================================================================================\n",
      "                            coef    std err          t      P>|t|      [0.025      0.975]\n",
      "-----------------------------------------------------------------------------------------\n",
      "runtime                5.079e+05   2.28e+05      2.231      0.026    6.06e+04    9.55e+05\n",
      "isAdult                2.337e+07   4.42e+07      0.529      0.597   -6.34e+07     1.1e+08\n",
      "year                   1973.4845   1.46e+04      0.135      0.893   -2.67e+04    3.07e+04\n",
      "after_one_year_rating -1.196e+07   3.01e+06     -3.971      0.000   -1.79e+07   -6.04e+06\n",
      "n_language             7.703e+06      4e+06      1.925      0.055    -1.6e+05    1.56e+07\n",
      "n_genre                6.744e+06   1.78e+06      3.789      0.000    3.25e+06    1.02e+07\n",
      "one_year_num_voters    2934.7454    259.809     11.296      0.000    2424.253    3445.238\n",
      "==============================================================================\n",
      "Omnibus:                      373.035   Durbin-Watson:                   2.001\n",
      "Prob(Omnibus):                  0.000   Jarque-Bera (JB):             6692.188\n",
      "Skew:                           3.165   Prob(JB):                         0.00\n",
      "Kurtosis:                      19.942   Cond. No.                     2.10e+05\n",
      "==============================================================================\n",
      "\n",
      "Notes:\n",
      "[1] Standard Errors assume that the covariance matrix of the errors is correctly specified.\n",
      "[2] The condition number is large, 2.1e+05. This might indicate that there are\n",
      "strong multicollinearity or other numerical problems.\n",
      "\n",
      "\n",
      "\n",
      "\n",
      "2008-02-28 00:00:00\n",
      "                            OLS Regression Results                            \n",
      "==============================================================================\n",
      "Dep. Variable:     box office revenue   R-squared:                       0.218\n",
      "Model:                            OLS   Adj. R-squared:                  0.208\n",
      "Method:                 Least Squares   F-statistic:                     20.61\n",
      "Date:                Thu, 07 Dec 2023   Prob (F-statistic):           2.52e-21\n",
      "Time:                        17:53:49   Log-Likelihood:                -9155.2\n",
      "No. Observations:                 450   AIC:                         1.832e+04\n",
      "Df Residuals:                     443   BIC:                         1.835e+04\n",
      "Df Model:                           6                                         \n",
      "Covariance Type:            nonrobust                                         \n",
      "=========================================================================================\n",
      "                            coef    std err          t      P>|t|      [0.025      0.975]\n",
      "-----------------------------------------------------------------------------------------\n",
      "runtime                3.091e+06    5.1e+05      6.064      0.000    2.09e+06    4.09e+06\n",
      "isAdult               -2.263e+07    1.2e+08     -0.188      0.851   -2.59e+08    2.13e+08\n",
      "year                  -1.229e+05   3.03e+04     -4.057      0.000   -1.82e+05   -6.34e+04\n",
      "after_one_year_rating -1.523e+07   6.42e+06     -2.371      0.018   -2.79e+07   -2.61e+06\n",
      "n_language             1.206e+06   8.84e+06      0.136      0.892   -1.62e+07    1.86e+07\n",
      "n_genre                1.365e+07   3.56e+06      3.833      0.000    6.65e+06    2.07e+07\n",
      "one_year_num_voters    2277.8347    408.103      5.582      0.000    1475.776    3079.894\n",
      "==============================================================================\n",
      "Omnibus:                      695.096   Durbin-Watson:                   1.878\n",
      "Prob(Omnibus):                  0.000   Jarque-Bera (JB):           235473.949\n",
      "Skew:                           8.320   Prob(JB):                         0.00\n",
      "Kurtosis:                     113.823   Cond. No.                     3.56e+05\n",
      "==============================================================================\n",
      "\n",
      "Notes:\n",
      "[1] Standard Errors assume that the covariance matrix of the errors is correctly specified.\n",
      "[2] The condition number is large, 3.56e+05. This might indicate that there are\n",
      "strong multicollinearity or other numerical problems.\n",
      "\n",
      "\n",
      "\n",
      "\n",
      "2010-01-28 00:00:00\n",
      "                            OLS Regression Results                            \n",
      "==============================================================================\n",
      "Dep. Variable:     box office revenue   R-squared:                       0.326\n",
      "Model:                            OLS   Adj. R-squared:                  0.315\n",
      "Method:                 Least Squares   F-statistic:                     28.89\n",
      "Date:                Thu, 07 Dec 2023   Prob (F-statistic):           3.54e-28\n",
      "Time:                        17:53:49   Log-Likelihood:                -7364.4\n",
      "No. Observations:                 365   AIC:                         1.474e+04\n",
      "Df Residuals:                     358   BIC:                         1.477e+04\n",
      "Df Model:                           6                                         \n",
      "Covariance Type:            nonrobust                                         \n",
      "=========================================================================================\n",
      "                            coef    std err          t      P>|t|      [0.025      0.975]\n",
      "-----------------------------------------------------------------------------------------\n",
      "runtime                1.289e+06    4.1e+05      3.146      0.002    4.83e+05    2.09e+06\n",
      "isAdult               -7.809e+06   1.46e+08     -0.054      0.957   -2.94e+08    2.79e+08\n",
      "year                  -4.952e+04   2.73e+04     -1.813      0.071   -1.03e+05    4183.418\n",
      "after_one_year_rating -8.254e+06      6e+06     -1.375      0.170   -2.01e+07    3.55e+06\n",
      "n_language             5.543e+05   7.74e+06      0.072      0.943   -1.47e+07    1.58e+07\n",
      "n_genre                1.583e+07   3.31e+06      4.777      0.000    9.31e+06    2.23e+07\n",
      "one_year_num_voters    2393.5041    250.984      9.536      0.000    1899.915    2887.093\n",
      "==============================================================================\n",
      "Omnibus:                      259.165   Durbin-Watson:                   2.103\n",
      "Prob(Omnibus):                  0.000   Jarque-Bera (JB):             3164.978\n",
      "Skew:                           2.908   Prob(JB):                         0.00\n",
      "Kurtosis:                      16.202   Cond. No.                     6.90e+05\n",
      "==============================================================================\n",
      "\n",
      "Notes:\n",
      "[1] Standard Errors assume that the covariance matrix of the errors is correctly specified.\n",
      "[2] The condition number is large, 6.9e+05. This might indicate that there are\n",
      "strong multicollinearity or other numerical problems.\n",
      "\n",
      "\n",
      "\n",
      "\n",
      "2011-12-29 00:00:00\n",
      "                            OLS Regression Results                            \n",
      "==============================================================================\n",
      "Dep. Variable:     box office revenue   R-squared:                       0.266\n",
      "Model:                            OLS   Adj. R-squared:                  0.217\n",
      "Method:                 Least Squares   F-statistic:                     5.423\n",
      "Date:                Thu, 07 Dec 2023   Prob (F-statistic):           8.00e-05\n",
      "Time:                        17:53:49   Log-Likelihood:                -1985.9\n",
      "No. Observations:                  97   AIC:                             3986.\n",
      "Df Residuals:                      90   BIC:                             4004.\n",
      "Df Model:                           6                                         \n",
      "Covariance Type:            nonrobust                                         \n",
      "=========================================================================================\n",
      "                            coef    std err          t      P>|t|      [0.025      0.975]\n",
      "-----------------------------------------------------------------------------------------\n",
      "runtime                2.752e+06   1.41e+06      1.947      0.055   -5.61e+04    5.56e+06\n",
      "isAdult                7.909e+07   2.03e+08      0.391      0.697   -3.23e+08    4.81e+08\n",
      "year                  -1.686e+05   9.05e+04     -1.862      0.066   -3.48e+05    1.13e+04\n",
      "after_one_year_rating -1.171e+07   1.81e+07     -0.648      0.518   -4.76e+07    2.42e+07\n",
      "n_language             9.417e+07   4.16e+07      2.265      0.026    1.16e+07    1.77e+08\n",
      "n_genre                4.276e+07   1.22e+07      3.497      0.001    1.85e+07    6.71e+07\n",
      "one_year_num_voters    1709.6772    580.018      2.948      0.004     557.371    2861.983\n",
      "==============================================================================\n",
      "Omnibus:                      113.031   Durbin-Watson:                   1.900\n",
      "Prob(Omnibus):                  0.000   Jarque-Bera (JB):             2016.828\n",
      "Skew:                           3.864   Prob(JB):                         0.00\n",
      "Kurtosis:                      23.959   Cond. No.                     4.02e+05\n",
      "==============================================================================\n",
      "\n",
      "Notes:\n",
      "[1] Standard Errors assume that the covariance matrix of the errors is correctly specified.\n",
      "[2] The condition number is large, 4.02e+05. This might indicate that there are\n",
      "strong multicollinearity or other numerical problems.\n",
      "\n",
      "\n",
      "\n",
      "\n"
     ]
    }
   ],
   "source": [
    "for name, group in ratings_metadata.groupby('release date'): \n",
    "    y = group[['box office revenue']]\n",
    "    X = group[['runtime', 'isAdult', 'year', 'after_one_year_rating', 'n_language', 'n_genre', 'one_year_num_voters', ]].copy()\n",
    "    X.fillna(0, inplace=True)\n",
    "    X = sm.add_constant(X)\n",
    "\n",
    "    model = sm.OLS(y, X.astype(float))\n",
    "    results = model.fit()\n",
    "    print(name)\n",
    "    print(results.summary())\n",
    "    print('\\n\\n\\n')"
   ]
  }
 ],
 "metadata": {
  "kernelspec": {
   "display_name": "Python 3 (ipykernel)",
   "language": "python",
   "name": "python3"
  },
  "language_info": {
   "codemirror_mode": {
    "name": "ipython",
    "version": 3
   },
   "file_extension": ".py",
   "mimetype": "text/x-python",
   "name": "python",
   "nbconvert_exporter": "python",
   "pygments_lexer": "ipython3",
   "version": "3.9.15"
  }
 },
 "nbformat": 4,
 "nbformat_minor": 5
}

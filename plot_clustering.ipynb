{
 "cells": [
  {
   "cell_type": "code",
   "execution_count": 112,
   "id": "a4fcbce3-506f-4ece-a09a-ddc8e95c9fcc",
   "metadata": {
    "tags": []
   },
   "outputs": [
    {
     "name": "stdout",
     "output_type": "stream",
     "text": [
      "The autoreload extension is already loaded. To reload it, use:\n",
      "  %reload_ext autoreload\n"
     ]
    }
   ],
   "source": [
    "%load_ext autoreload\n",
    "%autoreload 2\n",
    "\n",
    "import pandas as pd\n",
    "import numpy as np\n",
    "import statsmodels.api as sm\n",
    "\n",
    "import matplotlib.pyplot as plt\n",
    "import seaborn as sns\n",
    "from datetime import datetime\n",
    "from sklearn.linear_model import LinearRegression\n",
    "import xml.etree.ElementTree as ET\n",
    "import time\n",
    "import json\n",
    "import tarfile\n",
    "import gzip\n",
    "import os\n",
    "\n",
    "from data_preprocessing import * \n",
    "from imdb_ratings_scraper import *\n",
    "import load_functions as lf\n",
    "\n",
    "import spacy, nltk, gensim, sklearn\n",
    "import pyLDAvis.gensim_models\n",
    "import pickle\n"
   ]
  },
  {
   "cell_type": "code",
   "execution_count": 3,
   "id": "7aef02a4-f325-4d66-819c-dfc6edd55eac",
   "metadata": {
    "tags": []
   },
   "outputs": [],
   "source": [
    "data_folder = './data/MovieSummaries/'\n",
    "(movie_metadata, character_metadata, name_clusters, plot_summaries, test_data) = \\\n",
    "    lf.load_movie_summaries(data_folder)\n",
    "plot_summaries = pd.merge(plot_summaries, movie_metadata[['wiki_movie_id','movie_name','release_date']], on=\"wiki_movie_id\", how='left')\n"
   ]
  },
  {
   "cell_type": "code",
   "execution_count": 4,
   "id": "c5781936-e618-4bc1-8fc0-a5ba659be21a",
   "metadata": {
    "tags": []
   },
   "outputs": [
    {
     "name": "stdout",
     "output_type": "stream",
     "text": [
      "Number of nan's in movie_name 99\n",
      "Number of nan's in movie_name 2717\n"
     ]
    }
   ],
   "source": [
    "#number of nan in movie_name\n",
    "print(\"Number of nan's in movie_name {}\".format(plot_summaries.movie_name.isna().sum()))\n",
    "#number of nan in release_date\n",
    "print(\"Number of nan's in movie_name {}\".format(plot_summaries.release_date.isna().sum()))"
   ]
  },
  {
   "cell_type": "code",
   "execution_count": 5,
   "id": "4b41f039-284c-4799-abd5-99fa50964a33",
   "metadata": {
    "tags": []
   },
   "outputs": [
    {
     "name": "stdout",
     "output_type": "stream",
     "text": [
      "42303\n"
     ]
    }
   ],
   "source": [
    "#amount of plots\n",
    "print(len(plot_summaries))"
   ]
  },
  {
   "cell_type": "code",
   "execution_count": 6,
   "id": "d5be6c76-2d11-48e2-97d6-b295b984759c",
   "metadata": {
    "tags": []
   },
   "outputs": [],
   "source": [
    "plots = plot_summaries[\"plot\"]"
   ]
  },
  {
   "cell_type": "code",
   "execution_count": 138,
   "id": "5c197104-6757-4248-aa40-16ea06506c37",
   "metadata": {
    "tags": []
   },
   "outputs": [],
   "source": [
    "plots_list = list(plots)\n",
    "plots_list_test = plots_list[:500]"
   ]
  },
  {
   "cell_type": "markdown",
   "id": "a0ade741-6ecb-4e78-bfbd-88e97dd1b8ee",
   "metadata": {},
   "source": [
    "At the moment, don't filter out short plots yet"
   ]
  },
  {
   "cell_type": "code",
   "execution_count": 8,
   "id": "f669e89c-5192-4aad-97a6-d3382b5e8993",
   "metadata": {
    "tags": []
   },
   "outputs": [],
   "source": [
    "nlp = spacy.load('en_core_web_sm')"
   ]
  },
  {
   "cell_type": "code",
   "execution_count": 147,
   "id": "35339dab-a437-4a8b-b77a-5e58e8b2ab7c",
   "metadata": {
    "tags": []
   },
   "outputs": [],
   "source": [
    "STOPWORDS = spacy.lang.en.stop_words.STOP_WORDS\n",
    "STOPWORDS.add(\"film\")\n",
    "STOPWORDS.add(\"tell\")\n",
    "\n",
    "processed_plots_1 = list()\n",
    "for doc in nlp.pipe(plots_list, n_process=5, batch_size=10):\n",
    "\n",
    "    # Process document using Spacy NLP pipeline.\n",
    "    ents = doc.ents  # Named entities\n",
    "    \n",
    "    # All people's names\n",
    "    people = [ent.text for ent in ents if ent.label_==\"PERSON\"]\n",
    "    \n",
    "    # Keep only words (no numbers, no punctuation).\n",
    "    # Lemmatize tokens, remove punctuation, remove stopwords and remove one-word people's names\n",
    "    doc = [token.lemma_ for token in doc if token.is_alpha and not token.is_stop and token.text not in people]\n",
    "    \n",
    "    # Remove common words from a stopword list, keep only words of length 3 or more and casefolding\n",
    "    doc = [token.casefold() for token in doc if token not in STOPWORDS and len(token) > 2]\n",
    "\n",
    "    # Add named entities, but only if they are a compound of more than word.\n",
    "    doc.extend([str(entity).casefold() for entity in ents if len(entity) > 1])\n",
    "    \n",
    "    processed_plots_1.append(doc)\n"
   ]
  },
  {
   "cell_type": "code",
   "execution_count": 150,
   "id": "ae5d3691-7e0f-4d9b-8301-cd7cb452c90d",
   "metadata": {
    "tags": []
   },
   "outputs": [],
   "source": [
    "with open('processed_plots_1_full.pickle', 'wb') as f:\n",
    "    pickle.dump(processed_plots_1, f)"
   ]
  },
  {
   "cell_type": "code",
   "execution_count": 140,
   "id": "fcf9d88a-67a4-4b10-a9fd-19dea7251797",
   "metadata": {
    "tags": []
   },
   "outputs": [],
   "source": [
    "#print(plots_list[3])\n",
    "test_plot = nlp(plots_list[3])\n",
    "people = [ent.text for ent in test_plot.ents if ent.label_==\"PERSON\"]\n",
    "test_proc = [token.lemma_ for token in test_plot if token.is_alpha and not token.is_stop and token.text not in people]\n",
    "#print(test_proc)"
   ]
  },
  {
   "cell_type": "code",
   "execution_count": 146,
   "id": "fc5c8b0d-282e-4538-a4fc-1597834253a4",
   "metadata": {
    "tags": []
   },
   "outputs": [],
   "source": [
    "#print(processed_plots_1[1])"
   ]
  },
  {
   "cell_type": "code",
   "execution_count": 151,
   "id": "3e4cc30c-95f7-487b-8a79-aee905a45c80",
   "metadata": {
    "tags": []
   },
   "outputs": [],
   "source": [
    "# Add bigrams too\n",
    "from gensim.models.phrases import Phrases\n",
    "import copy\n",
    "\n",
    "#with open('processed_plots_1_full.pickle', 'rb' as f:\n",
    "#         processed_plots_1_full = pickle.load(f)\n",
    "\n",
    "processed_plots_2 = copy.deepcopy(processed_plots_1)\n",
    "\n",
    "# Add bigrams to docs (only ones that appear 20 times or more).\n",
    "bigram = Phrases(processed_plots_2, min_count=20)\n",
    "\n",
    "for idx in range(len(processed_plots_2)):\n",
    "    for token in bigram[processed_plots_2[idx]]:\n",
    "        if '_' in token:\n",
    "            # Token is a bigram, add to document.\n",
    "            processed_plots_2[idx].append(token)\n",
    "\n",
    "# also add trigrams\n",
    "#trigram = Phrases(bigram[processed_plots], min_count=15, threshold=100) \n",
    "#for idx in range(len(processed_plots)):\n",
    "#    for token in trigram[bigram[processed_plots[idx]]]:\n",
    "#        if token.count('_') == 2:\n",
    "#            # Token is a trigram, add to document.\n",
    "#            processed_plots[idx].append(token)\n",
    "#            #print(\"trigram {} added\".format(token))\n",
    "\n",
    "with open('processed_plots_2_full.pickle', 'wb') as f:\n",
    "    pickle.dump(processed_plots_2, f)\n"
   ]
  },
  {
   "cell_type": "code",
   "execution_count": 152,
   "id": "cf0ca572-c9e6-4887-aad8-b68d470847f4",
   "metadata": {
    "tags": []
   },
   "outputs": [],
   "source": [
    "# Create a dictionary representation of the documents, and filter out frequent and rare words.\n",
    "from gensim.corpora import Dictionary\n",
    "dictionary = Dictionary(processed_plots_2)\n",
    "\n",
    "# Remove rare and common tokens.\n",
    "# Filter out words that occur too frequently or too rarely.\n",
    "max_freq = 0.33\n",
    "min_wordcount = 5\n",
    "dictionary.filter_extremes(no_below=min_wordcount, no_above=max_freq)\n",
    "\n",
    "# Bag-of-words representation of the documents.\n",
    "corpus = [dictionary.doc2bow(doc) for doc in processed_plots_2]\n",
    "#MmCorpus.serialize(\"models/corpus.mm\", corpus)\n"
   ]
  },
  {
   "cell_type": "markdown",
   "id": "c3e0526a-abcf-4245-876a-d41040819116",
   "metadata": {},
   "source": [
    "The words \"tell\", \"film\" and \"kill\" occur in about 30 % of the plots. However, I would think tell and film are not relevant to charactarize the plot, whereas kill is relevent. So should maybe not try to put max_freq parameter in filter_extremes too low to filter out \"film\" and \"tell\", but filter those out manually."
   ]
  },
  {
   "cell_type": "code",
   "execution_count": 153,
   "id": "4ea7d4e4-dc2d-41d8-b0df-833436f6bc17",
   "metadata": {
    "tags": []
   },
   "outputs": [],
   "source": [
    "# models\n",
    "seed = 42\n",
    "from gensim.models import LdaMulticore\n",
    "\n",
    "params = {'passes': 20, 'random_state': seed}\n",
    "base_models = dict()\n",
    "model1 = LdaMulticore(corpus=corpus, num_topics=6, id2word=dictionary, workers=6, eta='auto',\n",
    "                passes=params['passes'], random_state=params['random_state'])"
   ]
  },
  {
   "cell_type": "code",
   "execution_count": 154,
   "id": "a87c5e27-18cf-4ec9-bdcf-dd9e00e0622c",
   "metadata": {
    "tags": []
   },
   "outputs": [
    {
     "data": {
      "text/plain": [
       "[(0,\n",
       "  '0.015*\"kill\" + 0.013*\"police\" + 0.008*\"murder\" + 0.006*\"money\" + 0.006*\"shoot\" + 0.005*\"gang\" + 0.004*\"car\" + 0.004*\"escape\"'),\n",
       " (1,\n",
       "  '0.010*\"war\" + 0.006*\"kill\" + 0.006*\"soldier\" + 0.005*\"army\" + 0.004*\"force\" + 0.004*\"order\" + 0.004*\"return\" + 0.004*\"american\"'),\n",
       " (2,\n",
       "  '0.007*\"house\" + 0.007*\"try\" + 0.006*\"run\" + 0.006*\"kill\" + 0.005*\"come\" + 0.005*\"room\" + 0.005*\"night\" + 0.005*\"away\"'),\n",
       " (3,\n",
       "  '0.010*\"love\" + 0.008*\"father\" + 0.008*\"life\" + 0.007*\"family\" + 0.007*\"friend\" + 0.006*\"mother\" + 0.005*\"day\" + 0.005*\"meet\"'),\n",
       " (4,\n",
       "  '0.007*\"team\" + 0.006*\"ship\" + 0.004*\"world\" + 0.004*\"new\" + 0.004*\"destroy\" + 0.004*\"crew\" + 0.004*\"earth\" + 0.004*\"time\"'),\n",
       " (5,\n",
       "  '0.007*\"king\" + 0.005*\"fight\" + 0.004*\"kill\" + 0.004*\"return\" + 0.004*\"story\" + 0.004*\"father\" + 0.004*\"help\" + 0.003*\"village\"')]"
      ]
     },
     "execution_count": 154,
     "metadata": {},
     "output_type": "execute_result"
    }
   ],
   "source": [
    "model1.show_topics(num_words=8)"
   ]
  },
  {
   "cell_type": "markdown",
   "id": "909de57e-5e5f-46e3-91eb-44e9df3d2000",
   "metadata": {},
   "source": [
    "Using six topics seems quite interpretable!"
   ]
  },
  {
   "cell_type": "code",
   "execution_count": 155,
   "id": "b6311686-a64f-40c9-9133-c5754dfa8680",
   "metadata": {},
   "outputs": [],
   "source": [
    "base_models = dict()\n",
    "model2 = LdaMulticore(corpus=corpus, num_topics=8, id2word=dictionary, workers=6, eta='auto',\n",
    "                passes=params['passes'], random_state=params['random_state'])"
   ]
  },
  {
   "cell_type": "code",
   "execution_count": 156,
   "id": "a7934bac-f666-4411-9628-e03fef96485c",
   "metadata": {
    "tags": []
   },
   "outputs": [
    {
     "data": {
      "text/plain": [
       "[(0,\n",
       "  '0.012*\"kill\" + 0.010*\"police\" + 0.008*\"money\" + 0.007*\"shoot\" + 0.006*\"gang\" + 0.005*\"car\" + 0.005*\"steal\" + 0.005*\"gun\" + 0.005*\"escape\" + 0.004*\"town\"'),\n",
       " (1,\n",
       "  '0.010*\"kill\" + 0.009*\"police\" + 0.007*\"war\" + 0.006*\"prison\" + 0.005*\"officer\" + 0.005*\"murder\" + 0.004*\"arrest\" + 0.004*\"german\" + 0.004*\"escape\" + 0.004*\"brother\"'),\n",
       " (2,\n",
       "  '0.008*\"try\" + 0.007*\"run\" + 0.006*\"house\" + 0.006*\"come\" + 0.005*\"car\" + 0.005*\"away\" + 0.005*\"head\" + 0.005*\"dog\" + 0.004*\"room\" + 0.004*\"look\"'),\n",
       " (3,\n",
       "  '0.012*\"love\" + 0.009*\"father\" + 0.008*\"friend\" + 0.008*\"family\" + 0.007*\"life\" + 0.007*\"mother\" + 0.006*\"marry\" + 0.006*\"meet\" + 0.006*\"day\" + 0.006*\"home\"'),\n",
       " (4,\n",
       "  '0.007*\"team\" + 0.005*\"ship\" + 0.005*\"attack\" + 0.005*\"destroy\" + 0.004*\"kill\" + 0.004*\"earth\" + 0.004*\"world\" + 0.004*\"force\" + 0.004*\"crew\" + 0.004*\"time\"'),\n",
       " (5,\n",
       "  '0.008*\"new\" + 0.008*\"play\" + 0.006*\"story\" + 0.005*\"movie\" + 0.005*\"life\" + 0.005*\"character\" + 0.005*\"star\" + 0.004*\"band\" + 0.004*\"world\" + 0.004*\"york\"'),\n",
       " (6,\n",
       "  '0.007*\"king\" + 0.006*\"kill\" + 0.006*\"return\" + 0.005*\"fight\" + 0.004*\"village\" + 0.004*\"father\" + 0.004*\"escape\" + 0.004*\"help\" + 0.004*\"attack\" + 0.003*\"island\"'),\n",
       " (7,\n",
       "  '0.013*\"kill\" + 0.007*\"death\" + 0.007*\"body\" + 0.007*\"house\" + 0.007*\"woman\" + 0.006*\"murder\" + 0.006*\"die\" + 0.005*\"begin\" + 0.005*\"dead\" + 0.005*\"father\"')]"
      ]
     },
     "execution_count": 156,
     "metadata": {},
     "output_type": "execute_result"
    }
   ],
   "source": [
    "model2.show_topics(num_words=10)"
   ]
  },
  {
   "cell_type": "markdown",
   "id": "6baedde1-b291-434d-850b-f5f3737320ac",
   "metadata": {},
   "source": [
    "also 8 topics.."
   ]
  },
  {
   "cell_type": "code",
   "execution_count": 157,
   "id": "4f8a4699-d55f-4472-91b7-db954176d000",
   "metadata": {
    "tags": []
   },
   "outputs": [],
   "source": [
    "base_models = dict()\n",
    "model3 = LdaMulticore(corpus=corpus, num_topics=10, id2word=dictionary, workers=6, eta='auto',\n",
    "                passes=params['passes'], random_state=params['random_state'])"
   ]
  },
  {
   "cell_type": "code",
   "execution_count": 158,
   "id": "7cc2b50c-3305-40d2-809e-82b5efe46c47",
   "metadata": {
    "tags": []
   },
   "outputs": [
    {
     "data": {
      "text/plain": [
       "[(0,\n",
       "  '0.013*\"kill\" + 0.010*\"money\" + 0.008*\"police\" + 0.008*\"shoot\" + 0.008*\"gang\" + 0.006*\"town\" + 0.006*\"steal\" + 0.005*\"gun\"'),\n",
       " (1,\n",
       "  '0.011*\"police\" + 0.011*\"kill\" + 0.007*\"murder\" + 0.007*\"officer\" + 0.006*\"agent\" + 0.006*\"prison\" + 0.005*\"escape\" + 0.005*\"drug\"'),\n",
       " (2,\n",
       "  '0.008*\"run\" + 0.008*\"try\" + 0.007*\"car\" + 0.007*\"come\" + 0.006*\"house\" + 0.006*\"dog\" + 0.006*\"away\" + 0.006*\"head\"'),\n",
       " (3,\n",
       "  '0.008*\"friend\" + 0.007*\"love\" + 0.007*\"school\" + 0.006*\"life\" + 0.006*\"new\" + 0.006*\"day\" + 0.006*\"father\" + 0.005*\"meet\"'),\n",
       " (4,\n",
       "  '0.012*\"team\" + 0.008*\"game\" + 0.005*\"world\" + 0.005*\"win\" + 0.005*\"time\" + 0.004*\"plane\" + 0.004*\"united\" + 0.004*\"play\"'),\n",
       " (5,\n",
       "  '0.010*\"new\" + 0.008*\"story\" + 0.006*\"york\" + 0.006*\"new_york\" + 0.006*\"play\" + 0.006*\"band\" + 0.005*\"life\" + 0.005*\"movie\"'),\n",
       " (6,\n",
       "  '0.009*\"king\" + 0.005*\"return\" + 0.004*\"father\" + 0.004*\"prince\" + 0.004*\"young\" + 0.004*\"fall\" + 0.004*\"help\" + 0.004*\"princess\"'),\n",
       " (7,\n",
       "  '0.012*\"kill\" + 0.008*\"house\" + 0.007*\"body\" + 0.007*\"death\" + 0.007*\"woman\" + 0.006*\"murder\" + 0.006*\"begin\" + 0.005*\"die\"'),\n",
       " (8,\n",
       "  '0.017*\"love\" + 0.013*\"family\" + 0.013*\"father\" + 0.010*\"marry\" + 0.010*\"son\" + 0.009*\"life\" + 0.008*\"come\" + 0.008*\"brother\"'),\n",
       " (9,\n",
       "  '0.008*\"kill\" + 0.008*\"ship\" + 0.007*\"attack\" + 0.006*\"destroy\" + 0.006*\"escape\" + 0.005*\"earth\" + 0.005*\"return\" + 0.005*\"force\"')]"
      ]
     },
     "execution_count": 158,
     "metadata": {},
     "output_type": "execute_result"
    }
   ],
   "source": [
    "model3.show_topics(num_words=8)"
   ]
  },
  {
   "cell_type": "markdown",
   "id": "b63686fd-4582-4109-bed9-5dcda4b2d360",
   "metadata": {},
   "source": [
    "Maybe 10 topics starts to become a bit less interpretable?"
   ]
  },
  {
   "cell_type": "markdown",
   "id": "fc857c7d-07c5-41c2-9bb7-cc94e728b927",
   "metadata": {},
   "source": [
    "# Some evaluation"
   ]
  },
  {
   "cell_type": "markdown",
   "id": "fb34589e-06ef-4219-8378-b518e0216e20",
   "metadata": {
    "tags": []
   },
   "source": [
    "# The avengers"
   ]
  },
  {
   "cell_type": "code",
   "execution_count": 186,
   "id": "6f049628-d214-4225-8422-3253acb67042",
   "metadata": {
    "tags": []
   },
   "outputs": [
    {
     "data": {
      "text/html": [
       "<div>\n",
       "<style scoped>\n",
       "    .dataframe tbody tr th:only-of-type {\n",
       "        vertical-align: middle;\n",
       "    }\n",
       "\n",
       "    .dataframe tbody tr th {\n",
       "        vertical-align: top;\n",
       "    }\n",
       "\n",
       "    .dataframe thead th {\n",
       "        text-align: right;\n",
       "    }\n",
       "</style>\n",
       "<table border=\"1\" class=\"dataframe\">\n",
       "  <thead>\n",
       "    <tr style=\"text-align: right;\">\n",
       "      <th></th>\n",
       "      <th>wiki_movie_id</th>\n",
       "      <th>plot</th>\n",
       "      <th>movie_name</th>\n",
       "      <th>release_date</th>\n",
       "    </tr>\n",
       "  </thead>\n",
       "  <tbody>\n",
       "    <tr>\n",
       "      <th>10574</th>\n",
       "      <td>8619888</td>\n",
       "      <td>A battle with Ultron leaves The Avengers defea...</td>\n",
       "      <td>Next Avengers: Heroes of Tomorrow</td>\n",
       "      <td>2008-09-02</td>\n",
       "    </tr>\n",
       "    <tr>\n",
       "      <th>10611</th>\n",
       "      <td>10603679</td>\n",
       "      <td>The insidious Masked Gang of hired killers hav...</td>\n",
       "      <td>Masked Avengers</td>\n",
       "      <td>1981-05-15</td>\n",
       "    </tr>\n",
       "    <tr>\n",
       "      <th>13596</th>\n",
       "      <td>12752698</td>\n",
       "      <td>The Elusive Avengers, a posse of young Red Par...</td>\n",
       "      <td>The Crown of the Russian Empire/Once again the...</td>\n",
       "      <td>1971</td>\n",
       "    </tr>\n",
       "    <tr>\n",
       "      <th>18135</th>\n",
       "      <td>633411</td>\n",
       "      <td>The film opens with John Steed , agent of The ...</td>\n",
       "      <td>The Avengers</td>\n",
       "      <td>1998-08-14</td>\n",
       "    </tr>\n",
       "    <tr>\n",
       "      <th>18937</th>\n",
       "      <td>12752223</td>\n",
       "      <td>The movie continues the story of the Elusive A...</td>\n",
       "      <td>The New Adventures of the Elusive Avengers</td>\n",
       "      <td>1968</td>\n",
       "    </tr>\n",
       "    <tr>\n",
       "      <th>21233</th>\n",
       "      <td>1624537</td>\n",
       "      <td>The film' is a comedy version of a story about...</td>\n",
       "      <td>The Elusive Avengers</td>\n",
       "      <td>1966</td>\n",
       "    </tr>\n",
       "    <tr>\n",
       "      <th>27482</th>\n",
       "      <td>2952825</td>\n",
       "      <td>In the last days of World War II in Europe, Ca...</td>\n",
       "      <td>Ultimate Avengers</td>\n",
       "      <td>2006-02-21</td>\n",
       "    </tr>\n",
       "    <tr>\n",
       "      <th>34940</th>\n",
       "      <td>4644216</td>\n",
       "      <td>T'Challa, the Prince of Wakanda, returns home ...</td>\n",
       "      <td>Ultimate Avengers 2</td>\n",
       "      <td>2006-08-08</td>\n",
       "    </tr>\n",
       "    <tr>\n",
       "      <th>37608</th>\n",
       "      <td>22114132</td>\n",
       "      <td>The Asgardian Loki encounters the Other, the ...</td>\n",
       "      <td>The Avengers</td>\n",
       "      <td>2012-04-11</td>\n",
       "    </tr>\n",
       "  </tbody>\n",
       "</table>\n",
       "</div>"
      ],
      "text/plain": [
       "       wiki_movie_id                                               plot  \\\n",
       "10574        8619888  A battle with Ultron leaves The Avengers defea...   \n",
       "10611       10603679  The insidious Masked Gang of hired killers hav...   \n",
       "13596       12752698  The Elusive Avengers, a posse of young Red Par...   \n",
       "18135         633411  The film opens with John Steed , agent of The ...   \n",
       "18937       12752223  The movie continues the story of the Elusive A...   \n",
       "21233        1624537  The film' is a comedy version of a story about...   \n",
       "27482        2952825  In the last days of World War II in Europe, Ca...   \n",
       "34940        4644216  T'Challa, the Prince of Wakanda, returns home ...   \n",
       "37608       22114132   The Asgardian Loki encounters the Other, the ...   \n",
       "\n",
       "                                              movie_name release_date  \n",
       "10574                  Next Avengers: Heroes of Tomorrow   2008-09-02  \n",
       "10611                                    Masked Avengers   1981-05-15  \n",
       "13596  The Crown of the Russian Empire/Once again the...         1971  \n",
       "18135                                       The Avengers   1998-08-14  \n",
       "18937         The New Adventures of the Elusive Avengers         1968  \n",
       "21233                               The Elusive Avengers         1966  \n",
       "27482                                  Ultimate Avengers   2006-02-21  \n",
       "34940                                Ultimate Avengers 2   2006-08-08  \n",
       "37608                                       The Avengers   2012-04-11  "
      ]
     },
     "execution_count": 186,
     "metadata": {},
     "output_type": "execute_result"
    }
   ],
   "source": [
    "plot_summaries[plot_summaries['movie_name'].str.contains('avengers', case=False, na=False)]"
   ]
  },
  {
   "cell_type": "markdown",
   "id": "430a5d91-c2c1-49d5-b7f3-d13f267c1825",
   "metadata": {},
   "source": [
    "Model with 6 topics"
   ]
  },
  {
   "cell_type": "code",
   "execution_count": 176,
   "id": "2ef16309-f960-4c2e-8076-53978717444d",
   "metadata": {
    "tags": []
   },
   "outputs": [
    {
     "name": "stdout",
     "output_type": "stream",
     "text": [
      "[(4, 0.9973279)]\n"
     ]
    }
   ],
   "source": [
    "print(sorted(model1[corpus[37608]],key=lambda x:x[1],reverse=True))"
   ]
  },
  {
   "cell_type": "markdown",
   "id": "adba7fdd-c189-4b48-92db-94568bd61d08",
   "metadata": {},
   "source": [
    "Topic with \"team\", \"ship\", \"attack\" is most important, very interpretable"
   ]
  },
  {
   "cell_type": "markdown",
   "id": "10e02568-cc24-47d1-a934-20f8065472a8",
   "metadata": {},
   "source": [
    "Model with 8 topics"
   ]
  },
  {
   "cell_type": "code",
   "execution_count": 187,
   "id": "081700cf-d7ba-4bff-98fa-3437d609df0b",
   "metadata": {
    "tags": []
   },
   "outputs": [
    {
     "name": "stdout",
     "output_type": "stream",
     "text": [
      "[(4, 0.99720234)]\n"
     ]
    }
   ],
   "source": [
    "print(sorted(model2[corpus[37608]],key=lambda x:x[1],reverse=True))"
   ]
  },
  {
   "cell_type": "markdown",
   "id": "eea9c679-8477-42ef-aebe-250cf4c2766c",
   "metadata": {},
   "source": [
    "Still same topic,..."
   ]
  },
  {
   "cell_type": "markdown",
   "id": "f5c35bda-70d2-4aa6-927f-a2c53bdfeb24",
   "metadata": {},
   "source": [
    "Model with 10 topics"
   ]
  },
  {
   "cell_type": "code",
   "execution_count": 188,
   "id": "fe64b066-ec6f-48f1-95af-df021cc58731",
   "metadata": {
    "tags": []
   },
   "outputs": [
    {
     "name": "stdout",
     "output_type": "stream",
     "text": [
      "[(9, 0.87842613), (5, 0.119019724)]\n"
     ]
    }
   ],
   "source": [
    "print(sorted(model3[corpus[37608]],key=lambda x:x[1],reverse=True))"
   ]
  },
  {
   "cell_type": "markdown",
   "id": "6f2b9d73-37fe-42b6-8a65-e9aac524b986",
   "metadata": {},
   "source": [
    "Becomes more dispersed,..."
   ]
  },
  {
   "cell_type": "markdown",
   "id": "8fd5c526-bb93-431a-b885-8242612de771",
   "metadata": {},
   "source": [
    "# Lord of the rings"
   ]
  },
  {
   "cell_type": "code",
   "execution_count": 177,
   "id": "851213e5-492f-4b35-bea6-68fee1ccf032",
   "metadata": {
    "tags": []
   },
   "outputs": [
    {
     "data": {
      "text/html": [
       "<div>\n",
       "<style scoped>\n",
       "    .dataframe tbody tr th:only-of-type {\n",
       "        vertical-align: middle;\n",
       "    }\n",
       "\n",
       "    .dataframe tbody tr th {\n",
       "        vertical-align: top;\n",
       "    }\n",
       "\n",
       "    .dataframe thead th {\n",
       "        text-align: right;\n",
       "    }\n",
       "</style>\n",
       "<table border=\"1\" class=\"dataframe\">\n",
       "  <thead>\n",
       "    <tr style=\"text-align: right;\">\n",
       "      <th></th>\n",
       "      <th>wiki_movie_id</th>\n",
       "      <th>plot</th>\n",
       "      <th>movie_name</th>\n",
       "      <th>release_date</th>\n",
       "    </tr>\n",
       "  </thead>\n",
       "  <tbody>\n",
       "    <tr>\n",
       "      <th>14529</th>\n",
       "      <td>173941</td>\n",
       "      <td>In the Second Age, the Dark Lord Sauron attem...</td>\n",
       "      <td>The Lord of the Rings: The Fellowship of the Ring</td>\n",
       "      <td>2001-12-10</td>\n",
       "    </tr>\n",
       "    <tr>\n",
       "      <th>16411</th>\n",
       "      <td>396607</td>\n",
       "      <td>Early in the Second Age of Middle-earth, elven...</td>\n",
       "      <td>The Lord of the Rings</td>\n",
       "      <td>1978-11-15</td>\n",
       "    </tr>\n",
       "    <tr>\n",
       "      <th>40429</th>\n",
       "      <td>173944</td>\n",
       "      <td>Gandalf the Grey gives his life in battle agai...</td>\n",
       "      <td>The Lord of the Rings: The Two Towers</td>\n",
       "      <td>2002-12-05</td>\n",
       "    </tr>\n",
       "    <tr>\n",
       "      <th>41926</th>\n",
       "      <td>174251</td>\n",
       "      <td>Gandalf, Aragorn, Legolas, Gimli, Théoden, Ga...</td>\n",
       "      <td>The Lord of the Rings: The Return of the King</td>\n",
       "      <td>2003-12-17</td>\n",
       "    </tr>\n",
       "  </tbody>\n",
       "</table>\n",
       "</div>"
      ],
      "text/plain": [
       "       wiki_movie_id                                               plot  \\\n",
       "14529         173941   In the Second Age, the Dark Lord Sauron attem...   \n",
       "16411         396607  Early in the Second Age of Middle-earth, elven...   \n",
       "40429         173944  Gandalf the Grey gives his life in battle agai...   \n",
       "41926         174251   Gandalf, Aragorn, Legolas, Gimli, Théoden, Ga...   \n",
       "\n",
       "                                              movie_name release_date  \n",
       "14529  The Lord of the Rings: The Fellowship of the Ring   2001-12-10  \n",
       "16411                              The Lord of the Rings   1978-11-15  \n",
       "40429              The Lord of the Rings: The Two Towers   2002-12-05  \n",
       "41926      The Lord of the Rings: The Return of the King   2003-12-17  "
      ]
     },
     "execution_count": 177,
     "metadata": {},
     "output_type": "execute_result"
    }
   ],
   "source": [
    "plot_summaries[plot_summaries['movie_name'].str.contains('Lord of the rings', case=False, na=False)]"
   ]
  },
  {
   "cell_type": "markdown",
   "id": "7cbdda90-8b8f-424d-aa98-d8eb4dbcc5ea",
   "metadata": {},
   "source": [
    "6 topics"
   ]
  },
  {
   "cell_type": "code",
   "execution_count": 181,
   "id": "f1f7c1e5-3a8d-484d-95a7-323659d2b8d7",
   "metadata": {
    "tags": []
   },
   "outputs": [
    {
     "name": "stdout",
     "output_type": "stream",
     "text": [
      "[(1, 0.56592417), (5, 0.32989925), (2, 0.081065625), (4, 0.02189293)]\n"
     ]
    }
   ],
   "source": [
    "print(sorted(model1[corpus[41926]],key=lambda x:x[1],reverse=True))"
   ]
  },
  {
   "cell_type": "markdown",
   "id": "57f77a29-7c32-4c17-b394-e744c6c9acee",
   "metadata": {},
   "source": [
    "8 topics"
   ]
  },
  {
   "cell_type": "code",
   "execution_count": 185,
   "id": "239c86b2-5407-4f87-b6e5-5a6b7bfb8b4c",
   "metadata": {
    "tags": []
   },
   "outputs": [
    {
     "name": "stdout",
     "output_type": "stream",
     "text": [
      "[(6, 0.9476347), (7, 0.049650464)]\n"
     ]
    }
   ],
   "source": [
    "print(sorted(model2[corpus[41926]],key=lambda x:x[1],reverse=True))"
   ]
  },
  {
   "cell_type": "markdown",
   "id": "972282f7-e366-4733-94ef-98baf3a7bd2f",
   "metadata": {},
   "source": [
    "10 topics"
   ]
  },
  {
   "cell_type": "code",
   "execution_count": 189,
   "id": "67294819-bba3-490c-bcac-06ad4230a39e",
   "metadata": {
    "tags": []
   },
   "outputs": [
    {
     "name": "stdout",
     "output_type": "stream",
     "text": [
      "[(9, 0.6285251), (6, 0.22024019), (2, 0.06361215), (8, 0.056242917), (7, 0.029562589)]\n"
     ]
    }
   ],
   "source": [
    "print(sorted(model3[corpus[41926]],key=lambda x:x[1],reverse=True))"
   ]
  },
  {
   "cell_type": "markdown",
   "id": "3f93046b-b582-4dc0-abdb-8c569d795cd0",
   "metadata": {},
   "source": [
    "Saving private ryan"
   ]
  },
  {
   "cell_type": "code",
   "execution_count": 182,
   "id": "97b752f8-8202-42f0-8191-66a005d0b576",
   "metadata": {
    "tags": []
   },
   "outputs": [
    {
     "data": {
      "text/html": [
       "<div>\n",
       "<style scoped>\n",
       "    .dataframe tbody tr th:only-of-type {\n",
       "        vertical-align: middle;\n",
       "    }\n",
       "\n",
       "    .dataframe tbody tr th {\n",
       "        vertical-align: top;\n",
       "    }\n",
       "\n",
       "    .dataframe thead th {\n",
       "        text-align: right;\n",
       "    }\n",
       "</style>\n",
       "<table border=\"1\" class=\"dataframe\">\n",
       "  <thead>\n",
       "    <tr style=\"text-align: right;\">\n",
       "      <th></th>\n",
       "      <th>wiki_movie_id</th>\n",
       "      <th>plot</th>\n",
       "      <th>movie_name</th>\n",
       "      <th>release_date</th>\n",
       "    </tr>\n",
       "  </thead>\n",
       "  <tbody>\n",
       "    <tr>\n",
       "      <th>5103</th>\n",
       "      <td>28269</td>\n",
       "      <td>On the morning of June 6, 1944, the beginning ...</td>\n",
       "      <td>Saving Private Ryan</td>\n",
       "      <td>1998-07-24</td>\n",
       "    </tr>\n",
       "  </tbody>\n",
       "</table>\n",
       "</div>"
      ],
      "text/plain": [
       "      wiki_movie_id                                               plot  \\\n",
       "5103          28269  On the morning of June 6, 1944, the beginning ...   \n",
       "\n",
       "               movie_name release_date  \n",
       "5103  Saving Private Ryan   1998-07-24  "
      ]
     },
     "execution_count": 182,
     "metadata": {},
     "output_type": "execute_result"
    }
   ],
   "source": [
    "plot_summaries[plot_summaries['movie_name'].str.contains('Private ryan', case=False, na=False)]"
   ]
  },
  {
   "cell_type": "code",
   "execution_count": 183,
   "id": "39307229-aba3-4c3a-aa3d-e115775ac36f",
   "metadata": {
    "tags": []
   },
   "outputs": [
    {
     "name": "stdout",
     "output_type": "stream",
     "text": [
      "[(1, 0.8320996), (2, 0.090072624), (4, 0.06963664)]\n"
     ]
    }
   ],
   "source": [
    "print(sorted(model1[corpus[5103]],key=lambda x:x[1],reverse=True))"
   ]
  },
  {
   "cell_type": "code",
   "execution_count": 184,
   "id": "44729336-3368-439c-985f-0ea0f337fb90",
   "metadata": {
    "tags": []
   },
   "outputs": [
    {
     "name": "stdout",
     "output_type": "stream",
     "text": [
      "[(4, 0.42438954), (1, 0.3370785), (0, 0.17673382), (3, 0.053320218)]\n"
     ]
    }
   ],
   "source": [
    "print(sorted(model2[corpus[5103]],key=lambda x:x[1],reverse=True))"
   ]
  },
  {
   "cell_type": "code",
   "execution_count": null,
   "id": "f661daf3-8bbf-4b23-a030-e4e726f8bb88",
   "metadata": {},
   "outputs": [],
   "source": []
  },
  {
   "cell_type": "markdown",
   "id": "bb73e818-06c7-4486-80ce-e29f7a632dc0",
   "metadata": {},
   "source": [
    "## Adding all BoW and distribution over topics to each movie entry in df"
   ]
  },
  {
   "cell_type": "code",
   "execution_count": 191,
   "id": "1166cb50-c6f7-4c09-b01f-a6881d5602d8",
   "metadata": {
    "tags": []
   },
   "outputs": [],
   "source": [
    "plot_summaries[\"BoW\"] = corpus\n",
    "plot_summaries[\"6-topic model distibution\"] = model1[corpus]\n",
    "plot_summaries[\"8-topic model distibution\"] = model2[corpus]\n",
    "plot_summaries[\"10-topic model distibution\"] = model3[corpus]"
   ]
  },
  {
   "cell_type": "code",
   "execution_count": 194,
   "id": "7348eba8-7958-44d3-911e-3ee70c330711",
   "metadata": {
    "tags": []
   },
   "outputs": [
    {
     "data": {
      "text/html": [
       "<div>\n",
       "<style scoped>\n",
       "    .dataframe tbody tr th:only-of-type {\n",
       "        vertical-align: middle;\n",
       "    }\n",
       "\n",
       "    .dataframe tbody tr th {\n",
       "        vertical-align: top;\n",
       "    }\n",
       "\n",
       "    .dataframe thead th {\n",
       "        text-align: right;\n",
       "    }\n",
       "</style>\n",
       "<table border=\"1\" class=\"dataframe\">\n",
       "  <thead>\n",
       "    <tr style=\"text-align: right;\">\n",
       "      <th></th>\n",
       "      <th>wiki_movie_id</th>\n",
       "      <th>plot</th>\n",
       "      <th>movie_name</th>\n",
       "      <th>release_date</th>\n",
       "      <th>BoW</th>\n",
       "      <th>6-topic model distibution</th>\n",
       "      <th>8-topic model distibution</th>\n",
       "      <th>10-topic model distibution</th>\n",
       "    </tr>\n",
       "  </thead>\n",
       "  <tbody>\n",
       "    <tr>\n",
       "      <th>0</th>\n",
       "      <td>23890098</td>\n",
       "      <td>Shlykov, a hard-working taxi driver and Lyosha...</td>\n",
       "      <td>Taxi Blues</td>\n",
       "      <td>1990-09-07</td>\n",
       "      <td>[(0, 1), (1, 1), (2, 1), (3, 1), (4, 1), (5, 1...</td>\n",
       "      <td>[(3, 0.95065206)]</td>\n",
       "      <td>[(3, 0.91675663), (5, 0.038946092)]</td>\n",
       "      <td>[(3, 0.5361889), (8, 0.41666898)]</td>\n",
       "    </tr>\n",
       "    <tr>\n",
       "      <th>1</th>\n",
       "      <td>31186339</td>\n",
       "      <td>The nation of Panem consists of a wealthy Capi...</td>\n",
       "      <td>The Hunger Games</td>\n",
       "      <td>2012-03-12</td>\n",
       "      <td>[(8, 2), (15, 1), (16, 1), (17, 1), (18, 1), (...</td>\n",
       "      <td>[(0, 0.0617054), (1, 0.193731), (2, 0.26329622...</td>\n",
       "      <td>[(0, 0.042706113), (1, 0.10394004), (2, 0.1520...</td>\n",
       "      <td>[(0, 0.036004033), (1, 0.13272709), (2, 0.0634...</td>\n",
       "    </tr>\n",
       "    <tr>\n",
       "      <th>2</th>\n",
       "      <td>20663735</td>\n",
       "      <td>Poovalli Induchoodan  is sentenced for six yea...</td>\n",
       "      <td>Narasimham</td>\n",
       "      <td>2000</td>\n",
       "      <td>[(8, 1), (40, 1), (45, 1), (69, 1), (70, 2), (...</td>\n",
       "      <td>[(0, 0.3633028), (1, 0.16953622), (3, 0.4649112)]</td>\n",
       "      <td>[(1, 0.5624627), (3, 0.24363874), (7, 0.186327...</td>\n",
       "      <td>[(1, 0.3228383), (8, 0.67359704)]</td>\n",
       "    </tr>\n",
       "    <tr>\n",
       "      <th>3</th>\n",
       "      <td>2231378</td>\n",
       "      <td>The Lemon Drop Kid , a New York City swindler,...</td>\n",
       "      <td>The Lemon Drop Kid</td>\n",
       "      <td>1951-03-08</td>\n",
       "      <td>[(19, 1), (26, 1), (37, 1), (39, 1), (40, 1), ...</td>\n",
       "      <td>[(0, 0.50796485), (2, 0.18307324), (3, 0.27190...</td>\n",
       "      <td>[(0, 0.4947431), (2, 0.21770631), (3, 0.244807...</td>\n",
       "      <td>[(0, 0.4541384), (2, 0.10857002), (3, 0.330554...</td>\n",
       "    </tr>\n",
       "    <tr>\n",
       "      <th>4</th>\n",
       "      <td>595909</td>\n",
       "      <td>Seventh-day Adventist Church pastor Michael Ch...</td>\n",
       "      <td>A Cry in the Dark</td>\n",
       "      <td>1988-11-03</td>\n",
       "      <td>[(0, 1), (5, 1), (22, 1), (44, 1), (45, 1), (4...</td>\n",
       "      <td>[(0, 0.349879), (1, 0.22577511), (2, 0.2690980...</td>\n",
       "      <td>[(1, 0.42650908), (2, 0.1583739), (3, 0.026417...</td>\n",
       "      <td>[(1, 0.40470022), (2, 0.04439504), (3, 0.09506...</td>\n",
       "    </tr>\n",
       "  </tbody>\n",
       "</table>\n",
       "</div>"
      ],
      "text/plain": [
       "   wiki_movie_id                                               plot  \\\n",
       "0       23890098  Shlykov, a hard-working taxi driver and Lyosha...   \n",
       "1       31186339  The nation of Panem consists of a wealthy Capi...   \n",
       "2       20663735  Poovalli Induchoodan  is sentenced for six yea...   \n",
       "3        2231378  The Lemon Drop Kid , a New York City swindler,...   \n",
       "4         595909  Seventh-day Adventist Church pastor Michael Ch...   \n",
       "\n",
       "           movie_name release_date  \\\n",
       "0          Taxi Blues   1990-09-07   \n",
       "1    The Hunger Games   2012-03-12   \n",
       "2          Narasimham         2000   \n",
       "3  The Lemon Drop Kid   1951-03-08   \n",
       "4   A Cry in the Dark   1988-11-03   \n",
       "\n",
       "                                                 BoW  \\\n",
       "0  [(0, 1), (1, 1), (2, 1), (3, 1), (4, 1), (5, 1...   \n",
       "1  [(8, 2), (15, 1), (16, 1), (17, 1), (18, 1), (...   \n",
       "2  [(8, 1), (40, 1), (45, 1), (69, 1), (70, 2), (...   \n",
       "3  [(19, 1), (26, 1), (37, 1), (39, 1), (40, 1), ...   \n",
       "4  [(0, 1), (5, 1), (22, 1), (44, 1), (45, 1), (4...   \n",
       "\n",
       "                           6-topic model distibution  \\\n",
       "0                                  [(3, 0.95065206)]   \n",
       "1  [(0, 0.0617054), (1, 0.193731), (2, 0.26329622...   \n",
       "2  [(0, 0.3633028), (1, 0.16953622), (3, 0.4649112)]   \n",
       "3  [(0, 0.50796485), (2, 0.18307324), (3, 0.27190...   \n",
       "4  [(0, 0.349879), (1, 0.22577511), (2, 0.2690980...   \n",
       "\n",
       "                           8-topic model distibution  \\\n",
       "0                [(3, 0.91675663), (5, 0.038946092)]   \n",
       "1  [(0, 0.042706113), (1, 0.10394004), (2, 0.1520...   \n",
       "2  [(1, 0.5624627), (3, 0.24363874), (7, 0.186327...   \n",
       "3  [(0, 0.4947431), (2, 0.21770631), (3, 0.244807...   \n",
       "4  [(1, 0.42650908), (2, 0.1583739), (3, 0.026417...   \n",
       "\n",
       "                          10-topic model distibution  \n",
       "0                  [(3, 0.5361889), (8, 0.41666898)]  \n",
       "1  [(0, 0.036004033), (1, 0.13272709), (2, 0.0634...  \n",
       "2                  [(1, 0.3228383), (8, 0.67359704)]  \n",
       "3  [(0, 0.4541384), (2, 0.10857002), (3, 0.330554...  \n",
       "4  [(1, 0.40470022), (2, 0.04439504), (3, 0.09506...  "
      ]
     },
     "execution_count": 194,
     "metadata": {},
     "output_type": "execute_result"
    }
   ],
   "source": [
    "plot_summaries.head()"
   ]
  },
  {
   "cell_type": "markdown",
   "id": "d0b1f461-67ee-4725-90c2-62a2d30b1aeb",
   "metadata": {},
   "source": [
    "Find most representative movies for each topic (in 6-topic model)"
   ]
  },
  {
   "cell_type": "code",
   "execution_count": 201,
   "id": "b0bc7c80-243a-4c25-9387-ac791ef237bb",
   "metadata": {
    "tags": []
   },
   "outputs": [
    {
     "name": "stdout",
     "output_type": "stream",
     "text": [
      "Topic with distribution of words: \n",
      "\n",
      "0.015*\"kill\" + 0.013*\"police\" + 0.008*\"murder\" + 0.006*\"money\" + 0.006*\"shoot\" + 0.005*\"gang\" + 0.004*\"car\" + 0.004*\"escape\"\n",
      "\n",
      "\n",
      "Has most representative movies:\n",
      "4927             The Lincoln Lawyer\n",
      "11080         Chura Liyaa Hai Tumne\n",
      "38522                Public Enemies\n",
      "36597                           McQ\n",
      "38066                  Gang Related\n",
      "7576                    The Killers\n",
      "38024                     Appaloosa\n",
      "31242                   Blue Streak\n",
      "37376    Slaughter in San Francisco\n",
      "4258                    Bulletproof\n",
      "Name: movie_name, dtype: object\n",
      "Topic with distribution of words: \n",
      "\n",
      "0.010*\"war\" + 0.006*\"kill\" + 0.006*\"soldier\" + 0.005*\"army\" + 0.004*\"force\" + 0.004*\"order\" + 0.004*\"return\" + 0.004*\"american\"\n",
      "\n",
      "\n",
      "Has most representative movies:\n",
      "19918                             Taegukgi\n",
      "39838      The Wind That Shakes the Barley\n",
      "9643                        Ernst Thälmann\n",
      "38807                    The Four Feathers\n",
      "2186     Chetniks! The Fighting Guerrillas\n",
      "19696                       Sharpe's Sword\n",
      "36262              The Trial of Tony Blair\n",
      "40613                     The Steel Helmet\n",
      "14892                           Undercover\n",
      "37384                         Lost Command\n",
      "Name: movie_name, dtype: object\n",
      "Topic with distribution of words: \n",
      "\n",
      "0.007*\"house\" + 0.007*\"try\" + 0.006*\"run\" + 0.006*\"kill\" + 0.005*\"come\" + 0.005*\"room\" + 0.005*\"night\" + 0.005*\"away\"\n",
      "\n",
      "\n",
      "Has most representative movies:\n",
      "32833                         Night of the Demons\n",
      "27020                         Paranormal Activity\n",
      "13532                               The Strangers\n",
      "2867     Leatherface: Texas Chainsaw Massacre III\n",
      "5098                                   Spiderhole\n",
      "42091                               Zipping Along\n",
      "36021                              The Milky Waif\n",
      "11897                              Mouse Cleaning\n",
      "39769                                 Albino Farm\n",
      "38002         Burial Ground: The Nights of Terror\n",
      "Name: movie_name, dtype: object\n",
      "Topic with distribution of words: \n",
      "\n",
      "0.010*\"love\" + 0.008*\"father\" + 0.008*\"life\" + 0.007*\"family\" + 0.007*\"friend\" + 0.006*\"mother\" + 0.005*\"day\" + 0.005*\"meet\"\n",
      "\n",
      "\n",
      "Has most representative movies:\n",
      "38106    Thavamai Thavamirundu\n",
      "9508     Too Young to Be a Dad\n",
      "18594      Poovellam Kettuppar\n",
      "28572                   Judaai\n",
      "6796            Luck by Chance\n",
      "18520                     Boys\n",
      "38245    Make Way for Tomorrow\n",
      "1405       Santhosha Subramani\n",
      "15253      Bhalobasa Bhalobasa\n",
      "23189               Bommarillu\n",
      "Name: movie_name, dtype: object\n",
      "Topic with distribution of words: \n",
      "\n",
      "0.007*\"team\" + 0.006*\"ship\" + 0.004*\"world\" + 0.004*\"new\" + 0.004*\"destroy\" + 0.004*\"crew\" + 0.004*\"earth\" + 0.004*\"time\"\n",
      "\n",
      "\n",
      "Has most representative movies:\n",
      "298               The Andromeda Strain\n",
      "16974          Space Battleship Yamato\n",
      "8270                        Ice Planet\n",
      "37608                     The Avengers\n",
      "37033                         The Core\n",
      "41745              Stargate: Continuum\n",
      "7558            Star Trek: Generations\n",
      "34499    Star Trek IV: The Voyage Home\n",
      "21781                        Megalodon\n",
      "12784    Star Trek: The Motion Picture\n",
      "Name: movie_name, dtype: object\n",
      "Topic with distribution of words: \n",
      "\n",
      "0.007*\"king\" + 0.005*\"fight\" + 0.004*\"kill\" + 0.004*\"return\" + 0.004*\"story\" + 0.004*\"father\" + 0.004*\"help\" + 0.003*\"village\"\n",
      "\n",
      "\n",
      "Has most representative movies:\n",
      "17325           The Black Cauldron\n",
      "25542                 Fantaghirò 2\n",
      "12961                 Fantaghirò 4\n",
      "1904                    Odd Couple\n",
      "39154            The Magic Serpent\n",
      "39898            Abbott of Shaolin\n",
      "36622       Muppet Classic Theater\n",
      "32252               Ruin Explorers\n",
      "32991    A Chinese Ghost Story III\n",
      "6009                Shaolin Temple\n",
      "Name: movie_name, dtype: object\n"
     ]
    }
   ],
   "source": [
    "def get_topic_value(distr, query_topic):\n",
    "    \n",
    "    for (topic, prob) in distr:\n",
    "        if query_topic == topic:\n",
    "            return prob\n",
    "    return 0\n",
    "\n",
    "most_repr_movies_per_topic = dict()\n",
    "for topic in range(0,6):\n",
    "    top_10_movies_indices = \\\n",
    "        plot_summaries[\"6-topic model distibution\"].apply(lambda x: get_topic_value(x, topic)).sort_values(ascending=False)[:10].index\n",
    "    most_repr_movies_per_topic[topic] = \\\n",
    "        plot_summaries.iloc[top_10_movies_indices][\"movie_name\"]\n",
    "for topic in range(0,6):\n",
    "    print(\"Topic with distribution of words: \\n\")\n",
    "    print(model1.show_topics(num_words=8)[topic][1])\n",
    "    print(\"\\n\")\n",
    "    print(\"Has most representative movies:\")\n",
    "    print(most_repr_movies_per_topic[topic])\n",
    "    "
   ]
  },
  {
   "cell_type": "code",
   "execution_count": null,
   "id": "588077ae-50b4-47e9-bd9b-df0c35bec353",
   "metadata": {},
   "outputs": [],
   "source": []
  }
 ],
 "metadata": {
  "kernelspec": {
   "display_name": "Python [conda env:ada] *",
   "language": "python",
   "name": "conda-env-ada-py"
  },
  "language_info": {
   "codemirror_mode": {
    "name": "ipython",
    "version": 3
   },
   "file_extension": ".py",
   "mimetype": "text/x-python",
   "name": "python",
   "nbconvert_exporter": "python",
   "pygments_lexer": "ipython3",
   "version": "3.9.18"
  }
 },
 "nbformat": 4,
 "nbformat_minor": 5
}

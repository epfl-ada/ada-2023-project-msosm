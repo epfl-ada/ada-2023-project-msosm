{
 "cells": [
  {
   "cell_type": "code",
   "execution_count": 1,
   "id": "099519f7-c61d-4841-a572-0905886f600e",
   "metadata": {
    "tags": []
   },
   "outputs": [],
   "source": [
    "%load_ext autoreload\n",
    "%autoreload 2\n",
    "\n",
    "import pandas as pd\n",
    "import numpy as np\n",
    "import matplotlib.pyplot as plt\n",
    "import seaborn as sns\n",
    "from datetime import datetime\n",
    "from sklearn.linear_model import LinearRegression\n",
    "import xml.etree.ElementTree as ET\n",
    "from math import log\n",
    "import time\n",
    "import json\n",
    "import tarfile\n",
    "import gzip\n",
    "import os\n",
    "\n",
    "from data_preprocessing import * \n",
    "from imdb_ratings_scraper import *\n",
    "import load_functions as lf\n"
   ]
  },
  {
   "cell_type": "markdown",
   "id": "4adb64cc-5141-49eb-a2a0-de39c350cd0d",
   "metadata": {
    "tags": []
   },
   "source": [
    "# Load data"
   ]
  },
  {
   "cell_type": "markdown",
   "id": "d9dd6c5d-e851-4c43-873c-5411c679c181",
   "metadata": {
    "tags": []
   },
   "source": [
    "## Movie Summaries"
   ]
  },
  {
   "cell_type": "code",
   "execution_count": 2,
   "id": "f51c06c0-33c5-4c9a-88cb-79d563e6441f",
   "metadata": {
    "tags": []
   },
   "outputs": [],
   "source": [
    "data_folder = './data/MovieSummaries/'\n",
    "(movie_metadata, character_metadata, name_clusters, plot_summaries, test_data) = \\\n",
    "    lf.load_movie_summaries(data_folder)\n",
    "\n",
    "# add release year (float) to movie_metadata, extracting it from release_date\n",
    "movie_metadata['release_year'] = movie_metadata['release_date'].apply(lambda x: lf.extract_year(x))\n",
    "# add lowecase title to movie_metadata\n",
    "movie_metadata['lowercase_title'] = movie_metadata['movie_name'].str.lower()\n",
    "\n",
    "# add release year (float) to character_metadata, extracting it from release_date\n",
    "character_metadata['release_year'] = character_metadata['release_date'].apply(lambda x: lf.extract_year(x))\n",
    "# add actor birth year (float) to character_metadata, extracting it from actor_birth_date\n",
    "character_metadata['actor_birth_year'] = character_metadata['actor_birth_date'].apply(lambda x: lf.extract_year(x))"
   ]
  },
  {
   "cell_type": "markdown",
   "id": "b820ca42-0156-4a66-b89e-c50d28c9833b",
   "metadata": {},
   "source": [
    "Metadata for 81 741 movies, extracted from the Noverber 4, 2012 dump of Freebase:\n",
    "1. Wikipedia movie ID\n",
    "2. Freebase movie ID\n",
    "3. Movie name\n",
    "4. Movie release date\n",
    "5. Movie box office revenue\n",
    "6. Movie runtime\n",
    "7. Movie languages (Freebase ID:name tuples)\n",
    "8. Movie countries (Freebase ID:name tuples)\n",
    "9. Movie genres (Freebase ID:name tuples)\n",
    "10. Movie release year\n",
    "11. Lowercase title"
   ]
  },
  {
   "cell_type": "code",
   "execution_count": 3,
   "id": "d1fa2f68-80aa-40bb-b7b2-2b7fc40eb5b0",
   "metadata": {
    "tags": []
   },
   "outputs": [
    {
     "data": {
      "text/html": [
       "<div>\n",
       "<style scoped>\n",
       "    .dataframe tbody tr th:only-of-type {\n",
       "        vertical-align: middle;\n",
       "    }\n",
       "\n",
       "    .dataframe tbody tr th {\n",
       "        vertical-align: top;\n",
       "    }\n",
       "\n",
       "    .dataframe thead th {\n",
       "        text-align: right;\n",
       "    }\n",
       "</style>\n",
       "<table border=\"1\" class=\"dataframe\">\n",
       "  <thead>\n",
       "    <tr style=\"text-align: right;\">\n",
       "      <th></th>\n",
       "      <th>wiki_movie_id</th>\n",
       "      <th>free_movie_id</th>\n",
       "      <th>movie_name</th>\n",
       "      <th>release_date</th>\n",
       "      <th>box_office_revenue</th>\n",
       "      <th>runtime</th>\n",
       "      <th>languages</th>\n",
       "      <th>countries</th>\n",
       "      <th>genres</th>\n",
       "      <th>release_year</th>\n",
       "      <th>lowercase_title</th>\n",
       "    </tr>\n",
       "  </thead>\n",
       "  <tbody>\n",
       "    <tr>\n",
       "      <th>0</th>\n",
       "      <td>975900</td>\n",
       "      <td>/m/03vyhn</td>\n",
       "      <td>Ghosts of Mars</td>\n",
       "      <td>2001-08-24</td>\n",
       "      <td>14010832.0</td>\n",
       "      <td>98.0</td>\n",
       "      <td>{\"/m/02h40lc\": \"English Language\"}</td>\n",
       "      <td>{\"/m/09c7w0\": \"United States of America\"}</td>\n",
       "      <td>{\"/m/01jfsb\": \"Thriller\", \"/m/06n90\": \"Science...</td>\n",
       "      <td>2001.0</td>\n",
       "      <td>ghosts of mars</td>\n",
       "    </tr>\n",
       "    <tr>\n",
       "      <th>1</th>\n",
       "      <td>3196793</td>\n",
       "      <td>/m/08yl5d</td>\n",
       "      <td>Getting Away with Murder: The JonBenét Ramsey ...</td>\n",
       "      <td>2000-02-16</td>\n",
       "      <td>NaN</td>\n",
       "      <td>95.0</td>\n",
       "      <td>{\"/m/02h40lc\": \"English Language\"}</td>\n",
       "      <td>{\"/m/09c7w0\": \"United States of America\"}</td>\n",
       "      <td>{\"/m/02n4kr\": \"Mystery\", \"/m/03bxz7\": \"Biograp...</td>\n",
       "      <td>2000.0</td>\n",
       "      <td>getting away with murder: the jonbenét ramsey ...</td>\n",
       "    </tr>\n",
       "    <tr>\n",
       "      <th>2</th>\n",
       "      <td>28463795</td>\n",
       "      <td>/m/0crgdbh</td>\n",
       "      <td>Brun bitter</td>\n",
       "      <td>1988</td>\n",
       "      <td>NaN</td>\n",
       "      <td>83.0</td>\n",
       "      <td>{\"/m/05f_3\": \"Norwegian Language\"}</td>\n",
       "      <td>{\"/m/05b4w\": \"Norway\"}</td>\n",
       "      <td>{\"/m/0lsxr\": \"Crime Fiction\", \"/m/07s9rl0\": \"D...</td>\n",
       "      <td>1988.0</td>\n",
       "      <td>brun bitter</td>\n",
       "    </tr>\n",
       "    <tr>\n",
       "      <th>3</th>\n",
       "      <td>9363483</td>\n",
       "      <td>/m/0285_cd</td>\n",
       "      <td>White Of The Eye</td>\n",
       "      <td>1987</td>\n",
       "      <td>NaN</td>\n",
       "      <td>110.0</td>\n",
       "      <td>{\"/m/02h40lc\": \"English Language\"}</td>\n",
       "      <td>{\"/m/07ssc\": \"United Kingdom\"}</td>\n",
       "      <td>{\"/m/01jfsb\": \"Thriller\", \"/m/0glj9q\": \"Erotic...</td>\n",
       "      <td>1987.0</td>\n",
       "      <td>white of the eye</td>\n",
       "    </tr>\n",
       "    <tr>\n",
       "      <th>4</th>\n",
       "      <td>261236</td>\n",
       "      <td>/m/01mrr1</td>\n",
       "      <td>A Woman in Flames</td>\n",
       "      <td>1983</td>\n",
       "      <td>NaN</td>\n",
       "      <td>106.0</td>\n",
       "      <td>{\"/m/04306rv\": \"German Language\"}</td>\n",
       "      <td>{\"/m/0345h\": \"Germany\"}</td>\n",
       "      <td>{\"/m/07s9rl0\": \"Drama\"}</td>\n",
       "      <td>1983.0</td>\n",
       "      <td>a woman in flames</td>\n",
       "    </tr>\n",
       "  </tbody>\n",
       "</table>\n",
       "</div>"
      ],
      "text/plain": [
       "   wiki_movie_id free_movie_id  \\\n",
       "0         975900     /m/03vyhn   \n",
       "1        3196793     /m/08yl5d   \n",
       "2       28463795    /m/0crgdbh   \n",
       "3        9363483    /m/0285_cd   \n",
       "4         261236     /m/01mrr1   \n",
       "\n",
       "                                          movie_name release_date  \\\n",
       "0                                     Ghosts of Mars   2001-08-24   \n",
       "1  Getting Away with Murder: The JonBenét Ramsey ...   2000-02-16   \n",
       "2                                        Brun bitter         1988   \n",
       "3                                   White Of The Eye         1987   \n",
       "4                                  A Woman in Flames         1983   \n",
       "\n",
       "   box_office_revenue  runtime                           languages  \\\n",
       "0          14010832.0     98.0  {\"/m/02h40lc\": \"English Language\"}   \n",
       "1                 NaN     95.0  {\"/m/02h40lc\": \"English Language\"}   \n",
       "2                 NaN     83.0  {\"/m/05f_3\": \"Norwegian Language\"}   \n",
       "3                 NaN    110.0  {\"/m/02h40lc\": \"English Language\"}   \n",
       "4                 NaN    106.0   {\"/m/04306rv\": \"German Language\"}   \n",
       "\n",
       "                                   countries  \\\n",
       "0  {\"/m/09c7w0\": \"United States of America\"}   \n",
       "1  {\"/m/09c7w0\": \"United States of America\"}   \n",
       "2                     {\"/m/05b4w\": \"Norway\"}   \n",
       "3             {\"/m/07ssc\": \"United Kingdom\"}   \n",
       "4                    {\"/m/0345h\": \"Germany\"}   \n",
       "\n",
       "                                              genres  release_year  \\\n",
       "0  {\"/m/01jfsb\": \"Thriller\", \"/m/06n90\": \"Science...        2001.0   \n",
       "1  {\"/m/02n4kr\": \"Mystery\", \"/m/03bxz7\": \"Biograp...        2000.0   \n",
       "2  {\"/m/0lsxr\": \"Crime Fiction\", \"/m/07s9rl0\": \"D...        1988.0   \n",
       "3  {\"/m/01jfsb\": \"Thriller\", \"/m/0glj9q\": \"Erotic...        1987.0   \n",
       "4                            {\"/m/07s9rl0\": \"Drama\"}        1983.0   \n",
       "\n",
       "                                     lowercase_title  \n",
       "0                                     ghosts of mars  \n",
       "1  getting away with murder: the jonbenét ramsey ...  \n",
       "2                                        brun bitter  \n",
       "3                                   white of the eye  \n",
       "4                                  a woman in flames  "
      ]
     },
     "execution_count": 3,
     "metadata": {},
     "output_type": "execute_result"
    }
   ],
   "source": [
    "movie_metadata.head()"
   ]
  },
  {
   "cell_type": "markdown",
   "id": "ad5663f9-ba49-4919-af18-02ae4b32d9e3",
   "metadata": {},
   "source": [
    "Metadata for 450 669 characters aligned to the movies above, extracted from the Noverber 4, 2012 dump of Freebase:\n",
    "1. Wikipedia movie ID\n",
    "2. Freebase movie ID\n",
    "3. Movie release date\n",
    "4. Character name\n",
    "5. Actor date of birth\n",
    "6. Actor gender\n",
    "7. Actor height (in meters)\n",
    "8. Actor ethnicity (Freebase ID)\n",
    "9. Actor name\n",
    "10. Actor age at movie release\n",
    "11. Freebase character/actor map ID\n",
    "12. Freebase character ID\n",
    "13. Freebase actor ID\n",
    "14. Release year\n",
    "15. Actor birth year"
   ]
  },
  {
   "cell_type": "code",
   "execution_count": 4,
   "id": "d9dd5d96-152a-498f-9f49-41df42843707",
   "metadata": {
    "tags": []
   },
   "outputs": [
    {
     "data": {
      "text/html": [
       "<div>\n",
       "<style scoped>\n",
       "    .dataframe tbody tr th:only-of-type {\n",
       "        vertical-align: middle;\n",
       "    }\n",
       "\n",
       "    .dataframe tbody tr th {\n",
       "        vertical-align: top;\n",
       "    }\n",
       "\n",
       "    .dataframe thead th {\n",
       "        text-align: right;\n",
       "    }\n",
       "</style>\n",
       "<table border=\"1\" class=\"dataframe\">\n",
       "  <thead>\n",
       "    <tr style=\"text-align: right;\">\n",
       "      <th></th>\n",
       "      <th>wiki_movie_id</th>\n",
       "      <th>free_movie_id</th>\n",
       "      <th>release_date</th>\n",
       "      <th>character_name</th>\n",
       "      <th>actor_birth_date</th>\n",
       "      <th>actor_gender</th>\n",
       "      <th>actor_height</th>\n",
       "      <th>actor_ethnicity</th>\n",
       "      <th>actor_name</th>\n",
       "      <th>actor_age</th>\n",
       "      <th>free_character_actor_map_id</th>\n",
       "      <th>free_character_id</th>\n",
       "      <th>free_actor_id</th>\n",
       "      <th>release_year</th>\n",
       "      <th>actor_birth_year</th>\n",
       "    </tr>\n",
       "  </thead>\n",
       "  <tbody>\n",
       "    <tr>\n",
       "      <th>0</th>\n",
       "      <td>975900</td>\n",
       "      <td>/m/03vyhn</td>\n",
       "      <td>2001-08-24</td>\n",
       "      <td>Akooshay</td>\n",
       "      <td>1958-08-26</td>\n",
       "      <td>F</td>\n",
       "      <td>1.620</td>\n",
       "      <td>NaN</td>\n",
       "      <td>Wanda De Jesus</td>\n",
       "      <td>42.0</td>\n",
       "      <td>/m/0bgchxw</td>\n",
       "      <td>/m/0bgcj3x</td>\n",
       "      <td>/m/03wcfv7</td>\n",
       "      <td>2001.0</td>\n",
       "      <td>1958.0</td>\n",
       "    </tr>\n",
       "    <tr>\n",
       "      <th>1</th>\n",
       "      <td>975900</td>\n",
       "      <td>/m/03vyhn</td>\n",
       "      <td>2001-08-24</td>\n",
       "      <td>Lieutenant Melanie Ballard</td>\n",
       "      <td>1974-08-15</td>\n",
       "      <td>F</td>\n",
       "      <td>1.780</td>\n",
       "      <td>/m/044038p</td>\n",
       "      <td>Natasha Henstridge</td>\n",
       "      <td>27.0</td>\n",
       "      <td>/m/0jys3m</td>\n",
       "      <td>/m/0bgchn4</td>\n",
       "      <td>/m/0346l4</td>\n",
       "      <td>2001.0</td>\n",
       "      <td>1974.0</td>\n",
       "    </tr>\n",
       "    <tr>\n",
       "      <th>2</th>\n",
       "      <td>975900</td>\n",
       "      <td>/m/03vyhn</td>\n",
       "      <td>2001-08-24</td>\n",
       "      <td>Desolation Williams</td>\n",
       "      <td>1969-06-15</td>\n",
       "      <td>M</td>\n",
       "      <td>1.727</td>\n",
       "      <td>/m/0x67</td>\n",
       "      <td>Ice Cube</td>\n",
       "      <td>32.0</td>\n",
       "      <td>/m/0jys3g</td>\n",
       "      <td>/m/0bgchn_</td>\n",
       "      <td>/m/01vw26l</td>\n",
       "      <td>2001.0</td>\n",
       "      <td>1969.0</td>\n",
       "    </tr>\n",
       "    <tr>\n",
       "      <th>3</th>\n",
       "      <td>975900</td>\n",
       "      <td>/m/03vyhn</td>\n",
       "      <td>2001-08-24</td>\n",
       "      <td>Sgt Jericho Butler</td>\n",
       "      <td>1967-09-12</td>\n",
       "      <td>M</td>\n",
       "      <td>1.750</td>\n",
       "      <td>NaN</td>\n",
       "      <td>Jason Statham</td>\n",
       "      <td>33.0</td>\n",
       "      <td>/m/02vchl6</td>\n",
       "      <td>/m/0bgchnq</td>\n",
       "      <td>/m/034hyc</td>\n",
       "      <td>2001.0</td>\n",
       "      <td>1967.0</td>\n",
       "    </tr>\n",
       "    <tr>\n",
       "      <th>4</th>\n",
       "      <td>975900</td>\n",
       "      <td>/m/03vyhn</td>\n",
       "      <td>2001-08-24</td>\n",
       "      <td>Bashira Kincaid</td>\n",
       "      <td>1977-09-25</td>\n",
       "      <td>F</td>\n",
       "      <td>1.650</td>\n",
       "      <td>NaN</td>\n",
       "      <td>Clea DuVall</td>\n",
       "      <td>23.0</td>\n",
       "      <td>/m/02vbb3r</td>\n",
       "      <td>/m/0bgchp9</td>\n",
       "      <td>/m/01y9xg</td>\n",
       "      <td>2001.0</td>\n",
       "      <td>1977.0</td>\n",
       "    </tr>\n",
       "  </tbody>\n",
       "</table>\n",
       "</div>"
      ],
      "text/plain": [
       "   wiki_movie_id free_movie_id release_date              character_name  \\\n",
       "0         975900     /m/03vyhn   2001-08-24                    Akooshay   \n",
       "1         975900     /m/03vyhn   2001-08-24  Lieutenant Melanie Ballard   \n",
       "2         975900     /m/03vyhn   2001-08-24         Desolation Williams   \n",
       "3         975900     /m/03vyhn   2001-08-24          Sgt Jericho Butler   \n",
       "4         975900     /m/03vyhn   2001-08-24             Bashira Kincaid   \n",
       "\n",
       "  actor_birth_date actor_gender  actor_height actor_ethnicity  \\\n",
       "0       1958-08-26            F         1.620             NaN   \n",
       "1       1974-08-15            F         1.780      /m/044038p   \n",
       "2       1969-06-15            M         1.727         /m/0x67   \n",
       "3       1967-09-12            M         1.750             NaN   \n",
       "4       1977-09-25            F         1.650             NaN   \n",
       "\n",
       "           actor_name  actor_age free_character_actor_map_id  \\\n",
       "0      Wanda De Jesus       42.0                  /m/0bgchxw   \n",
       "1  Natasha Henstridge       27.0                   /m/0jys3m   \n",
       "2            Ice Cube       32.0                   /m/0jys3g   \n",
       "3       Jason Statham       33.0                  /m/02vchl6   \n",
       "4         Clea DuVall       23.0                  /m/02vbb3r   \n",
       "\n",
       "  free_character_id free_actor_id  release_year  actor_birth_year  \n",
       "0        /m/0bgcj3x    /m/03wcfv7        2001.0            1958.0  \n",
       "1        /m/0bgchn4     /m/0346l4        2001.0            1974.0  \n",
       "2        /m/0bgchn_    /m/01vw26l        2001.0            1969.0  \n",
       "3        /m/0bgchnq     /m/034hyc        2001.0            1967.0  \n",
       "4        /m/0bgchp9     /m/01y9xg        2001.0            1977.0  "
      ]
     },
     "execution_count": 4,
     "metadata": {},
     "output_type": "execute_result"
    }
   ],
   "source": [
    "character_metadata.head()"
   ]
  },
  {
   "cell_type": "markdown",
   "id": "7c7a691b-f615-440f-b2be-72fa6d89f76d",
   "metadata": {},
   "source": [
    "Plot summaries of 42 303 movies extracted from the November 2, 2012 dump of English-language Wikipedia.\n",
    "Each line contains the Wikipedia movie ID (which indexes into movie_metadata) followed by the summary."
   ]
  },
  {
   "cell_type": "code",
   "execution_count": 5,
   "id": "fcaae9b1-a413-4829-b19c-2209e969d87b",
   "metadata": {
    "tags": []
   },
   "outputs": [
    {
     "data": {
      "text/html": [
       "<div>\n",
       "<style scoped>\n",
       "    .dataframe tbody tr th:only-of-type {\n",
       "        vertical-align: middle;\n",
       "    }\n",
       "\n",
       "    .dataframe tbody tr th {\n",
       "        vertical-align: top;\n",
       "    }\n",
       "\n",
       "    .dataframe thead th {\n",
       "        text-align: right;\n",
       "    }\n",
       "</style>\n",
       "<table border=\"1\" class=\"dataframe\">\n",
       "  <thead>\n",
       "    <tr style=\"text-align: right;\">\n",
       "      <th></th>\n",
       "      <th>wiki_movie_id</th>\n",
       "      <th>plot</th>\n",
       "    </tr>\n",
       "  </thead>\n",
       "  <tbody>\n",
       "    <tr>\n",
       "      <th>0</th>\n",
       "      <td>23890098</td>\n",
       "      <td>Shlykov, a hard-working taxi driver and Lyosha...</td>\n",
       "    </tr>\n",
       "    <tr>\n",
       "      <th>1</th>\n",
       "      <td>31186339</td>\n",
       "      <td>The nation of Panem consists of a wealthy Capi...</td>\n",
       "    </tr>\n",
       "    <tr>\n",
       "      <th>2</th>\n",
       "      <td>20663735</td>\n",
       "      <td>Poovalli Induchoodan  is sentenced for six yea...</td>\n",
       "    </tr>\n",
       "    <tr>\n",
       "      <th>3</th>\n",
       "      <td>2231378</td>\n",
       "      <td>The Lemon Drop Kid , a New York City swindler,...</td>\n",
       "    </tr>\n",
       "    <tr>\n",
       "      <th>4</th>\n",
       "      <td>595909</td>\n",
       "      <td>Seventh-day Adventist Church pastor Michael Ch...</td>\n",
       "    </tr>\n",
       "  </tbody>\n",
       "</table>\n",
       "</div>"
      ],
      "text/plain": [
       "   wiki_movie_id                                               plot\n",
       "0       23890098  Shlykov, a hard-working taxi driver and Lyosha...\n",
       "1       31186339  The nation of Panem consists of a wealthy Capi...\n",
       "2       20663735  Poovalli Induchoodan  is sentenced for six yea...\n",
       "3        2231378  The Lemon Drop Kid , a New York City swindler,...\n",
       "4         595909  Seventh-day Adventist Church pastor Michael Ch..."
      ]
     },
     "execution_count": 5,
     "metadata": {},
     "output_type": "execute_result"
    }
   ],
   "source": [
    "plot_summaries.head()"
   ]
  },
  {
   "cell_type": "markdown",
   "id": "f07b0665-2b5a-4ef4-9b09-5588848d2212",
   "metadata": {
    "tags": []
   },
   "source": [
    "# Basic features analysis"
   ]
  },
  {
   "cell_type": "markdown",
   "id": "086106b4-bbeb-425b-82f4-971d1520f975",
   "metadata": {
    "tags": []
   },
   "source": [
    "## Undestanding the dataset"
   ]
  },
  {
   "cell_type": "code",
   "execution_count": 6,
   "id": "cfe9881c-2af0-4b3e-96e6-d13e6b8fed41",
   "metadata": {
    "tags": []
   },
   "outputs": [
    {
     "name": "stdout",
     "output_type": "stream",
     "text": [
      "number of nan values in movie_metadata:\n",
      "wiki_movie_id             0\n",
      "free_movie_id             0\n",
      "movie_name                0\n",
      "release_date           6902\n",
      "box_office_revenue    73340\n",
      "runtime               20450\n",
      "languages                 0\n",
      "countries                 0\n",
      "genres                    0\n",
      "release_year           6902\n",
      "lowercase_title           0\n",
      "dtype: int64\n",
      "\n",
      "number of rows in movie_metadata: 81741\n"
     ]
    }
   ],
   "source": [
    "print('number of nan values in movie_metadata:')\n",
    "print(movie_metadata.isna().sum())\n",
    "print('\\nnumber of rows in movie_metadata:',movie_metadata.shape[0])"
   ]
  },
  {
   "cell_type": "code",
   "execution_count": 7,
   "id": "4ccc71ba-3a01-43b7-a762-fcf329a73540",
   "metadata": {
    "tags": []
   },
   "outputs": [
    {
     "name": "stdout",
     "output_type": "stream",
     "text": [
      "number of nan values in character_metadata:\n",
      "wiki_movie_id                       0\n",
      "free_movie_id                       0\n",
      "release_date                     9995\n",
      "character_name                 257875\n",
      "actor_birth_date               106145\n",
      "actor_gender                    45609\n",
      "actor_height                   295845\n",
      "actor_ethnicity                344611\n",
      "actor_name                       1228\n",
      "actor_age                      158113\n",
      "free_character_actor_map_id         0\n",
      "free_character_id              257865\n",
      "free_actor_id                     815\n",
      "release_year                     9995\n",
      "actor_birth_year               106156\n",
      "dtype: int64\n",
      "\n",
      "number of character_metadata rows: 450669\n"
     ]
    }
   ],
   "source": [
    "print('number of nan values in character_metadata:')\n",
    "print(character_metadata.isna().sum())\n",
    "print('\\nnumber of character_metadata rows:', character_metadata.shape[0])"
   ]
  },
  {
   "cell_type": "code",
   "execution_count": 8,
   "id": "0c164a33-b73c-424a-ba2a-c1989ae2c0f6",
   "metadata": {
    "tags": []
   },
   "outputs": [
    {
     "name": "stdout",
     "output_type": "stream",
     "text": [
      "unique values of freebase movie ID in character_metadata: 64330\n",
      "freebase movie ID in character_metadata: 450669\n",
      "number of movie ID in character_metadata, which appear in movie_metadata: 64330\n"
     ]
    }
   ],
   "source": [
    "print('unique values of freebase movie ID in character_metadata:',\n",
    "      len(character_metadata['free_movie_id'].unique()))\n",
    "print('freebase movie ID in character_metadata:',\n",
    "      len(character_metadata['free_movie_id']))\n",
    "print('number of movie ID in character_metadata, which appear in movie_metadata:',\n",
    "      sum(movie_metadata['free_movie_id'].isin(character_metadata['free_movie_id'].unique())))"
   ]
  },
  {
   "cell_type": "markdown",
   "id": "f87f5c76-334a-4bb3-a4f8-a2930cc55927",
   "metadata": {},
   "source": [
    "Each movie in character_metadata appears in movie_metadata"
   ]
  },
  {
   "cell_type": "code",
   "execution_count": 9,
   "id": "c7dad014-fb28-4026-b445-aca886d8a1f9",
   "metadata": {
    "tags": []
   },
   "outputs": [
    {
     "name": "stdout",
     "output_type": "stream",
     "text": [
      "unique values of freebase character ID in character_metadata (number of characters): 183436\n",
      "unique values of freebase actor ID in character_metadata (number of actors): 135761\n",
      "unique values of actor ethnicity in character_metadata (number of ethnicities): 480\n"
     ]
    }
   ],
   "source": [
    "print('unique values of freebase character ID in character_metadata (number of characters):',\n",
    "      len(character_metadata['free_character_id'].unique()))\n",
    "print('unique values of freebase actor ID in character_metadata (number of actors):',\n",
    "      len(character_metadata['free_actor_id'].unique()))\n",
    "print('unique values of actor ethnicity in character_metadata (number of ethnicities):',\n",
    "      len(character_metadata['actor_ethnicity'].unique()))"
   ]
  },
  {
   "cell_type": "markdown",
   "id": "ee4c0079-a99b-4f70-94b4-b68fbbfe91ba",
   "metadata": {
    "tags": []
   },
   "source": [
    "## Plot data"
   ]
  },
  {
   "cell_type": "markdown",
   "id": "2c1e94dc-c68f-4bd7-a0cc-2de63c8a74da",
   "metadata": {},
   "source": [
    "### Movies metadata"
   ]
  },
  {
   "cell_type": "code",
   "execution_count": 10,
   "id": "7860d554-517d-474f-b41a-a619220b08fe",
   "metadata": {
    "tags": []
   },
   "outputs": [
    {
     "data": {
      "image/png": "[encoded data removed]",
      "text/plain": [
       "<Figure size 640x480 with 1 Axes>"
      ]
     },
     "metadata": {},
     "output_type": "display_data"
    }
   ],
   "source": [
    "# gross revenue histogram\n",
    "movie_metadata['box_office_revenue'].dropna().hist(bins = 100, log=True)\n",
    "plt.xlabel('Worldwide gross revenue')\n",
    "plt.ylabel('Number of movies')\n",
    "plt.title('Gross revenue, histogram');"
   ]
  },
  {
   "cell_type": "code",
   "execution_count": 11,
   "id": "bb7f3a2c-72d4-4846-9d70-89c45e5a6d02",
   "metadata": {
    "tags": []
   },
   "outputs": [
    {
     "data": {
      "image/png": "[encoded data removed]",
      "text/plain": [
       "<Figure size 640x480 with 1 Axes>"
      ]
     },
     "metadata": {},
     "output_type": "display_data"
    }
   ],
   "source": [
    "# length of movies histogram.\n",
    "# We dropped movies with a length >= 1079280, as we observed errors in the dataset\n",
    "movie_metadata[movie_metadata['runtime'] < 1079280].runtime.dropna().hist(bins = 100, log=True)\n",
    "plt.xlabel('Runtime')\n",
    "plt.ylabel('Number of movies')\n",
    "plt.title('Length of movies, histogram');"
   ]
  },
  {
   "cell_type": "code",
   "execution_count": 12,
   "id": "92116d33-b0fa-4544-a44e-1578b04e43da",
   "metadata": {
    "tags": []
   },
   "outputs": [
    {
     "data": {
      "image/png": "[encoded data removed]",
      "text/plain": [
       "<Figure size 640x480 with 1 Axes>"
      ]
     },
     "metadata": {},
     "output_type": "display_data"
    }
   ],
   "source": [
    "# release year histogram. We dropped movies with a release year <= 1011,\n",
    "# We dropped movies with a release year <= 1011, as we observed errors in the dataset\n",
    "movie_metadata[movie_metadata['release_year'] > 1011].release_year.dropna().hist(bins = 40, log=False)\n",
    "plt.xlabel('Release year')\n",
    "plt.ylabel('Number of movies')\n",
    "plt.title('Release year, histogram');"
   ]
  },
  {
   "cell_type": "markdown",
   "id": "dc2b10c1-2f71-4100-b104-efd42a642c30",
   "metadata": {},
   "source": [
    "### Characters metadata"
   ]
  },
  {
   "cell_type": "code",
   "execution_count": 13,
   "id": "f5dbba2d-a185-4ba6-a324-a077eca0c6d2",
   "metadata": {
    "tags": []
   },
   "outputs": [
    {
     "data": {
      "image/png": "[encoded data removed]",
      "text/plain": [
       "<Figure size 640x480 with 1 Axes>"
      ]
     },
     "metadata": {},
     "output_type": "display_data"
    }
   ],
   "source": [
    "# actor gender countplot\n",
    "sns.countplot(data=character_metadata, x=\"actor_gender\");\n",
    "plt.title('Actors gender, countplot')\n",
    "plt.xlabel('Gender')\n",
    "plt.ylabel('Number of actor-character-map recurrences');"
   ]
  },
  {
   "cell_type": "code",
   "execution_count": 14,
   "id": "2335c619-02b0-42d8-ad16-af7fba0e68c7",
   "metadata": {
    "tags": []
   },
   "outputs": [
    {
     "data": {
      "image/png": "[encoded data removed]",
      "text/plain": [
       "<Figure size 640x480 with 1 Axes>"
      ]
     },
     "metadata": {},
     "output_type": "display_data"
    }
   ],
   "source": [
    "# actor birth year, histogram\n",
    "# We dropped actors with a birth year <= 1828 or >= 2009, as we observed errors in the dataset\n",
    "character_metadata[(character_metadata['actor_birth_year'] > 1828) * (character_metadata['actor_birth_year'] < 2009)].actor_birth_year.dropna().hist(bins = 40, log=False)\n",
    "plt.xlabel('Release year')\n",
    "plt.ylabel('Number of actor-character recurrences')\n",
    "plt.title('Actors birth year, histogram');"
   ]
  },
  {
   "cell_type": "code",
   "execution_count": 15,
   "id": "c553718e-f2a5-4b79-a0b6-7b083c7c7626",
   "metadata": {
    "tags": []
   },
   "outputs": [
    {
     "data": {
      "image/png": "[encoded data removed]",
      "text/plain": [
       "<Figure size 640x480 with 1 Axes>"
      ]
     },
     "metadata": {},
     "output_type": "display_data"
    }
   ],
   "source": [
    "# actor age histogram\n",
    "# We dropped actors with an age < 0, as we observed errors in the dataset\n",
    "character_metadata[character_metadata['actor_age'] >= 0].actor_age.dropna().hist(bins = 40, log=False)\n",
    "plt.xlabel('Release year')\n",
    "plt.ylabel('Number of actor-character recurrences')\n",
    "plt.title('Actors age, histogram');"
   ]
  },
  {
   "cell_type": "code",
   "execution_count": 16,
   "id": "2b6e2ea5-3b9d-4d2a-9ce0-691231321408",
   "metadata": {
    "tags": []
   },
   "outputs": [
    {
     "data": {
      "image/png": "[encoded data removed]",
      "text/plain": [
       "<Figure size 640x480 with 1 Axes>"
      ]
     },
     "metadata": {},
     "output_type": "display_data"
    }
   ],
   "source": [
    "# actor height histogram\n",
    "# We dropped actors with a height >= 3, as we observed errors in the dataset\n",
    "character_metadata[character_metadata['actor_height'] < 3].actor_height.dropna().hist(bins = 40, log=False)\n",
    "plt.xlabel('Height (m)')\n",
    "plt.ylabel('Number of actor-character recurrences')\n",
    "plt.title('Actor height in meters, histogram');"
   ]
  },
  {
   "cell_type": "markdown",
   "id": "0e459000",
   "metadata": {
    "tags": []
   },
   "source": [
    "# Plot evolution and similarity\n"
   ]
  },
  {
   "cell_type": "code",
   "execution_count": 17,
   "id": "aa2122d3",
   "metadata": {
    "tags": []
   },
   "outputs": [
    {
     "name": "stderr",
     "output_type": "stream",
     "text": [
      "[nltk_data] Downloading package wordnet to /home/oriol/nltk_data...\n",
      "[nltk_data]   Package wordnet is already up-to-date!\n"
     ]
    }
   ],
   "source": [
    "from similarity import preprocess_text, cosine_similarity\n",
    "\n",
    "plot_similarity = plot_summaries\n",
    "plot_evolution = plot_summaries\n",
    "plot_similarity['count_words'] = plot_similarity.apply(lambda x: len(str(x['plot']).split()), axis=1)\n",
    "\n",
    "# Drop plots with less than 200 words\n",
    "plot_similarity.drop(plot_similarity[plot_similarity['count_words'] < 200].index, inplace= True)\n",
    "\n",
    "# Preprocess the synopses\n",
    "# The Hunger Games\n",
    "preprocessed_synopsis1 = preprocess_text(plot_similarity.query(\"wiki_movie_id == 31186339\").iloc[0]['plot'])\n",
    "\n",
    "# Fast and Furious: Tokyo Drift\n",
    "preprocessed_synopsis2 = preprocess_text(plot_similarity.query(\"wiki_movie_id == 2913859\").iloc[0]['plot'])\n",
    "\n",
    "# Harry Potter: Deathly Hallows Part I\n",
    "preprocessed_synopsis3 = preprocess_text(plot_similarity.query(\"wiki_movie_id == 9834441\").iloc[0]['plot'])\n",
    "\n",
    "# Mamma mia\n",
    "preprocessed_synopsis4 = preprocess_text(plot_similarity.query(\"wiki_movie_id == 8425661\").iloc[0]['plot'])"
   ]
  },
  {
   "cell_type": "markdown",
   "id": "6074601e",
   "metadata": {},
   "source": [
    "Compute cosine similarity between preprocessed plots"
   ]
  },
  {
   "cell_type": "code",
   "execution_count": 18,
   "id": "431006a2",
   "metadata": {},
   "outputs": [
    {
     "name": "stdout",
     "output_type": "stream",
     "text": [
      "hunger          2\n",
      "game            5\n",
      "reap            1\n",
      "career          2\n",
      "rue            11\n",
      "glimmer         1\n",
      "hallucinate     1\n",
      "marvel          1\n",
      "snow            2\n",
      "crane           4\n",
      "cleave          3\n",
      "thresh          2\n",
      "panem           1\n",
      "capitol         2\n",
      "primrose        1\n",
      "everdeen        1\n",
      "katniss        24\n",
      "peeta          16\n",
      "mellark         1\n",
      "haymitch        4\n",
      "abernathy       1\n",
      "during          1\n",
      "tv              1\n",
      "caesar          1\n",
      "flickerman      1\n",
      "however         2\n",
      "cornucopia      2\n",
      "meanwhile       1\n",
      "furious         1\n",
      "cato            4\n",
      "afterward       1\n",
      "president       2\n",
      "seneca          1\n",
      "gamemaker       1\n",
      "since           1\n",
      "upon            1\n",
      "foxface         1\n",
      "dtype: int64\n"
     ]
    }
   ],
   "source": [
    "print(pd.Series(preprocessed_synopsis1))"
   ]
  },
  {
   "cell_type": "code",
   "execution_count": 19,
   "id": "4b2f18a9",
   "metadata": {},
   "outputs": [],
   "source": [
    "similarity_1 = cosine_similarity(preprocessed_synopsis1, preprocessed_synopsis2)\n",
    "similarity_2 = cosine_similarity(preprocessed_synopsis1, preprocessed_synopsis3)\n",
    "similarity_3 = cosine_similarity(preprocessed_synopsis1, preprocessed_synopsis4)\n",
    "similarity_4 = cosine_similarity(preprocessed_synopsis3, preprocessed_synopsis4)"
   ]
  },
  {
   "cell_type": "markdown",
   "id": "1c06f892",
   "metadata": {},
   "source": [
    "### Cosine similarity interpretation and validation\n",
    "If cosine similarity is equal to 1 means both plots are identical. On the other side, if cosine similarity is equal to 0 means the plots have nothing in common.\n",
    "\n",
    "Overviewing the below similarities, it makes sense that \"The Hunger Games\" is more similar to a film such as \"Harry Potter: Deathly Hallows Part 1\" for more common actions such as \"kill\", \"reveal\" and \"take\" than to Fast&Furious and Mamma Mia. This actions may appear also in the latter movies but with less relevance.\n",
    "\n",
    "And unusual phenomena is observed when comparing Harry Potter to Mamma Mia. Using the user's experience, one can argue these films are not very much alike. Investigating the issue further, we discover that this high value on similarity is due to one of the main protagonist for both films are called Harry.\n",
    "\n",
    "Filtering people's name might be necessary to refine the algorithm."
   ]
  },
  {
   "cell_type": "code",
   "execution_count": 20,
   "id": "d83a8372",
   "metadata": {},
   "outputs": [
    {
     "name": "stdout",
     "output_type": "stream",
     "text": [
      "Cosine Similarity The Hunger Games - F&F:Tokyo Drift: 0.0009323880643479381\n",
      "Cosine Similarity The Hunger Games - HP: Deathly Hallows P1: 0.006365961784918134\n",
      "Cosine Similarity The Hunger Games - Mamma mia: 0.0009303005847689718\n",
      "Cosine Similarity HP: Death Hollows P1 - Mamma mia: 0.012886833345170759\n"
     ]
    }
   ],
   "source": [
    "print(f\"Cosine Similarity The Hunger Games - F&F:Tokyo Drift: {similarity_1}\")\n",
    "print(f\"Cosine Similarity The Hunger Games - HP: Deathly Hallows P1: {similarity_2}\")\n",
    "print(f\"Cosine Similarity The Hunger Games - Mamma mia: {similarity_3}\")\n",
    "print(f\"Cosine Similarity HP: Death Hollows P1 - Mamma mia: {similarity_4}\")"
   ]
  },
  {
   "cell_type": "markdown",
   "id": "30bf7704",
   "metadata": {},
   "source": [
    "### Similarity computation by year\n",
    "We are interested on how much similar are movies released on the same year are alike"
   ]
  },
  {
   "cell_type": "code",
   "execution_count": 21,
   "id": "1ddef0c5",
   "metadata": {},
   "outputs": [],
   "source": [
    "num_datasets = 2\n",
    "file_path = './data/doc_words_df_{}.pkl' \n",
    "\n",
    "# Initialize an empty list to store DataFrames\n",
    "doc_dataframes = []\n",
    "\n",
    "# Loop through the dataset numbers and read each file\n",
    "for i in range(num_datasets):\n",
    "    df = pd.read_pickle(file_path.format(i))\n",
    "    #df.astype(np.ubyte)\n",
    "    # using sparse structure to avoid memory crash due to large dataset, fill 0 with nothing\n",
    "    #sparse_df = df.astype(pd.SparseDtype(dtype=np.uint16, fill_value=0))\n",
    "    doc_dataframes.append(df)\n",
    "\n",
    "# Concatenate all DataFrames in the list\n",
    "doc_bag = pd.concat(doc_dataframes, axis=0, ignore_index=True)"
   ]
  },
  {
   "cell_type": "code",
   "execution_count": 40,
   "id": "86c37380",
   "metadata": {},
   "outputs": [],
   "source": [
    "doc_freq = doc_bag.sum(axis=0, skipna=True, numeric_only=True, min_count=0)\n",
    "tf_idf = doc_bag * doc_freq.apply(lambda x: -log(x/len(doc_bag)))\n",
    "tf_idf = tf_idf.fillna(0)\n",
    "# wiki_movie_id will have been altered by tfidf computation\n",
    "# restore it to normal values\n",
    "tf_idf[\"wiki_movie_id\"] = doc_bag[\"wiki_movie_id\"]"
   ]
  },
  {
   "cell_type": "code",
   "execution_count": 72,
   "id": "272e9c5f",
   "metadata": {},
   "outputs": [
    {
     "name": "stdout",
     "output_type": "stream",
     "text": [
      "{'force': 3.598422343958685, 'poovalli': 8.30795254527102, 'induchoodan': 97.51645417274737, 'justice': 14.344776061964573, 'maranchery': 8.30795254527102, 'manapally': 49.82808802872947, 'nambiar': 16.090540698313735, 'dysp': 6.921658184151128, 'sankaranarayanan': 8.30795254527102, 'indian': 3.143166571347505, 'sudheeran': 8.30795254527102, 'saikumar': 6.921658184151128, 'we': 3.598422343958685, 'ramakrishnan': 6.698514632836918, 'nair': 14.927244105287446, 'pavithran': 33.59941406501285, 'bharathapuzha': 8.30795254527102, 'many': 4.570282926987651, 'aishwarya': 7.20934025660291, 'kerala': 4.752604483781606, 'there': 2.7824996061392353, 'indulekha': 39.09715845625779, 'but': 6.320916136915132, 'chandrabhanu': 8.30795254527102, 'jayakrishnan': 4.570282926987651, 'poovally': 8.30795254527102, 'raman': 5.7430031878094825, 'maarar': 8.30795254527102}\n",
      "{'meanwhile', 'upon'}\n",
      "set()\n",
      "Cosine Similarity The Hunger Games - F&F:Tokyo Drift: 0.0002307177398436256\n",
      "Cosine Similarity 2: 0.0\n"
     ]
    }
   ],
   "source": [
    "dic1 = tf_idf.query(\"wiki_movie_id == 31186339\").iloc[0].to_dict()\n",
    "dic2 = tf_idf.query(\"wiki_movie_id == 2913859\").iloc[0].to_dict()\n",
    "dic3 = tf_idf.query(\"wiki_movie_id == 20663735\").iloc[0].to_dict()\n",
    "\n",
    "dic1 = {x:y for x,y in dic1.items() if y!=0}\n",
    "dic2 = {x:y for x,y in dic2.items() if y!=0}\n",
    "dic3 = {x:y for x,y in dic3.items() if y!=0}\n",
    "\n",
    "dic1.pop(\"wiki_movie_id\")\n",
    "dic2.pop(\"wiki_movie_id\")\n",
    "dic3.pop(\"wiki_movie_id\")\n",
    "\n",
    "print(dic3)\n",
    "\n",
    "similarity_1 = cosine_similarity(dic1,dic2)\n",
    "similarity_2 = cosine_similarity(dic1,dic3)\n",
    "print(f\"Cosine Similarity The Hunger Games - F&F:Tokyo Drift: {similarity_1}\")\n",
    "print(f\"Cosine Similarity 2: {similarity_2}\")\n"
   ]
  },
  {
   "cell_type": "code",
   "execution_count": null,
   "id": "f7c94062",
   "metadata": {},
   "outputs": [],
   "source": [
    "\n"
   ]
  },
  {
   "cell_type": "markdown",
   "id": "6133dfff-30fd-4313-b121-eef94518afa3",
   "metadata": {},
   "source": [
    "### Emotional arc"
   ]
  },
  {
   "cell_type": "markdown",
   "id": "c9698ae0-7079-4e7c-8f10-2d787ab6187b",
   "metadata": {},
   "source": [
    "An interesting aspect of a movie is its emotional arc. We give a sentiment value to each sentence in the plot summary and then interpret the sequence of sentiment values of the sentences as the movie's emotional arc."
   ]
  },
  {
   "cell_type": "code",
   "execution_count": null,
   "id": "26eab290-c84e-4ef9-9443-090b4bbbff01",
   "metadata": {
    "tags": []
   },
   "outputs": [],
   "source": [
    "from similarity_and_evolution import tokenize_per_sentence\n",
    "from vaderSentiment.vaderSentiment import SentimentIntensityAnalyzer\n",
    "\n",
    "# The Hunger Games, tokenized per sentence\n",
    "plot_per_sentence1 = tokenize_per_sentence(plot_evolution.query(\"wiki_movie_id == 31186339\").iloc[0]['plot'])\n",
    "# Fast and Furious: Tokyo Drift, tokenized per sentence\n",
    "plot_per_sentence2 = tokenize_per_sentence(plot_evolution.query(\"wiki_movie_id == 2913859\").iloc[0]['plot'])"
   ]
  },
  {
   "cell_type": "code",
   "execution_count": null,
   "id": "695aec37-4316-4072-bc4d-2fd3e007e758",
   "metadata": {
    "tags": []
   },
   "outputs": [],
   "source": [
    "analyzer = SentimentIntensityAnalyzer()\n",
    "\"\"\"\n",
    "    This function computes the sentiment value of each sentence in the plot, and returns all of them as a list.\n",
    "\"\"\"\n",
    "def compute_sentiment_sequence(plot_sentences):\n",
    "    sentiment_sequence = []\n",
    "    for sentence in plot_sentences:\n",
    "        sentiment_sequence.append(analyzer.polarity_scores(sentence)['compound'])\n",
    "    return sentiment_sequence"
   ]
  },
  {
   "cell_type": "code",
   "execution_count": null,
   "id": "7d1349e9-9427-48dd-a261-25946937d017",
   "metadata": {
    "tags": []
   },
   "outputs": [],
   "source": [
    "# plot the sentiment value sequence, i.e emotional arc, of the Hunger Games\n",
    "emotional_arc1 = compute_sentiment_sequence(plot_per_sentence1)\n",
    "plt.plot(emotional_arc1)\n",
    "plt.title(\"Emotional arc of The Hunger Games\")\n",
    "plt.xlabel(\"sentence number\")\n",
    "plt.ylabel(\"sentiment value\")"
   ]
  },
  {
   "cell_type": "markdown",
   "id": "5510d09f-1f21-4ea4-a6ba-45b3fdef3434",
   "metadata": {},
   "source": [
    "To take the average over different emotional arcs of movies, there is one problem. They are of different length. We circumvent this problem by normalizing all emotional arcs to one length, namely the average length of all emotional arcs."
   ]
  },
  {
   "cell_type": "code",
   "execution_count": null,
   "id": "7990612f-3709-4327-9596-9b53bc6e6c26",
   "metadata": {
    "tags": []
   },
   "outputs": [],
   "source": [
    "from scipy.interpolate import interp1d\n",
    "import statistics\n",
    "# compute emotional arc of Fast and Furious\n",
    "emotional_arc2 = compute_sentiment_sequence(plot_per_sentence2)\n",
    "\n",
    "# compute the length to which we normalize both sequences as the average of the two lengths\n",
    "normalized_length = round(sum([len(emotional_arc1), len(emotional_arc2)])/2)\n",
    "\n",
    "# normalize both sequences to this lenght using interpolation\n",
    "interpolate1 = interp1d(np.linspace(0, 1, len(emotional_arc1)), emotional_arc1)\n",
    "interpolate2 = interp1d(np.linspace(0, 1, len(emotional_arc2)), emotional_arc2)\n",
    "emotional_arc2_norm = interpolate2(np.linspace(0, 1, normalized_length))\n",
    "emotional_arc1_norm = interpolate1(np.linspace(0, 1, normalized_length))\n",
    "\n",
    "# compute average emotional arc over these two movies\n",
    "average_emotional_arc = np.mean([emotional_arc1_norm, emotional_arc2_norm], axis=0)\n",
    "plt.plot(average_emotional_arc)\n",
    "plt.title(\"Average emotional arc of The Hunger Games and Fast and Furious\")\n",
    "plt.xlabel(\"sentence number\")\n",
    "plt.ylabel(\"sentiment value\")"
   ]
  },
  {
   "cell_type": "markdown",
   "id": "cd237b6c-0a33-4dba-9771-0055658d6ead",
   "metadata": {},
   "source": [
    "As we can see that the emotional arcs is not smooth at all, we will still have to apply some smoothing to them to make them more interpretable."
   ]
  },
  {
   "cell_type": "markdown",
   "id": "eb6fc16a",
   "metadata": {
    "tags": []
   },
   "source": [
    "## Regression ratings change over the years"
   ]
  },
  {
   "cell_type": "code",
   "execution_count": null,
   "metadata": {},
   "outputs": [],
   "source": [
    "# load merged dataset with imdb ids and movie metadata\n",
    "# loading merged in order to not have two huge dataset in memory\n",
    "res = pd.read_csv('data/movies_imdb_ids.csv')"
   ]
  },
  {
   "cell_type": "code",
   "execution_count": null,
   "metadata": {},
   "outputs": [],
   "source": [
    "res['release date'] = pd.to_datetime(res['release date'], format='%Y-%m-%d') # convert to datetime format\n",
    "res = res.loc[res['release date']  > datetime(2004, 1, 1)].copy()  # only consider dates after 2004 (before imdb didn't exist)\n",
    "res = res.loc[res['box office revenue'].notna()].copy() # remove ones without box office revenue\n",
    "res.reset_index(inplace=True, drop=True)\n",
    "res = res.loc[:, ~res.columns.str.contains('^Unnamed')]  # dropping unnamed columns\n",
    "res.head(1)"
   ]
  },
  {
   "cell_type": "code",
   "execution_count": null,
   "metadata": {},
   "outputs": [],
   "source": [
    "# only run if want to scrpae new data \n",
    "number_elements_to_scrape = len(res)\n",
    "\n",
    "ratings_df = pd.DataFrame()\n",
    "\n",
    "for index, row in res.iloc[:number_elements_to_scrape].iterrows():\n",
    "\n",
    "    print(f\"{index}/{number_elements_to_scrape} scraped -- Now scraping {row['tconst']}\", end = '\\r')\n",
    "\n",
    "    try: \n",
    "        dates, ratings, num_voters = scraper_review_next_and_five_years(row['tconst'], row['release date'])\n",
    "        ratings.extend(num_voters)\n",
    "        df = pd.DataFrame([ratings], columns=['after_one_year_rating', 'after_five_year_rating', 'one_year_num_voters', 'five_year_num_voters',], index = [row['tconst']])\n",
    "        ratings_df = pd.concat([df, ratings_df],  sort=False)\n",
    "        # df = pd.DataFrame([num_voters], columns=['first_date', 'second_date'], index = [row['tconst'] ])\n",
    "        # num_voters_df = pd.concat([df, num_voters_df],  sort=False)\n",
    "    except Exception as e: \n",
    "        print(f\"Exception {e}\")  # handling all excpetion in order to not sto pscraping process\n",
    "\n",
    "# print(result_df.head())\n",
    "ratings_df.to_csv('data/imbd_ratings.csv') # save scraped for future use"
   ]
  },
  {
   "cell_type": "code",
   "execution_count": null,
   "id": "6ae01296",
   "metadata": {
    "tags": []
   },
   "outputs": [],
   "source": [
    "ratings_df = pd.read_csv('data/imbd_ratings.csv') \n",
    "ratings_df = ratings_df.set_index(ratings_df.iloc[:, 0])\n",
    "ratings_df = ratings_df.loc[:, ~ratings_df.columns.str.contains('^Unnamed')] \n",
    "\n",
    "ratings_metadata = res.merge(ratings_df, how ='right', left_on='tconst', right_index=True)\n",
    "ratings_metadata.head(1)"
   ]
  },
  {
   "cell_type": "code",
   "execution_count": null,
   "metadata": {},
   "outputs": [],
   "source": [
    "ratings_metadata['genres_x']"
   ]
  },
  {
   "cell_type": "code",
   "execution_count": null,
   "id": "b7ed9497",
   "metadata": {
    "tags": []
   },
   "outputs": [],
   "source": [
    "def get_first_value_from_dictionary(row, value):\n",
    "    l = list(json.loads(row[value]).values())\n",
    "    if len(l) > 0: \n",
    "        genres = l[0]\n",
    "    else: \n",
    "        genres = ''\n",
    "    return genres\n",
    "\n",
    "def count_dictionary(row, value): \n",
    "    return len(json.loads(row[value]).keys())\n",
    "\n",
    "# extracting values from dictionaries\n",
    "ratings_metadata[\"genre\"] = ratings_metadata.apply(lambda row: get_first_value_from_dictionary(row, 'genres_x'), axis=1)\n",
    "ratings_metadata[\"language\"] = ratings_metadata.apply(lambda row: get_first_value_from_dictionary(row, 'languages'), axis=1)\n",
    "ratings_metadata[\"country\"] = ratings_metadata.apply(lambda row: get_first_value_from_dictionary(row, 'countries'), axis=1)\n",
    "ratings_metadata['year'] = pd.DatetimeIndex(ratings_metadata['release date']).year  # extracting year\n",
    "\n",
    "ratings_metadata[\"n_genre\"] = ratings_metadata.apply(lambda row: count_dictionary(row, 'genres_x'), axis=1)\n",
    "ratings_metadata[\"n_language\"] = ratings_metadata.apply(lambda row: count_dictionary(row, 'languages'), axis=1)\n",
    "ratings_metadata[\"n_country\"] = ratings_metadata.apply(lambda row: count_dictionary(row, 'countries'), axis=1)"
   ]
  },
  {
   "cell_type": "code",
   "execution_count": null,
   "metadata": {},
   "outputs": [],
   "source": [
    "ratings_metadata.columns"
   ]
  },
  {
   "cell_type": "code",
   "execution_count": null,
   "id": "4b896f88-8a5f-4b76-9881-ac11a5ae7669",
   "metadata": {
    "tags": []
   },
   "outputs": [],
   "source": [
    "# variable we'll try to predict\n",
    "y = (ratings_metadata.after_five_year_rating - ratings_metadata.after_one_year_rating) * (ratings_metadata.five_year_num_voters - ratings_metadata.one_year_num_voters) # TODO: adjust by the number of voters\n",
    "df_clean = ratings_metadata.drop(['Wikipedia movie ID', 'Freebase movie ID',\n",
    "       'name', 'release date', 'languages', 'isAdult', \n",
    "       'countries', 'genres_x', 'tconst', 'titleType', 'primaryTitle',\n",
    "       'originalTitle', 'startYear', 'endYear', 'runtimeMinutes',\n",
    "       'genres_y', 'after_one_year_rating', 'after_five_year_rating',\n",
    "       'one_year_num_voters', 'five_year_num_voters'], axis = 1).copy(deep = True)"
   ]
  },
  {
   "cell_type": "code",
   "execution_count": null,
   "metadata": {},
   "outputs": [],
   "source": [
    "plt.hist(y, bins = 40)\n",
    "plt.show()"
   ]
  },
  {
   "cell_type": "code",
   "execution_count": null,
   "id": "9771d084",
   "metadata": {},
   "outputs": [],
   "source": [
    "X = pd.get_dummies(df_clean[['genre']])\n",
    "# Drop column B as it is now encoded\n",
    "X=(X-X.min())/(X.max() - X.min())\n",
    "X.fillna(0, inplace=True)\n",
    "\n",
    "reg = LinearRegression().fit(X, y)\n",
    "sorted(zip(reg.coef_,X.columns))[:5], sorted(zip(reg.coef_,X.columns))[-5:] # find which coefficient are more important\n"
   ]
  },
  {
   "cell_type": "code",
   "execution_count": null,
   "id": "de0f353c",
   "metadata": {
    "tags": []
   },
   "outputs": [],
   "source": [
    "ratings_metadata.difference = y"
   ]
  },
  {
   "cell_type": "code",
   "execution_count": null,
   "id": "f6c037c1-a324-4b99-b547-c583d6a389e6",
   "metadata": {
    "tags": []
   },
   "outputs": [],
   "source": [
    "import statsmodels.api as sm\n",
    "\n",
    "y = (ratings_metadata.after_five_year_rating - ratings_metadata.after_one_year_rating) #* (ratings_metadata.five_year_num_voters - ratings_metadata.one_year_num_voters)\n",
    "y = (y > 0).astype(int)\n",
    "X = ratings_metadata[['box office revenue', 'year', 'runtime', 'n_language', 'n_genre', 'one_year_num_voters']]\n",
    "X.fillna(0, inplace=True)\n",
    "X = sm.add_constant(X)\n",
    "\n",
    "model = sm.Logit(y, X)\n",
    "results = model.fit()\n",
    "print(results.summary())\n"
   ]
  },
  {
   "cell_type": "markdown",
   "metadata": {},
   "source": [
    "Logistic regression on having or not better reviews after five years. Features that have negative influence: number of languages, nuber of genre, and number of voters after one year. This sugests that the wider the audience, the more commercialized a certain movie is the worst it's reviews are gonna be in 5 years. <br>\n",
    "In recent years we're making movies that age better. <br>\n",
    "On average movies have a worst rating after five years. "
   ]
  },
  {
   "cell_type": "code",
   "execution_count": null,
   "metadata": {},
   "outputs": [],
   "source": [
    "y = (ratings_metadata.after_five_year_rating - ratings_metadata.after_one_year_rating) * (ratings_metadata.five_year_num_voters - ratings_metadata.one_year_num_voters)\n",
    "y = (y > 0).astype(int)\n",
    "X = ratings_metadata[['box office revenue', 'year', 'runtime', 'n_language', 'n_genre']]\n",
    "X.fillna(0, inplace=True)\n",
    "X = sm.add_constant(X)\n",
    "\n",
    "model = sm.OLS(y, X)\n",
    "results = model.fit()\n",
    "print(results.summary())"
   ]
  },
  {
   "cell_type": "markdown",
   "metadata": {},
   "source": [
    "Here we regress on the difference in ratings weighted by the number of voters, the results are similar to before"
   ]
  },
  {
   "cell_type": "markdown",
   "metadata": {},
   "source": [
    "## Most important features over time"
   ]
  },
  {
   "cell_type": "code",
   "execution_count": null,
   "metadata": {},
   "outputs": [],
   "source": [
    "res = pd.read_csv('data/movies_imdb_ids.csv')"
   ]
  },
  {
   "cell_type": "code",
   "execution_count": null,
   "metadata": {},
   "outputs": [],
   "source": [
    "res['release date'] = pd.to_datetime(res['release date'], format='%Y-%m-%d') # convert to datetime format\n",
    "res = res.loc[res['release date']  > datetime(2004, 1, 1)].copy()  # only consider dates after 2004 (before imdb didn't exist)\n",
    "res = res.loc[res['box office revenue'].notna()].copy() # remove ones without box office revenue\n",
    "res.reset_index(inplace=True, drop=True)\n",
    "res = res.loc[:, ~res.columns.str.contains('^Unnamed')]  # dropping unnamed columns\n",
    "res.fillna(res.mean(), inplace=True)\n"
   ]
  },
  {
   "cell_type": "code",
   "execution_count": null,
   "metadata": {},
   "outputs": [],
   "source": [
    "from datetime import * \n",
    "\n",
    "days_range = 700\n",
    "\n",
    "start_range = datetime(1920, 1, 1)\n",
    "end_range = datetime(1920, 1, 1) + timedelta(days_range)\n",
    "max_date = res['release date'].max()\n",
    "\n",
    "res = res.loc[res['release date'] >= start_range].copy(deep = True)\n",
    "\n",
    "while start_range < max_date: \n",
    "    res.loc[(res['release date'] >= start_range) & (res['release date'] < end_range), ('release date')]  = start_range\n",
    "    start_range = end_range\n",
    "    end_range = end_range + timedelta(days_range)"
   ]
  },
  {
   "cell_type": "code",
   "execution_count": null,
   "metadata": {},
   "outputs": [],
   "source": [
    "ratings_df = pd.read_csv('data/imbd_ratings.csv') \n",
    "ratings_df = ratings_df.set_index(ratings_df.iloc[:, 0])\n",
    "ratings_df = ratings_df.loc[:, ~ratings_df.columns.str.contains('^Unnamed')] \n",
    "\n",
    "ratings_metadata = res.merge(ratings_df, how ='right', left_on='tconst', right_index=True)\n",
    "ratings_metadata.columns"
   ]
  },
  {
   "cell_type": "code",
   "execution_count": null,
   "metadata": {},
   "outputs": [],
   "source": [
    "import statsmodels.api as sm\n",
    "\n",
    "\n",
    "y = ratings_metadata[['box office revenue']]\n",
    "X = ratings_metadata[['runtime', 'isAdult', 'year', 'after_one_year_rating', 'n_language', 'n_genre', 'one_year_num_voters', ]]\n",
    "X.fillna(0, inplace=True)\n",
    "X = sm.add_constant(X)\n",
    "\n",
    "model = sm.OLS(y, X.astype(float))\n",
    "results = model.fit()\n",
    "print(results.summary())"
   ]
  },
  {
   "cell_type": "code",
   "execution_count": null,
   "metadata": {},
   "outputs": [],
   "source": [
    "for name, group in ratings_metadata.groupby('release date'): \n",
    "    y = group[['box office revenue']]\n",
    "    X = group[['runtime', 'isAdult', 'year', 'after_one_year_rating', 'n_language', 'n_genre', 'one_year_num_voters', ]].copy()\n",
    "    X.fillna(0, inplace=True)\n",
    "    X = sm.add_constant(X)\n",
    "\n",
    "    model = sm.OLS(y, X.astype(float))\n",
    "    results = model.fit()\n",
    "    print(name)\n",
    "    print(results.summary())\n",
    "    print('\\n\\n\\n')"
   ]
  }
 ],
 "metadata": {
  "kernelspec": {
   "display_name": "Python 3 (ipykernel)",
   "language": "python",
   "name": "python3"
  },
  "language_info": {
   "codemirror_mode": {
    "name": "ipython",
    "version": 3
   },
   "file_extension": ".py",
   "mimetype": "text/x-python",
   "name": "python",
   "nbconvert_exporter": "python",
   "pygments_lexer": "ipython3",
   "version": "3.11.4"
  }
 },
 "nbformat": 4,
 "nbformat_minor": 5
}
